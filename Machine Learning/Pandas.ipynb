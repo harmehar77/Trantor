{
 "cells": [
  {
   "cell_type": "code",
   "execution_count": 6,
   "id": "de9c3828-f4d0-4791-ac0f-33d59166abe8",
   "metadata": {},
   "outputs": [],
   "source": [
    "import pandas as pd\n",
    "import numpy as np"
   ]
  },
  {
   "cell_type": "code",
   "execution_count": 5,
   "id": "31267eaa",
   "metadata": {},
   "outputs": [],
   "source": [
    "# df = pd.read_csv('archive/Housing.csv')\n",
    "# df"
   ]
  },
  {
   "cell_type": "code",
   "execution_count": 22,
   "id": "70100894",
   "metadata": {},
   "outputs": [
    {
     "data": {
      "text/html": [
       "<div>\n",
       "<style scoped>\n",
       "    .dataframe tbody tr th:only-of-type {\n",
       "        vertical-align: middle;\n",
       "    }\n",
       "\n",
       "    .dataframe tbody tr th {\n",
       "        vertical-align: top;\n",
       "    }\n",
       "\n",
       "    .dataframe thead th {\n",
       "        text-align: right;\n",
       "    }\n",
       "</style>\n",
       "<table border=\"1\" class=\"dataframe\">\n",
       "  <thead>\n",
       "    <tr style=\"text-align: right;\">\n",
       "      <th></th>\n",
       "      <th>C1</th>\n",
       "      <th>C2</th>\n",
       "      <th>C3</th>\n",
       "      <th>C4</th>\n",
       "      <th>C5</th>\n",
       "    </tr>\n",
       "  </thead>\n",
       "  <tbody>\n",
       "    <tr>\n",
       "      <th>Row1</th>\n",
       "      <td>9</td>\n",
       "      <td>99</td>\n",
       "      <td>66</td>\n",
       "      <td>32</td>\n",
       "      <td>19</td>\n",
       "    </tr>\n",
       "    <tr>\n",
       "      <th>Row2</th>\n",
       "      <td>20</td>\n",
       "      <td>30</td>\n",
       "      <td>18</td>\n",
       "      <td>58</td>\n",
       "      <td>36</td>\n",
       "    </tr>\n",
       "    <tr>\n",
       "      <th>Row3</th>\n",
       "      <td>72</td>\n",
       "      <td>87</td>\n",
       "      <td>71</td>\n",
       "      <td>77</td>\n",
       "      <td>97</td>\n",
       "    </tr>\n",
       "    <tr>\n",
       "      <th>Row4</th>\n",
       "      <td>67</td>\n",
       "      <td>98</td>\n",
       "      <td>56</td>\n",
       "      <td>98</td>\n",
       "      <td>41</td>\n",
       "    </tr>\n",
       "  </tbody>\n",
       "</table>\n",
       "</div>"
      ],
      "text/plain": [
       "      C1  C2  C3  C4  C5\n",
       "Row1   9  99  66  32  19\n",
       "Row2  20  30  18  58  36\n",
       "Row3  72  87  71  77  97\n",
       "Row4  67  98  56  98  41"
      ]
     },
     "execution_count": 22,
     "metadata": {},
     "output_type": "execute_result"
    }
   ],
   "source": [
    "abc = pd.DataFrame(np.random.randint(1,100,size=(4,5)),index=[\"Row1\",\"Row2\",\"Row3\",\"Row4\"],columns=[\"C1\",\"C2\",\"C3\",\"C4\",\"C5\"])\n",
    "abc"
   ]
  },
  {
   "cell_type": "code",
   "execution_count": 21,
   "id": "c457ab4c",
   "metadata": {},
   "outputs": [],
   "source": [
    "abc.to_csv('created.csv')"
   ]
  },
  {
   "cell_type": "code",
   "execution_count": 26,
   "id": "351086f8",
   "metadata": {},
   "outputs": [
    {
     "name": "stdout",
     "output_type": "stream",
     "text": [
      "C1    20\n",
      "C2    30\n",
      "C3    18\n",
      "C4    58\n",
      "C5    36\n",
      "Name: Row2, dtype: int64\n",
      "<class 'pandas.core.series.Series'>\n"
     ]
    }
   ],
   "source": [
    "print(abc.loc['Row2'])\n",
    "print(type(abc.loc['Row2']))"
   ]
  },
  {
   "cell_type": "code",
   "execution_count": 35,
   "id": "06db6a17",
   "metadata": {},
   "outputs": [
    {
     "name": "stdout",
     "output_type": "stream",
     "text": [
      "      C1  C2  C3  C4\n",
      "Row1   9  99  66  32\n",
      "Row2  20  30  18  58\n",
      "Row3  72  87  71  77\n",
      "<class 'pandas.core.frame.DataFrame'>\n"
     ]
    }
   ],
   "source": [
    "print(abc.iloc[0:3,0:4])\n",
    "print(type(abc.iloc[0:3,0:5]))"
   ]
  },
  {
   "cell_type": "code",
   "execution_count": 45,
   "id": "83dceb0c",
   "metadata": {},
   "outputs": [
    {
     "name": "stdout",
     "output_type": "stream",
     "text": [
      "[[ 9 99 66 32 19]\n",
      " [20 30 18 58 36]]\n",
      "<class 'numpy.ndarray'>\n"
     ]
    }
   ],
   "source": [
    "arr1 = abc.iloc[0:2,].values\n",
    "print(arr1)\n",
    "print(type(arr1))"
   ]
  },
  {
   "cell_type": "code",
   "execution_count": null,
   "id": "2046f7f1",
   "metadata": {},
   "outputs": [],
   "source": []
  }
 ],
 "metadata": {
  "kernelspec": {
   "display_name": "Python 3 (ipykernel)",
   "language": "python",
   "name": "python3"
  },
  "language_info": {
   "codemirror_mode": {
    "name": "ipython",
    "version": 3
   },
   "file_extension": ".py",
   "mimetype": "text/x-python",
   "name": "python",
   "nbconvert_exporter": "python",
   "pygments_lexer": "ipython3",
   "version": "3.10.12"
  }
 },
 "nbformat": 4,
 "nbformat_minor": 5
}
