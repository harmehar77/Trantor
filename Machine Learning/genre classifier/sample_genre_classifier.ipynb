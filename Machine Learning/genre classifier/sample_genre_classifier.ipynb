{
 "cells": [
  {
   "cell_type": "markdown",
   "id": "521858c1",
   "metadata": {
    "papermill": {
     "duration": 0.017682,
     "end_time": "2023-12-12T16:54:04.003584",
     "exception": false,
     "start_time": "2023-12-12T16:54:03.985902",
     "status": "completed"
    },
    "tags": []
   },
   "source": [
    "# Music Genre Classification"
   ]
  },
  {
   "cell_type": "code",
   "execution_count": 1,
   "id": "8a1d0f31",
   "metadata": {
    "execution": {
     "iopub.execute_input": "2023-12-12T16:54:04.043545Z",
     "iopub.status.busy": "2023-12-12T16:54:04.042852Z",
     "iopub.status.idle": "2023-12-12T16:54:11.382464Z",
     "shell.execute_reply": "2023-12-12T16:54:11.380533Z"
    },
    "papermill": {
     "duration": 7.364226,
     "end_time": "2023-12-12T16:54:11.385723",
     "exception": false,
     "start_time": "2023-12-12T16:54:04.021497",
     "status": "completed"
    },
    "scrolled": true,
    "tags": []
   },
   "outputs": [],
   "source": [
    "%matplotlib inline\n",
    "\n",
    "import warnings\n",
    "from numba.core.errors import NumbaDeprecationWarning, NumbaPendingDeprecationWarning\n",
    "\n",
    "warnings.filterwarnings(\"ignore\", message=\".*The 'nopython' keyword.*\")\n",
    "warnings.simplefilter('ignore', category=NumbaDeprecationWarning)\n",
    "\n",
    "import pandas as pd\n",
    "import numpy as np\n",
    "from ydata_profiling import ProfileReport\n",
    "\n",
    "import matplotlib.pyplot as plt\n",
    "import seaborn as sn\n",
    "\n",
    "from sklearn.linear_model import LogisticRegression\n",
    "from sklearn.feature_extraction import DictVectorizer\n",
    "from sklearn.model_selection import train_test_split\n",
    "\n",
    "from sklearn.tree import DecisionTreeClassifier, export_text\n",
    "from sklearn.metrics import accuracy_score, roc_auc_score\n",
    "from sklearn.ensemble import RandomForestClassifier\n",
    "from sklearn.preprocessing import LabelEncoder\n",
    "\n",
    "from tqdm.auto import tqdm, trange\n",
    "import pickle"
   ]
  },
  {
   "cell_type": "code",
   "execution_count": 2,
   "id": "05caa7b5",
   "metadata": {
    "execution": {
     "iopub.execute_input": "2023-12-12T16:54:11.429724Z",
     "iopub.status.busy": "2023-12-12T16:54:11.429103Z",
     "iopub.status.idle": "2023-12-12T16:54:12.173351Z",
     "shell.execute_reply": "2023-12-12T16:54:12.172107Z"
    },
    "papermill": {
     "duration": 0.770647,
     "end_time": "2023-12-12T16:54:12.175792",
     "exception": false,
     "start_time": "2023-12-12T16:54:11.405145",
     "status": "completed"
    },
    "tags": []
   },
   "outputs": [
    {
     "data": {
      "text/html": [
       "<div>\n",
       "<style scoped>\n",
       "    .dataframe tbody tr th:only-of-type {\n",
       "        vertical-align: middle;\n",
       "    }\n",
       "\n",
       "    .dataframe tbody tr th {\n",
       "        vertical-align: top;\n",
       "    }\n",
       "\n",
       "    .dataframe thead th {\n",
       "        text-align: right;\n",
       "    }\n",
       "</style>\n",
       "<table border=\"1\" class=\"dataframe\">\n",
       "  <thead>\n",
       "    <tr style=\"text-align: right;\">\n",
       "      <th></th>\n",
       "      <th>Unnamed: 0</th>\n",
       "      <th>track_id</th>\n",
       "      <th>artists</th>\n",
       "      <th>album_name</th>\n",
       "      <th>track_name</th>\n",
       "      <th>popularity</th>\n",
       "      <th>duration_ms</th>\n",
       "      <th>explicit</th>\n",
       "      <th>danceability</th>\n",
       "      <th>energy</th>\n",
       "      <th>...</th>\n",
       "      <th>loudness</th>\n",
       "      <th>mode</th>\n",
       "      <th>speechiness</th>\n",
       "      <th>acousticness</th>\n",
       "      <th>instrumentalness</th>\n",
       "      <th>liveness</th>\n",
       "      <th>valence</th>\n",
       "      <th>tempo</th>\n",
       "      <th>time_signature</th>\n",
       "      <th>track_genre</th>\n",
       "    </tr>\n",
       "  </thead>\n",
       "  <tbody>\n",
       "    <tr>\n",
       "      <th>0</th>\n",
       "      <td>0</td>\n",
       "      <td>5SuOikwiRyPMVoIQDJUgSV</td>\n",
       "      <td>Gen Hoshino</td>\n",
       "      <td>Comedy</td>\n",
       "      <td>Comedy</td>\n",
       "      <td>73</td>\n",
       "      <td>230666</td>\n",
       "      <td>False</td>\n",
       "      <td>0.676</td>\n",
       "      <td>0.4610</td>\n",
       "      <td>...</td>\n",
       "      <td>-6.746</td>\n",
       "      <td>0</td>\n",
       "      <td>0.1430</td>\n",
       "      <td>0.0322</td>\n",
       "      <td>0.000001</td>\n",
       "      <td>0.3580</td>\n",
       "      <td>0.715</td>\n",
       "      <td>87.917</td>\n",
       "      <td>4</td>\n",
       "      <td>acoustic</td>\n",
       "    </tr>\n",
       "    <tr>\n",
       "      <th>1</th>\n",
       "      <td>1</td>\n",
       "      <td>4qPNDBW1i3p13qLCt0Ki3A</td>\n",
       "      <td>Ben Woodward</td>\n",
       "      <td>Ghost (Acoustic)</td>\n",
       "      <td>Ghost - Acoustic</td>\n",
       "      <td>55</td>\n",
       "      <td>149610</td>\n",
       "      <td>False</td>\n",
       "      <td>0.420</td>\n",
       "      <td>0.1660</td>\n",
       "      <td>...</td>\n",
       "      <td>-17.235</td>\n",
       "      <td>1</td>\n",
       "      <td>0.0763</td>\n",
       "      <td>0.9240</td>\n",
       "      <td>0.000006</td>\n",
       "      <td>0.1010</td>\n",
       "      <td>0.267</td>\n",
       "      <td>77.489</td>\n",
       "      <td>4</td>\n",
       "      <td>acoustic</td>\n",
       "    </tr>\n",
       "    <tr>\n",
       "      <th>2</th>\n",
       "      <td>2</td>\n",
       "      <td>1iJBSr7s7jYXzM8EGcbK5b</td>\n",
       "      <td>Ingrid Michaelson;ZAYN</td>\n",
       "      <td>To Begin Again</td>\n",
       "      <td>To Begin Again</td>\n",
       "      <td>57</td>\n",
       "      <td>210826</td>\n",
       "      <td>False</td>\n",
       "      <td>0.438</td>\n",
       "      <td>0.3590</td>\n",
       "      <td>...</td>\n",
       "      <td>-9.734</td>\n",
       "      <td>1</td>\n",
       "      <td>0.0557</td>\n",
       "      <td>0.2100</td>\n",
       "      <td>0.000000</td>\n",
       "      <td>0.1170</td>\n",
       "      <td>0.120</td>\n",
       "      <td>76.332</td>\n",
       "      <td>4</td>\n",
       "      <td>acoustic</td>\n",
       "    </tr>\n",
       "    <tr>\n",
       "      <th>3</th>\n",
       "      <td>3</td>\n",
       "      <td>6lfxq3CG4xtTiEg7opyCyx</td>\n",
       "      <td>Kina Grannis</td>\n",
       "      <td>Crazy Rich Asians (Original Motion Picture Sou...</td>\n",
       "      <td>Can't Help Falling In Love</td>\n",
       "      <td>71</td>\n",
       "      <td>201933</td>\n",
       "      <td>False</td>\n",
       "      <td>0.266</td>\n",
       "      <td>0.0596</td>\n",
       "      <td>...</td>\n",
       "      <td>-18.515</td>\n",
       "      <td>1</td>\n",
       "      <td>0.0363</td>\n",
       "      <td>0.9050</td>\n",
       "      <td>0.000071</td>\n",
       "      <td>0.1320</td>\n",
       "      <td>0.143</td>\n",
       "      <td>181.740</td>\n",
       "      <td>3</td>\n",
       "      <td>acoustic</td>\n",
       "    </tr>\n",
       "    <tr>\n",
       "      <th>4</th>\n",
       "      <td>4</td>\n",
       "      <td>5vjLSffimiIP26QG5WcN2K</td>\n",
       "      <td>Chord Overstreet</td>\n",
       "      <td>Hold On</td>\n",
       "      <td>Hold On</td>\n",
       "      <td>82</td>\n",
       "      <td>198853</td>\n",
       "      <td>False</td>\n",
       "      <td>0.618</td>\n",
       "      <td>0.4430</td>\n",
       "      <td>...</td>\n",
       "      <td>-9.681</td>\n",
       "      <td>1</td>\n",
       "      <td>0.0526</td>\n",
       "      <td>0.4690</td>\n",
       "      <td>0.000000</td>\n",
       "      <td>0.0829</td>\n",
       "      <td>0.167</td>\n",
       "      <td>119.949</td>\n",
       "      <td>4</td>\n",
       "      <td>acoustic</td>\n",
       "    </tr>\n",
       "  </tbody>\n",
       "</table>\n",
       "<p>5 rows × 21 columns</p>\n",
       "</div>"
      ],
      "text/plain": [
       "   Unnamed: 0                track_id                 artists  \\\n",
       "0           0  5SuOikwiRyPMVoIQDJUgSV             Gen Hoshino   \n",
       "1           1  4qPNDBW1i3p13qLCt0Ki3A            Ben Woodward   \n",
       "2           2  1iJBSr7s7jYXzM8EGcbK5b  Ingrid Michaelson;ZAYN   \n",
       "3           3  6lfxq3CG4xtTiEg7opyCyx            Kina Grannis   \n",
       "4           4  5vjLSffimiIP26QG5WcN2K        Chord Overstreet   \n",
       "\n",
       "                                          album_name  \\\n",
       "0                                             Comedy   \n",
       "1                                   Ghost (Acoustic)   \n",
       "2                                     To Begin Again   \n",
       "3  Crazy Rich Asians (Original Motion Picture Sou...   \n",
       "4                                            Hold On   \n",
       "\n",
       "                   track_name  popularity  duration_ms  explicit  \\\n",
       "0                      Comedy          73       230666     False   \n",
       "1            Ghost - Acoustic          55       149610     False   \n",
       "2              To Begin Again          57       210826     False   \n",
       "3  Can't Help Falling In Love          71       201933     False   \n",
       "4                     Hold On          82       198853     False   \n",
       "\n",
       "   danceability  energy  ...  loudness  mode  speechiness  acousticness  \\\n",
       "0         0.676  0.4610  ...    -6.746     0       0.1430        0.0322   \n",
       "1         0.420  0.1660  ...   -17.235     1       0.0763        0.9240   \n",
       "2         0.438  0.3590  ...    -9.734     1       0.0557        0.2100   \n",
       "3         0.266  0.0596  ...   -18.515     1       0.0363        0.9050   \n",
       "4         0.618  0.4430  ...    -9.681     1       0.0526        0.4690   \n",
       "\n",
       "   instrumentalness  liveness  valence    tempo  time_signature  track_genre  \n",
       "0          0.000001    0.3580    0.715   87.917               4     acoustic  \n",
       "1          0.000006    0.1010    0.267   77.489               4     acoustic  \n",
       "2          0.000000    0.1170    0.120   76.332               4     acoustic  \n",
       "3          0.000071    0.1320    0.143  181.740               3     acoustic  \n",
       "4          0.000000    0.0829    0.167  119.949               4     acoustic  \n",
       "\n",
       "[5 rows x 21 columns]"
      ]
     },
     "execution_count": 2,
     "metadata": {},
     "output_type": "execute_result"
    }
   ],
   "source": [
    "df_full = pd.read_csv('/kaggle/input/spotify-tracks-genre-dataset/train.csv')\n",
    "df_full.head()"
   ]
  },
  {
   "cell_type": "markdown",
   "id": "29c0404f",
   "metadata": {
    "papermill": {
     "duration": 0.017037,
     "end_time": "2023-12-12T16:54:12.210169",
     "exception": false,
     "start_time": "2023-12-12T16:54:12.193132",
     "status": "completed"
    },
    "tags": []
   },
   "source": [
    "# EDA"
   ]
  },
  {
   "cell_type": "code",
   "execution_count": 3,
   "id": "5cfb909d",
   "metadata": {
    "execution": {
     "iopub.execute_input": "2023-12-12T16:54:12.247357Z",
     "iopub.status.busy": "2023-12-12T16:54:12.246518Z",
     "iopub.status.idle": "2023-12-12T16:54:12.274838Z",
     "shell.execute_reply": "2023-12-12T16:54:12.273406Z"
    },
    "papermill": {
     "duration": 0.049737,
     "end_time": "2023-12-12T16:54:12.277347",
     "exception": false,
     "start_time": "2023-12-12T16:54:12.227610",
     "status": "completed"
    },
    "tags": []
   },
   "outputs": [
    {
     "data": {
      "text/plain": [
       "Unnamed: 0          0\n",
       "track_id            0\n",
       "artists             1\n",
       "album_name          1\n",
       "track_name          1\n",
       "popularity          0\n",
       "duration_ms         0\n",
       "explicit            0\n",
       "danceability        0\n",
       "energy              0\n",
       "key                 0\n",
       "loudness            0\n",
       "mode                0\n",
       "speechiness         0\n",
       "acousticness        0\n",
       "instrumentalness    0\n",
       "liveness            0\n",
       "valence             0\n",
       "tempo               0\n",
       "time_signature      0\n",
       "track_genre         0\n",
       "dtype: int64"
      ]
     },
     "execution_count": 3,
     "metadata": {},
     "output_type": "execute_result"
    }
   ],
   "source": [
    "df_full.isnull().sum()"
   ]
  },
  {
   "cell_type": "markdown",
   "id": "7173bb25",
   "metadata": {
    "papermill": {
     "duration": 0.017959,
     "end_time": "2023-12-12T16:54:12.372041",
     "exception": false,
     "start_time": "2023-12-12T16:54:12.354082",
     "status": "completed"
    },
    "tags": []
   },
   "source": [
    "**Removing columns Unnamed, track_id, artists, album_name, track_name, popularity and explicit as these are all almost unique and we don't want that in our training.**"
   ]
  },
  {
   "cell_type": "code",
   "execution_count": 4,
   "id": "eca7aad5",
   "metadata": {
    "execution": {
     "iopub.execute_input": "2023-12-12T16:54:12.409013Z",
     "iopub.status.busy": "2023-12-12T16:54:12.408614Z",
     "iopub.status.idle": "2023-12-12T16:54:12.434366Z",
     "shell.execute_reply": "2023-12-12T16:54:12.433233Z"
    },
    "papermill": {
     "duration": 0.046541,
     "end_time": "2023-12-12T16:54:12.436319",
     "exception": false,
     "start_time": "2023-12-12T16:54:12.389778",
     "status": "completed"
    },
    "tags": []
   },
   "outputs": [
    {
     "data": {
      "text/html": [
       "<div>\n",
       "<style scoped>\n",
       "    .dataframe tbody tr th:only-of-type {\n",
       "        vertical-align: middle;\n",
       "    }\n",
       "\n",
       "    .dataframe tbody tr th {\n",
       "        vertical-align: top;\n",
       "    }\n",
       "\n",
       "    .dataframe thead th {\n",
       "        text-align: right;\n",
       "    }\n",
       "</style>\n",
       "<table border=\"1\" class=\"dataframe\">\n",
       "  <thead>\n",
       "    <tr style=\"text-align: right;\">\n",
       "      <th></th>\n",
       "      <th>duration_ms</th>\n",
       "      <th>danceability</th>\n",
       "      <th>energy</th>\n",
       "      <th>key</th>\n",
       "      <th>loudness</th>\n",
       "      <th>mode</th>\n",
       "      <th>speechiness</th>\n",
       "      <th>acousticness</th>\n",
       "      <th>instrumentalness</th>\n",
       "      <th>liveness</th>\n",
       "      <th>valence</th>\n",
       "      <th>tempo</th>\n",
       "      <th>time_signature</th>\n",
       "      <th>track_genre</th>\n",
       "    </tr>\n",
       "  </thead>\n",
       "  <tbody>\n",
       "    <tr>\n",
       "      <th>0</th>\n",
       "      <td>230666</td>\n",
       "      <td>0.676</td>\n",
       "      <td>0.4610</td>\n",
       "      <td>1</td>\n",
       "      <td>-6.746</td>\n",
       "      <td>0</td>\n",
       "      <td>0.1430</td>\n",
       "      <td>0.0322</td>\n",
       "      <td>0.000001</td>\n",
       "      <td>0.3580</td>\n",
       "      <td>0.715</td>\n",
       "      <td>87.917</td>\n",
       "      <td>4</td>\n",
       "      <td>acoustic</td>\n",
       "    </tr>\n",
       "    <tr>\n",
       "      <th>1</th>\n",
       "      <td>149610</td>\n",
       "      <td>0.420</td>\n",
       "      <td>0.1660</td>\n",
       "      <td>1</td>\n",
       "      <td>-17.235</td>\n",
       "      <td>1</td>\n",
       "      <td>0.0763</td>\n",
       "      <td>0.9240</td>\n",
       "      <td>0.000006</td>\n",
       "      <td>0.1010</td>\n",
       "      <td>0.267</td>\n",
       "      <td>77.489</td>\n",
       "      <td>4</td>\n",
       "      <td>acoustic</td>\n",
       "    </tr>\n",
       "    <tr>\n",
       "      <th>2</th>\n",
       "      <td>210826</td>\n",
       "      <td>0.438</td>\n",
       "      <td>0.3590</td>\n",
       "      <td>0</td>\n",
       "      <td>-9.734</td>\n",
       "      <td>1</td>\n",
       "      <td>0.0557</td>\n",
       "      <td>0.2100</td>\n",
       "      <td>0.000000</td>\n",
       "      <td>0.1170</td>\n",
       "      <td>0.120</td>\n",
       "      <td>76.332</td>\n",
       "      <td>4</td>\n",
       "      <td>acoustic</td>\n",
       "    </tr>\n",
       "    <tr>\n",
       "      <th>3</th>\n",
       "      <td>201933</td>\n",
       "      <td>0.266</td>\n",
       "      <td>0.0596</td>\n",
       "      <td>0</td>\n",
       "      <td>-18.515</td>\n",
       "      <td>1</td>\n",
       "      <td>0.0363</td>\n",
       "      <td>0.9050</td>\n",
       "      <td>0.000071</td>\n",
       "      <td>0.1320</td>\n",
       "      <td>0.143</td>\n",
       "      <td>181.740</td>\n",
       "      <td>3</td>\n",
       "      <td>acoustic</td>\n",
       "    </tr>\n",
       "    <tr>\n",
       "      <th>4</th>\n",
       "      <td>198853</td>\n",
       "      <td>0.618</td>\n",
       "      <td>0.4430</td>\n",
       "      <td>2</td>\n",
       "      <td>-9.681</td>\n",
       "      <td>1</td>\n",
       "      <td>0.0526</td>\n",
       "      <td>0.4690</td>\n",
       "      <td>0.000000</td>\n",
       "      <td>0.0829</td>\n",
       "      <td>0.167</td>\n",
       "      <td>119.949</td>\n",
       "      <td>4</td>\n",
       "      <td>acoustic</td>\n",
       "    </tr>\n",
       "  </tbody>\n",
       "</table>\n",
       "</div>"
      ],
      "text/plain": [
       "   duration_ms  danceability  energy  key  loudness  mode  speechiness  \\\n",
       "0       230666         0.676  0.4610    1    -6.746     0       0.1430   \n",
       "1       149610         0.420  0.1660    1   -17.235     1       0.0763   \n",
       "2       210826         0.438  0.3590    0    -9.734     1       0.0557   \n",
       "3       201933         0.266  0.0596    0   -18.515     1       0.0363   \n",
       "4       198853         0.618  0.4430    2    -9.681     1       0.0526   \n",
       "\n",
       "   acousticness  instrumentalness  liveness  valence    tempo  time_signature  \\\n",
       "0        0.0322          0.000001    0.3580    0.715   87.917               4   \n",
       "1        0.9240          0.000006    0.1010    0.267   77.489               4   \n",
       "2        0.2100          0.000000    0.1170    0.120   76.332               4   \n",
       "3        0.9050          0.000071    0.1320    0.143  181.740               3   \n",
       "4        0.4690          0.000000    0.0829    0.167  119.949               4   \n",
       "\n",
       "  track_genre  \n",
       "0    acoustic  \n",
       "1    acoustic  \n",
       "2    acoustic  \n",
       "3    acoustic  \n",
       "4    acoustic  "
      ]
     },
     "execution_count": 4,
     "metadata": {},
     "output_type": "execute_result"
    }
   ],
   "source": [
    "df = df_full\n",
    "\n",
    "del df['Unnamed: 0']\n",
    "del df['track_id']\n",
    "del df['artists']\n",
    "del df['album_name']\n",
    "del df['track_name']\n",
    "del df['popularity']\n",
    "del df['explicit']\n",
    "\n",
    "df.head()"
   ]
  },
  {
   "cell_type": "markdown",
   "id": "6cf460f2",
   "metadata": {
    "papermill": {
     "duration": 0.018491,
     "end_time": "2023-12-12T16:54:12.472926",
     "exception": false,
     "start_time": "2023-12-12T16:54:12.454435",
     "status": "completed"
    },
    "tags": []
   },
   "source": [
    "**Renaming track_genre column to genre to make it easier to reference**"
   ]
  },
  {
   "cell_type": "code",
   "execution_count": 5,
   "id": "ec952848",
   "metadata": {
    "execution": {
     "iopub.execute_input": "2023-12-12T16:54:12.512132Z",
     "iopub.status.busy": "2023-12-12T16:54:12.511768Z",
     "iopub.status.idle": "2023-12-12T16:54:12.520162Z",
     "shell.execute_reply": "2023-12-12T16:54:12.519345Z"
    },
    "papermill": {
     "duration": 0.02969,
     "end_time": "2023-12-12T16:54:12.521883",
     "exception": false,
     "start_time": "2023-12-12T16:54:12.492193",
     "status": "completed"
    },
    "tags": []
   },
   "outputs": [],
   "source": [
    "df.rename(columns = {'track_genre':'genre'}, inplace = True)"
   ]
  },
  {
   "cell_type": "code",
   "execution_count": 6,
   "id": "ea037ab0",
   "metadata": {
    "execution": {
     "iopub.execute_input": "2023-12-12T16:54:12.564932Z",
     "iopub.status.busy": "2023-12-12T16:54:12.564501Z",
     "iopub.status.idle": "2023-12-12T16:54:12.578487Z",
     "shell.execute_reply": "2023-12-12T16:54:12.576910Z"
    },
    "papermill": {
     "duration": 0.0389,
     "end_time": "2023-12-12T16:54:12.581073",
     "exception": false,
     "start_time": "2023-12-12T16:54:12.542173",
     "status": "completed"
    },
    "scrolled": true,
    "tags": []
   },
   "outputs": [
    {
     "data": {
      "text/plain": [
       "['duration_ms',\n",
       " 'danceability',\n",
       " 'energy',\n",
       " 'key',\n",
       " 'loudness',\n",
       " 'mode',\n",
       " 'speechiness',\n",
       " 'acousticness',\n",
       " 'instrumentalness',\n",
       " 'liveness',\n",
       " 'valence',\n",
       " 'tempo',\n",
       " 'time_signature']"
      ]
     },
     "execution_count": 6,
     "metadata": {},
     "output_type": "execute_result"
    }
   ],
   "source": [
    "numerical = df.select_dtypes(include=np.number).columns.tolist()\n",
    "numerical"
   ]
  },
  {
   "cell_type": "code",
   "execution_count": 7,
   "id": "729ce413",
   "metadata": {
    "execution": {
     "iopub.execute_input": "2023-12-12T16:54:12.620956Z",
     "iopub.status.busy": "2023-12-12T16:54:12.619717Z",
     "iopub.status.idle": "2023-12-12T16:54:12.628885Z",
     "shell.execute_reply": "2023-12-12T16:54:12.627844Z"
    },
    "papermill": {
     "duration": 0.031661,
     "end_time": "2023-12-12T16:54:12.631520",
     "exception": false,
     "start_time": "2023-12-12T16:54:12.599859",
     "status": "completed"
    },
    "tags": []
   },
   "outputs": [
    {
     "data": {
      "text/plain": [
       "['genre']"
      ]
     },
     "execution_count": 7,
     "metadata": {},
     "output_type": "execute_result"
    }
   ],
   "source": [
    "categorical = df.select_dtypes(exclude=np.number).columns.tolist()\n",
    "categorical"
   ]
  },
  {
   "cell_type": "code",
   "execution_count": 8,
   "id": "6a558c67",
   "metadata": {
    "execution": {
     "iopub.execute_input": "2023-12-12T16:54:12.672474Z",
     "iopub.status.busy": "2023-12-12T16:54:12.672093Z",
     "iopub.status.idle": "2023-12-12T16:54:12.691106Z",
     "shell.execute_reply": "2023-12-12T16:54:12.689256Z"
    },
    "papermill": {
     "duration": 0.042191,
     "end_time": "2023-12-12T16:54:12.693747",
     "exception": false,
     "start_time": "2023-12-12T16:54:12.651556",
     "status": "completed"
    },
    "scrolled": true,
    "tags": []
   },
   "outputs": [
    {
     "data": {
      "text/plain": [
       "genre\n",
       "acoustic             1000\n",
       "punk-rock            1000\n",
       "progressive-house    1000\n",
       "power-pop            1000\n",
       "pop                  1000\n",
       "                     ... \n",
       "folk                 1000\n",
       "emo                  1000\n",
       "electronic           1000\n",
       "electro              1000\n",
       "world-music          1000\n",
       "Name: count, Length: 114, dtype: int64"
      ]
     },
     "execution_count": 8,
     "metadata": {},
     "output_type": "execute_result"
    }
   ],
   "source": [
    "df.genre.value_counts()"
   ]
  },
  {
   "cell_type": "code",
   "execution_count": 9,
   "id": "d2bef53c",
   "metadata": {
    "execution": {
     "iopub.execute_input": "2023-12-12T16:54:12.732072Z",
     "iopub.status.busy": "2023-12-12T16:54:12.731635Z",
     "iopub.status.idle": "2023-12-12T16:54:12.745640Z",
     "shell.execute_reply": "2023-12-12T16:54:12.744377Z"
    },
    "papermill": {
     "duration": 0.036402,
     "end_time": "2023-12-12T16:54:12.748563",
     "exception": false,
     "start_time": "2023-12-12T16:54:12.712161",
     "status": "completed"
    },
    "scrolled": true,
    "tags": []
   },
   "outputs": [],
   "source": [
    "df_nums = df.copy()\n",
    "df_nums = df_nums[numerical]"
   ]
  },
  {
   "cell_type": "markdown",
   "id": "49816d65",
   "metadata": {
    "papermill": {
     "duration": 0.020419,
     "end_time": "2023-12-12T16:54:12.787603",
     "exception": false,
     "start_time": "2023-12-12T16:54:12.767184",
     "status": "completed"
    },
    "tags": []
   },
   "source": [
    "**Correlation Matrix**"
   ]
  },
  {
   "cell_type": "code",
   "execution_count": 10,
   "id": "2e0a6867",
   "metadata": {
    "execution": {
     "iopub.execute_input": "2023-12-12T16:54:12.827420Z",
     "iopub.status.busy": "2023-12-12T16:54:12.827064Z",
     "iopub.status.idle": "2023-12-12T16:54:13.623678Z",
     "shell.execute_reply": "2023-12-12T16:54:13.622569Z"
    },
    "papermill": {
     "duration": 0.818286,
     "end_time": "2023-12-12T16:54:13.625556",
     "exception": false,
     "start_time": "2023-12-12T16:54:12.807270",
     "status": "completed"
    },
    "tags": []
   },
   "outputs": [
    {
     "data": {
      "image/png": "[encoded data removed]",
      "text/plain": [
       "<Figure size 1300x600 with 2 Axes>"
      ]
     },
     "metadata": {},
     "output_type": "display_data"
    }
   ],
   "source": [
    "plt.figure(figsize=(13,6))\n",
    "corr_matrix = df_nums.corr()\n",
    "sn.heatmap(corr_matrix, linewidths=.7, annot=True)\n",
    "plt.show()"
   ]
  },
  {
   "cell_type": "markdown",
   "id": "fa9724da",
   "metadata": {
    "papermill": {
     "duration": 0.019868,
     "end_time": "2023-12-12T16:54:13.666747",
     "exception": false,
     "start_time": "2023-12-12T16:54:13.646879",
     "status": "completed"
    },
    "tags": []
   },
   "source": [
    "**Energy and Loudness have the biggest correlations.**"
   ]
  },
  {
   "cell_type": "markdown",
   "id": "29add767",
   "metadata": {
    "papermill": {
     "duration": 0.019803,
     "end_time": "2023-12-12T16:54:13.707054",
     "exception": false,
     "start_time": "2023-12-12T16:54:13.687251",
     "status": "completed"
    },
    "tags": []
   },
   "source": [
    "## Data cleanup"
   ]
  },
  {
   "cell_type": "code",
   "execution_count": 11,
   "id": "1db579f1",
   "metadata": {
    "execution": {
     "iopub.execute_input": "2023-12-12T16:54:13.751196Z",
     "iopub.status.busy": "2023-12-12T16:54:13.750843Z",
     "iopub.status.idle": "2023-12-12T16:54:13.766429Z",
     "shell.execute_reply": "2023-12-12T16:54:13.764708Z"
    },
    "papermill": {
     "duration": 0.040765,
     "end_time": "2023-12-12T16:54:13.769204",
     "exception": false,
     "start_time": "2023-12-12T16:54:13.728439",
     "status": "completed"
    },
    "tags": []
   },
   "outputs": [
    {
     "name": "stdout",
     "output_type": "stream",
     "text": [
      "['acoustic' 'afrobeat' 'alt-rock' 'alternative' 'ambient' 'anime'\n",
      " 'black-metal' 'bluegrass' 'blues' 'brazil' 'breakbeat' 'british'\n",
      " 'cantopop' 'chicago-house' 'children' 'chill' 'classical' 'club' 'comedy'\n",
      " 'country' 'dance' 'dancehall' 'death-metal' 'deep-house' 'detroit-techno'\n",
      " 'disco' 'disney' 'drum-and-bass' 'dub' 'dubstep' 'edm' 'electro'\n",
      " 'electronic' 'emo' 'folk' 'forro' 'french' 'funk' 'garage' 'german'\n",
      " 'gospel' 'goth' 'grindcore' 'groove' 'grunge' 'guitar' 'happy'\n",
      " 'hard-rock' 'hardcore' 'hardstyle' 'heavy-metal' 'hip-hop' 'honky-tonk'\n",
      " 'house' 'idm' 'indian' 'indie-pop' 'indie' 'industrial' 'iranian'\n",
      " 'j-dance' 'j-idol' 'j-pop' 'j-rock' 'jazz' 'k-pop' 'kids' 'latin'\n",
      " 'latino' 'malay' 'mandopop' 'metal' 'metalcore' 'minimal-techno' 'mpb'\n",
      " 'new-age' 'opera' 'pagode' 'party' 'piano' 'pop-film' 'pop' 'power-pop'\n",
      " 'progressive-house' 'psych-rock' 'punk-rock' 'punk' 'r-n-b' 'reggae'\n",
      " 'reggaeton' 'rock-n-roll' 'rock' 'rockabilly' 'romance' 'sad' 'salsa'\n",
      " 'samba' 'sertanejo' 'show-tunes' 'singer-songwriter' 'ska' 'sleep'\n",
      " 'songwriter' 'soul' 'spanish' 'study' 'swedish' 'synth-pop' 'tango'\n",
      " 'techno' 'trance' 'trip-hop' 'turkish' 'world-music']\n"
     ]
    }
   ],
   "source": [
    "classes = df.genre.unique()\n",
    "print(classes)"
   ]
  },
  {
   "cell_type": "markdown",
   "id": "0d6e9384",
   "metadata": {
    "papermill": {
     "duration": 0.021579,
     "end_time": "2023-12-12T16:54:13.813006",
     "exception": false,
     "start_time": "2023-12-12T16:54:13.791427",
     "status": "completed"
    },
    "tags": []
   },
   "source": [
    "**Too many genres and data, we should look to reduce**"
   ]
  },
  {
   "cell_type": "code",
   "execution_count": 12,
   "id": "a5c34212",
   "metadata": {
    "execution": {
     "iopub.execute_input": "2023-12-12T16:54:13.857241Z",
     "iopub.status.busy": "2023-12-12T16:54:13.856523Z",
     "iopub.status.idle": "2023-12-12T16:54:13.863331Z",
     "shell.execute_reply": "2023-12-12T16:54:13.862548Z"
    },
    "papermill": {
     "duration": 0.031636,
     "end_time": "2023-12-12T16:54:13.865534",
     "exception": false,
     "start_time": "2023-12-12T16:54:13.833898",
     "status": "completed"
    },
    "tags": []
   },
   "outputs": [],
   "source": [
    "drop_genres = ['acoustic','alternative','afrobeat','alt-rock','ambient','anime','black-metal','bluegrass','blues','brazil','breakbeat','british','cantopop','chicago-house','children','chill','club','comedy','dancehall','death-metal','deep-house','detroit-techno','disney','drum-and-bass','dub','dubstep','edm','electro','emo','folk','forro','french','funk','garage','german','gospel','goth','grindcore','groove','grunge','guitar','happy','hard-rock','hardcore','hardstyle','heavy-metal','honky-tonk','idm','indian','indie-pop','indie','industrial','iranian','j-dance','j-idol','j-pop','j-rock','k-pop','kids','latin','latino','malay','mandopop','metalcore','minimal-techno','mpb','new-age','opera','pagode','party','piano','pop-film','power-pop','progressive-house','psych-rock','punk-rock','punk','reggae','reggaeton','rock-n-roll','rockabilly','romance','sad','salsa','samba','sertanejo','show-tunes','singer-songwriter','ska','sleep','songwriter','soul','spanish','study','swedish','synth-pop','tango','techno','trance','trip-hop','turkish','world-music']"
   ]
  },
  {
   "cell_type": "code",
   "execution_count": 13,
   "id": "0b488316",
   "metadata": {
    "execution": {
     "iopub.execute_input": "2023-12-12T16:54:13.909173Z",
     "iopub.status.busy": "2023-12-12T16:54:13.908767Z",
     "iopub.status.idle": "2023-12-12T16:54:13.928732Z",
     "shell.execute_reply": "2023-12-12T16:54:13.927522Z"
    },
    "papermill": {
     "duration": 0.044569,
     "end_time": "2023-12-12T16:54:13.931400",
     "exception": false,
     "start_time": "2023-12-12T16:54:13.886831",
     "status": "completed"
    },
    "tags": []
   },
   "outputs": [],
   "source": [
    "df.drop(df[df['genre'].isin(drop_genres)].index, inplace = True)"
   ]
  },
  {
   "cell_type": "code",
   "execution_count": 14,
   "id": "ec862902",
   "metadata": {
    "execution": {
     "iopub.execute_input": "2023-12-12T16:54:13.974431Z",
     "iopub.status.busy": "2023-12-12T16:54:13.974028Z",
     "iopub.status.idle": "2023-12-12T16:54:13.981806Z",
     "shell.execute_reply": "2023-12-12T16:54:13.979960Z"
    },
    "papermill": {
     "duration": 0.031468,
     "end_time": "2023-12-12T16:54:13.984213",
     "exception": false,
     "start_time": "2023-12-12T16:54:13.952745",
     "status": "completed"
    },
    "scrolled": true,
    "tags": []
   },
   "outputs": [
    {
     "name": "stdout",
     "output_type": "stream",
     "text": [
      "['classical' 'country' 'dance' 'disco' 'electronic' 'hip-hop' 'house'\n",
      " 'jazz' 'metal' 'pop' 'r-n-b' 'rock']\n"
     ]
    }
   ],
   "source": [
    "classes = df.genre.unique()\n",
    "print(classes)"
   ]
  },
  {
   "cell_type": "markdown",
   "id": "d754644e",
   "metadata": {
    "papermill": {
     "duration": 0.020258,
     "end_time": "2023-12-12T16:54:14.025192",
     "exception": false,
     "start_time": "2023-12-12T16:54:14.004934",
     "status": "completed"
    },
    "tags": []
   },
   "source": [
    "**Down to 12 genres from 114**"
   ]
  },
  {
   "cell_type": "code",
   "execution_count": 15,
   "id": "f3482104",
   "metadata": {
    "execution": {
     "iopub.execute_input": "2023-12-12T16:54:14.075264Z",
     "iopub.status.busy": "2023-12-12T16:54:14.074066Z",
     "iopub.status.idle": "2023-12-12T16:54:14.101673Z",
     "shell.execute_reply": "2023-12-12T16:54:14.100464Z"
    },
    "papermill": {
     "duration": 0.055142,
     "end_time": "2023-12-12T16:54:14.103565",
     "exception": false,
     "start_time": "2023-12-12T16:54:14.048423",
     "status": "completed"
    },
    "scrolled": true,
    "tags": []
   },
   "outputs": [
    {
     "data": {
      "text/html": [
       "<div>\n",
       "<style scoped>\n",
       "    .dataframe tbody tr th:only-of-type {\n",
       "        vertical-align: middle;\n",
       "    }\n",
       "\n",
       "    .dataframe tbody tr th {\n",
       "        vertical-align: top;\n",
       "    }\n",
       "\n",
       "    .dataframe thead th {\n",
       "        text-align: right;\n",
       "    }\n",
       "</style>\n",
       "<table border=\"1\" class=\"dataframe\">\n",
       "  <thead>\n",
       "    <tr style=\"text-align: right;\">\n",
       "      <th></th>\n",
       "      <th>duration_ms</th>\n",
       "      <th>danceability</th>\n",
       "      <th>energy</th>\n",
       "      <th>key</th>\n",
       "      <th>loudness</th>\n",
       "      <th>mode</th>\n",
       "      <th>speechiness</th>\n",
       "      <th>acousticness</th>\n",
       "      <th>instrumentalness</th>\n",
       "      <th>liveness</th>\n",
       "      <th>valence</th>\n",
       "      <th>tempo</th>\n",
       "      <th>time_signature</th>\n",
       "      <th>genre</th>\n",
       "    </tr>\n",
       "  </thead>\n",
       "  <tbody>\n",
       "    <tr>\n",
       "      <th>0</th>\n",
       "      <td>298266</td>\n",
       "      <td>0.643</td>\n",
       "      <td>0.268</td>\n",
       "      <td>11</td>\n",
       "      <td>-15.073</td>\n",
       "      <td>0</td>\n",
       "      <td>0.0900</td>\n",
       "      <td>0.5930</td>\n",
       "      <td>0.000002</td>\n",
       "      <td>0.316</td>\n",
       "      <td>0.620</td>\n",
       "      <td>143.813</td>\n",
       "      <td>4</td>\n",
       "      <td>classical</td>\n",
       "    </tr>\n",
       "    <tr>\n",
       "      <th>1</th>\n",
       "      <td>482586</td>\n",
       "      <td>0.484</td>\n",
       "      <td>0.898</td>\n",
       "      <td>0</td>\n",
       "      <td>-4.132</td>\n",
       "      <td>1</td>\n",
       "      <td>0.1640</td>\n",
       "      <td>0.3650</td>\n",
       "      <td>0.000000</td>\n",
       "      <td>0.091</td>\n",
       "      <td>0.680</td>\n",
       "      <td>91.975</td>\n",
       "      <td>4</td>\n",
       "      <td>classical</td>\n",
       "    </tr>\n",
       "    <tr>\n",
       "      <th>2</th>\n",
       "      <td>219437</td>\n",
       "      <td>0.608</td>\n",
       "      <td>0.638</td>\n",
       "      <td>11</td>\n",
       "      <td>-6.008</td>\n",
       "      <td>0</td>\n",
       "      <td>0.0292</td>\n",
       "      <td>0.5810</td>\n",
       "      <td>0.017200</td>\n",
       "      <td>0.448</td>\n",
       "      <td>0.439</td>\n",
       "      <td>140.109</td>\n",
       "      <td>4</td>\n",
       "      <td>classical</td>\n",
       "    </tr>\n",
       "    <tr>\n",
       "      <th>3</th>\n",
       "      <td>299146</td>\n",
       "      <td>0.695</td>\n",
       "      <td>0.293</td>\n",
       "      <td>11</td>\n",
       "      <td>-16.278</td>\n",
       "      <td>0</td>\n",
       "      <td>0.0431</td>\n",
       "      <td>0.5960</td>\n",
       "      <td>0.015800</td>\n",
       "      <td>0.132</td>\n",
       "      <td>0.637</td>\n",
       "      <td>143.804</td>\n",
       "      <td>4</td>\n",
       "      <td>classical</td>\n",
       "    </tr>\n",
       "    <tr>\n",
       "      <th>4</th>\n",
       "      <td>387716</td>\n",
       "      <td>0.583</td>\n",
       "      <td>0.308</td>\n",
       "      <td>7</td>\n",
       "      <td>-18.303</td>\n",
       "      <td>0</td>\n",
       "      <td>0.0465</td>\n",
       "      <td>0.5810</td>\n",
       "      <td>0.010600</td>\n",
       "      <td>0.257</td>\n",
       "      <td>0.241</td>\n",
       "      <td>118.226</td>\n",
       "      <td>4</td>\n",
       "      <td>classical</td>\n",
       "    </tr>\n",
       "    <tr>\n",
       "      <th>...</th>\n",
       "      <td>...</td>\n",
       "      <td>...</td>\n",
       "      <td>...</td>\n",
       "      <td>...</td>\n",
       "      <td>...</td>\n",
       "      <td>...</td>\n",
       "      <td>...</td>\n",
       "      <td>...</td>\n",
       "      <td>...</td>\n",
       "      <td>...</td>\n",
       "      <td>...</td>\n",
       "      <td>...</td>\n",
       "      <td>...</td>\n",
       "      <td>...</td>\n",
       "    </tr>\n",
       "    <tr>\n",
       "      <th>11995</th>\n",
       "      <td>253626</td>\n",
       "      <td>0.440</td>\n",
       "      <td>0.838</td>\n",
       "      <td>9</td>\n",
       "      <td>-6.196</td>\n",
       "      <td>1</td>\n",
       "      <td>0.0423</td>\n",
       "      <td>0.0956</td>\n",
       "      <td>0.000000</td>\n",
       "      <td>0.473</td>\n",
       "      <td>0.619</td>\n",
       "      <td>138.908</td>\n",
       "      <td>4</td>\n",
       "      <td>rock</td>\n",
       "    </tr>\n",
       "    <tr>\n",
       "      <th>11996</th>\n",
       "      <td>253626</td>\n",
       "      <td>0.440</td>\n",
       "      <td>0.838</td>\n",
       "      <td>9</td>\n",
       "      <td>-6.196</td>\n",
       "      <td>1</td>\n",
       "      <td>0.0423</td>\n",
       "      <td>0.0956</td>\n",
       "      <td>0.000000</td>\n",
       "      <td>0.473</td>\n",
       "      <td>0.619</td>\n",
       "      <td>138.908</td>\n",
       "      <td>4</td>\n",
       "      <td>rock</td>\n",
       "    </tr>\n",
       "    <tr>\n",
       "      <th>11997</th>\n",
       "      <td>253626</td>\n",
       "      <td>0.440</td>\n",
       "      <td>0.838</td>\n",
       "      <td>9</td>\n",
       "      <td>-6.196</td>\n",
       "      <td>1</td>\n",
       "      <td>0.0423</td>\n",
       "      <td>0.0956</td>\n",
       "      <td>0.000000</td>\n",
       "      <td>0.473</td>\n",
       "      <td>0.619</td>\n",
       "      <td>138.908</td>\n",
       "      <td>4</td>\n",
       "      <td>rock</td>\n",
       "    </tr>\n",
       "    <tr>\n",
       "      <th>11998</th>\n",
       "      <td>253626</td>\n",
       "      <td>0.440</td>\n",
       "      <td>0.838</td>\n",
       "      <td>9</td>\n",
       "      <td>-6.196</td>\n",
       "      <td>1</td>\n",
       "      <td>0.0423</td>\n",
       "      <td>0.0956</td>\n",
       "      <td>0.000000</td>\n",
       "      <td>0.473</td>\n",
       "      <td>0.619</td>\n",
       "      <td>138.908</td>\n",
       "      <td>4</td>\n",
       "      <td>rock</td>\n",
       "    </tr>\n",
       "    <tr>\n",
       "      <th>11999</th>\n",
       "      <td>253626</td>\n",
       "      <td>0.440</td>\n",
       "      <td>0.838</td>\n",
       "      <td>9</td>\n",
       "      <td>-6.196</td>\n",
       "      <td>1</td>\n",
       "      <td>0.0423</td>\n",
       "      <td>0.0956</td>\n",
       "      <td>0.000000</td>\n",
       "      <td>0.473</td>\n",
       "      <td>0.619</td>\n",
       "      <td>138.908</td>\n",
       "      <td>4</td>\n",
       "      <td>rock</td>\n",
       "    </tr>\n",
       "  </tbody>\n",
       "</table>\n",
       "<p>12000 rows × 14 columns</p>\n",
       "</div>"
      ],
      "text/plain": [
       "       duration_ms  danceability  energy  key  loudness  mode  speechiness  \\\n",
       "0           298266         0.643   0.268   11   -15.073     0       0.0900   \n",
       "1           482586         0.484   0.898    0    -4.132     1       0.1640   \n",
       "2           219437         0.608   0.638   11    -6.008     0       0.0292   \n",
       "3           299146         0.695   0.293   11   -16.278     0       0.0431   \n",
       "4           387716         0.583   0.308    7   -18.303     0       0.0465   \n",
       "...            ...           ...     ...  ...       ...   ...          ...   \n",
       "11995       253626         0.440   0.838    9    -6.196     1       0.0423   \n",
       "11996       253626         0.440   0.838    9    -6.196     1       0.0423   \n",
       "11997       253626         0.440   0.838    9    -6.196     1       0.0423   \n",
       "11998       253626         0.440   0.838    9    -6.196     1       0.0423   \n",
       "11999       253626         0.440   0.838    9    -6.196     1       0.0423   \n",
       "\n",
       "       acousticness  instrumentalness  liveness  valence    tempo  \\\n",
       "0            0.5930          0.000002     0.316    0.620  143.813   \n",
       "1            0.3650          0.000000     0.091    0.680   91.975   \n",
       "2            0.5810          0.017200     0.448    0.439  140.109   \n",
       "3            0.5960          0.015800     0.132    0.637  143.804   \n",
       "4            0.5810          0.010600     0.257    0.241  118.226   \n",
       "...             ...               ...       ...      ...      ...   \n",
       "11995        0.0956          0.000000     0.473    0.619  138.908   \n",
       "11996        0.0956          0.000000     0.473    0.619  138.908   \n",
       "11997        0.0956          0.000000     0.473    0.619  138.908   \n",
       "11998        0.0956          0.000000     0.473    0.619  138.908   \n",
       "11999        0.0956          0.000000     0.473    0.619  138.908   \n",
       "\n",
       "       time_signature      genre  \n",
       "0                   4  classical  \n",
       "1                   4  classical  \n",
       "2                   4  classical  \n",
       "3                   4  classical  \n",
       "4                   4  classical  \n",
       "...               ...        ...  \n",
       "11995               4       rock  \n",
       "11996               4       rock  \n",
       "11997               4       rock  \n",
       "11998               4       rock  \n",
       "11999               4       rock  \n",
       "\n",
       "[12000 rows x 14 columns]"
      ]
     },
     "execution_count": 15,
     "metadata": {},
     "output_type": "execute_result"
    }
   ],
   "source": [
    "df.reset_index(drop=True)"
   ]
  },
  {
   "cell_type": "code",
   "execution_count": 16,
   "id": "76ee828e",
   "metadata": {
    "execution": {
     "iopub.execute_input": "2023-12-12T16:54:14.148422Z",
     "iopub.status.busy": "2023-12-12T16:54:14.147876Z",
     "iopub.status.idle": "2023-12-12T16:54:14.164783Z",
     "shell.execute_reply": "2023-12-12T16:54:14.164082Z"
    },
    "papermill": {
     "duration": 0.04175,
     "end_time": "2023-12-12T16:54:14.166931",
     "exception": false,
     "start_time": "2023-12-12T16:54:14.125181",
     "status": "completed"
    },
    "tags": []
   },
   "outputs": [
    {
     "name": "stdout",
     "output_type": "stream",
     "text": [
      "<class 'pandas.core.frame.DataFrame'>\n",
      "Index: 12000 entries, 16000 to 91999\n",
      "Data columns (total 14 columns):\n",
      " #   Column            Non-Null Count  Dtype  \n",
      "---  ------            --------------  -----  \n",
      " 0   duration_ms       12000 non-null  int64  \n",
      " 1   danceability      12000 non-null  float64\n",
      " 2   energy            12000 non-null  float64\n",
      " 3   key               12000 non-null  int64  \n",
      " 4   loudness          12000 non-null  float64\n",
      " 5   mode              12000 non-null  int64  \n",
      " 6   speechiness       12000 non-null  float64\n",
      " 7   acousticness      12000 non-null  float64\n",
      " 8   instrumentalness  12000 non-null  float64\n",
      " 9   liveness          12000 non-null  float64\n",
      " 10  valence           12000 non-null  float64\n",
      " 11  tempo             12000 non-null  float64\n",
      " 12  time_signature    12000 non-null  int64  \n",
      " 13  genre             12000 non-null  object \n",
      "dtypes: float64(9), int64(4), object(1)\n",
      "memory usage: 1.4+ MB\n"
     ]
    }
   ],
   "source": [
    "df.info()"
   ]
  },
  {
   "cell_type": "code",
   "execution_count": 17,
   "id": "e34ec338",
   "metadata": {
    "execution": {
     "iopub.execute_input": "2023-12-12T16:54:14.210760Z",
     "iopub.status.busy": "2023-12-12T16:54:14.210342Z",
     "iopub.status.idle": "2023-12-12T16:54:14.229963Z",
     "shell.execute_reply": "2023-12-12T16:54:14.228544Z"
    },
    "papermill": {
     "duration": 0.043429,
     "end_time": "2023-12-12T16:54:14.232121",
     "exception": false,
     "start_time": "2023-12-12T16:54:14.188692",
     "status": "completed"
    },
    "tags": []
   },
   "outputs": [
    {
     "data": {
      "text/plain": [
       "(7200, 2400, 2400)"
      ]
     },
     "execution_count": 17,
     "metadata": {},
     "output_type": "execute_result"
    }
   ],
   "source": [
    "df_train_full, df_test = train_test_split(df, test_size=0.2, random_state=1)\n",
    "df_train, df_val = train_test_split(df_train_full, test_size=0.25, random_state=1)\n",
    "\n",
    "df_train = df_train.reset_index(drop=True)\n",
    "df_val = df_val.reset_index(drop=True)\n",
    "df_test = df_test.reset_index(drop=True)\n",
    "\n",
    "y_train = df_train.genre.values\n",
    "y_val = df_val.genre.values\n",
    "y_test = df_test.genre.values\n",
    "\n",
    "del df_train['genre']\n",
    "del df_val['genre']\n",
    "del df_test['genre']\n",
    "\n",
    "len(df_train), len(df_val), len(df_test)"
   ]
  },
  {
   "cell_type": "code",
   "execution_count": 18,
   "id": "3f6510e3",
   "metadata": {
    "execution": {
     "iopub.execute_input": "2023-12-12T16:54:14.275118Z",
     "iopub.status.busy": "2023-12-12T16:54:14.274764Z",
     "iopub.status.idle": "2023-12-12T16:54:14.284470Z",
     "shell.execute_reply": "2023-12-12T16:54:14.283073Z"
    },
    "papermill": {
     "duration": 0.034054,
     "end_time": "2023-12-12T16:54:14.286910",
     "exception": false,
     "start_time": "2023-12-12T16:54:14.252856",
     "status": "completed"
    },
    "scrolled": true,
    "tags": []
   },
   "outputs": [
    {
     "data": {
      "text/plain": [
       "['duration_ms',\n",
       " 'danceability',\n",
       " 'energy',\n",
       " 'key',\n",
       " 'loudness',\n",
       " 'mode',\n",
       " 'speechiness',\n",
       " 'acousticness',\n",
       " 'instrumentalness',\n",
       " 'liveness',\n",
       " 'valence',\n",
       " 'tempo',\n",
       " 'time_signature']"
      ]
     },
     "execution_count": 18,
     "metadata": {},
     "output_type": "execute_result"
    }
   ],
   "source": [
    "cols = df.select_dtypes(include=np.number).columns.tolist()\n",
    "cols"
   ]
  },
  {
   "cell_type": "code",
   "execution_count": 19,
   "id": "223bdf47",
   "metadata": {
    "execution": {
     "iopub.execute_input": "2023-12-12T16:54:14.332373Z",
     "iopub.status.busy": "2023-12-12T16:54:14.331696Z",
     "iopub.status.idle": "2023-12-12T16:54:14.338349Z",
     "shell.execute_reply": "2023-12-12T16:54:14.337712Z"
    },
    "papermill": {
     "duration": 0.03099,
     "end_time": "2023-12-12T16:54:14.339964",
     "exception": false,
     "start_time": "2023-12-12T16:54:14.308974",
     "status": "completed"
    },
    "tags": []
   },
   "outputs": [],
   "source": [
    "le = LabelEncoder()\n",
    "y_train = le.fit_transform(y_train)\n",
    "y_val = le.fit_transform(y_val)\n",
    "y_test = le.fit_transform(y_test)"
   ]
  },
  {
   "cell_type": "code",
   "execution_count": 20,
   "id": "8d06df9c",
   "metadata": {
    "execution": {
     "iopub.execute_input": "2023-12-12T16:54:14.383489Z",
     "iopub.status.busy": "2023-12-12T16:54:14.382878Z",
     "iopub.status.idle": "2023-12-12T16:54:14.554785Z",
     "shell.execute_reply": "2023-12-12T16:54:14.552972Z"
    },
    "papermill": {
     "duration": 0.196563,
     "end_time": "2023-12-12T16:54:14.557451",
     "exception": false,
     "start_time": "2023-12-12T16:54:14.360888",
     "status": "completed"
    },
    "tags": []
   },
   "outputs": [],
   "source": [
    "train_dicts = df_train[cols].to_dict(orient='records')\n",
    "\n",
    "dv = DictVectorizer(sparse=False)\n",
    "X_train = dv.fit_transform(train_dicts)\n",
    "\n",
    "val_dict = df_val[cols].to_dict(orient='records')\n",
    "X_val = dv.transform(val_dict)"
   ]
  },
  {
   "cell_type": "markdown",
   "id": "e20f7b11",
   "metadata": {
    "papermill": {
     "duration": 0.020251,
     "end_time": "2023-12-12T16:54:14.598627",
     "exception": false,
     "start_time": "2023-12-12T16:54:14.578376",
     "status": "completed"
    },
    "tags": []
   },
   "source": [
    "## Feature Importance"
   ]
  },
  {
   "cell_type": "code",
   "execution_count": 21,
   "id": "6344dc92",
   "metadata": {
    "execution": {
     "iopub.execute_input": "2023-12-12T16:54:14.644206Z",
     "iopub.status.busy": "2023-12-12T16:54:14.643791Z",
     "iopub.status.idle": "2023-12-12T16:54:16.686000Z",
     "shell.execute_reply": "2023-12-12T16:54:16.684459Z"
    },
    "papermill": {
     "duration": 2.069035,
     "end_time": "2023-12-12T16:54:16.688266",
     "exception": false,
     "start_time": "2023-12-12T16:54:14.619231",
     "status": "completed"
    },
    "tags": []
   },
   "outputs": [
    {
     "data": {
      "text/html": [
       "<style>#sk-container-id-1 {color: black;background-color: white;}#sk-container-id-1 pre{padding: 0;}#sk-container-id-1 div.sk-toggleable {background-color: white;}#sk-container-id-1 label.sk-toggleable__label {cursor: pointer;display: block;width: 100%;margin-bottom: 0;padding: 0.3em;box-sizing: border-box;text-align: center;}#sk-container-id-1 label.sk-toggleable__label-arrow:before {content: \"▸\";float: left;margin-right: 0.25em;color: #696969;}#sk-container-id-1 label.sk-toggleable__label-arrow:hover:before {color: black;}#sk-container-id-1 div.sk-estimator:hover label.sk-toggleable__label-arrow:before {color: black;}#sk-container-id-1 div.sk-toggleable__content {max-height: 0;max-width: 0;overflow: hidden;text-align: left;background-color: #f0f8ff;}#sk-container-id-1 div.sk-toggleable__content pre {margin: 0.2em;color: black;border-radius: 0.25em;background-color: #f0f8ff;}#sk-container-id-1 input.sk-toggleable__control:checked~div.sk-toggleable__content {max-height: 200px;max-width: 100%;overflow: auto;}#sk-container-id-1 input.sk-toggleable__control:checked~label.sk-toggleable__label-arrow:before {content: \"▾\";}#sk-container-id-1 div.sk-estimator input.sk-toggleable__control:checked~label.sk-toggleable__label {background-color: #d4ebff;}#sk-container-id-1 div.sk-label input.sk-toggleable__control:checked~label.sk-toggleable__label {background-color: #d4ebff;}#sk-container-id-1 input.sk-hidden--visually {border: 0;clip: rect(1px 1px 1px 1px);clip: rect(1px, 1px, 1px, 1px);height: 1px;margin: -1px;overflow: hidden;padding: 0;position: absolute;width: 1px;}#sk-container-id-1 div.sk-estimator {font-family: monospace;background-color: #f0f8ff;border: 1px dotted black;border-radius: 0.25em;box-sizing: border-box;margin-bottom: 0.5em;}#sk-container-id-1 div.sk-estimator:hover {background-color: #d4ebff;}#sk-container-id-1 div.sk-parallel-item::after {content: \"\";width: 100%;border-bottom: 1px solid gray;flex-grow: 1;}#sk-container-id-1 div.sk-label:hover label.sk-toggleable__label {background-color: #d4ebff;}#sk-container-id-1 div.sk-serial::before {content: \"\";position: absolute;border-left: 1px solid gray;box-sizing: border-box;top: 0;bottom: 0;left: 50%;z-index: 0;}#sk-container-id-1 div.sk-serial {display: flex;flex-direction: column;align-items: center;background-color: white;padding-right: 0.2em;padding-left: 0.2em;position: relative;}#sk-container-id-1 div.sk-item {position: relative;z-index: 1;}#sk-container-id-1 div.sk-parallel {display: flex;align-items: stretch;justify-content: center;background-color: white;position: relative;}#sk-container-id-1 div.sk-item::before, #sk-container-id-1 div.sk-parallel-item::before {content: \"\";position: absolute;border-left: 1px solid gray;box-sizing: border-box;top: 0;bottom: 0;left: 50%;z-index: -1;}#sk-container-id-1 div.sk-parallel-item {display: flex;flex-direction: column;z-index: 1;position: relative;background-color: white;}#sk-container-id-1 div.sk-parallel-item:first-child::after {align-self: flex-end;width: 50%;}#sk-container-id-1 div.sk-parallel-item:last-child::after {align-self: flex-start;width: 50%;}#sk-container-id-1 div.sk-parallel-item:only-child::after {width: 0;}#sk-container-id-1 div.sk-dashed-wrapped {border: 1px dashed gray;margin: 0 0.4em 0.5em 0.4em;box-sizing: border-box;padding-bottom: 0.4em;background-color: white;}#sk-container-id-1 div.sk-label label {font-family: monospace;font-weight: bold;display: inline-block;line-height: 1.2em;}#sk-container-id-1 div.sk-label-container {text-align: center;}#sk-container-id-1 div.sk-container {/* jupyter's `normalize.less` sets `[hidden] { display: none; }` but bootstrap.min.css set `[hidden] { display: none !important; }` so we also need the `!important` here to be able to override the default hidden behavior on the sphinx rendered scikit-learn.org. See: https://github.com/scikit-learn/scikit-learn/issues/21755 */display: inline-block !important;position: relative;}#sk-container-id-1 div.sk-text-repr-fallback {display: none;}</style><div id=\"sk-container-id-1\" class=\"sk-top-container\"><div class=\"sk-text-repr-fallback\"><pre>RandomForestClassifier(random_state=1)</pre><b>In a Jupyter environment, please rerun this cell to show the HTML representation or trust the notebook. <br />On GitHub, the HTML representation is unable to render, please try loading this page with nbviewer.org.</b></div><div class=\"sk-container\" hidden><div class=\"sk-item\"><div class=\"sk-estimator sk-toggleable\"><input class=\"sk-toggleable__control sk-hidden--visually\" id=\"sk-estimator-id-1\" type=\"checkbox\" checked><label for=\"sk-estimator-id-1\" class=\"sk-toggleable__label sk-toggleable__label-arrow\">RandomForestClassifier</label><div class=\"sk-toggleable__content\"><pre>RandomForestClassifier(random_state=1)</pre></div></div></div></div></div>"
      ],
      "text/plain": [
       "RandomForestClassifier(random_state=1)"
      ]
     },
     "execution_count": 21,
     "metadata": {},
     "output_type": "execute_result"
    }
   ],
   "source": [
    "rf = RandomForestClassifier(random_state=1)\n",
    "rf.fit(X_train, y_train)"
   ]
  },
  {
   "cell_type": "code",
   "execution_count": 22,
   "id": "943792d6",
   "metadata": {
    "execution": {
     "iopub.execute_input": "2023-12-12T16:54:16.733835Z",
     "iopub.status.busy": "2023-12-12T16:54:16.732493Z",
     "iopub.status.idle": "2023-12-12T16:54:16.747517Z",
     "shell.execute_reply": "2023-12-12T16:54:16.746432Z"
    },
    "papermill": {
     "duration": 0.040221,
     "end_time": "2023-12-12T16:54:16.749839",
     "exception": false,
     "start_time": "2023-12-12T16:54:16.709618",
     "status": "completed"
    },
    "tags": []
   },
   "outputs": [
    {
     "data": {
      "text/plain": [
       "array([0.13043329, 0.10139142, 0.09409939, 0.10219664, 0.07538897,\n",
       "       0.04811665, 0.07197536, 0.10001092, 0.01483926, 0.08872003,\n",
       "       0.07985641, 0.00671858, 0.08625307])"
      ]
     },
     "execution_count": 22,
     "metadata": {},
     "output_type": "execute_result"
    }
   ],
   "source": [
    "rf.feature_importances_"
   ]
  },
  {
   "cell_type": "code",
   "execution_count": 23,
   "id": "38b79553",
   "metadata": {
    "execution": {
     "iopub.execute_input": "2023-12-12T16:54:16.795047Z",
     "iopub.status.busy": "2023-12-12T16:54:16.794608Z",
     "iopub.status.idle": "2023-12-12T16:54:16.815006Z",
     "shell.execute_reply": "2023-12-12T16:54:16.813953Z"
    },
    "papermill": {
     "duration": 0.04533,
     "end_time": "2023-12-12T16:54:16.817109",
     "exception": false,
     "start_time": "2023-12-12T16:54:16.771779",
     "status": "completed"
    },
    "tags": []
   },
   "outputs": [
    {
     "data": {
      "text/html": [
       "<div>\n",
       "<style scoped>\n",
       "    .dataframe tbody tr th:only-of-type {\n",
       "        vertical-align: middle;\n",
       "    }\n",
       "\n",
       "    .dataframe tbody tr th {\n",
       "        vertical-align: top;\n",
       "    }\n",
       "\n",
       "    .dataframe thead th {\n",
       "        text-align: right;\n",
       "    }\n",
       "</style>\n",
       "<table border=\"1\" class=\"dataframe\">\n",
       "  <thead>\n",
       "    <tr style=\"text-align: right;\">\n",
       "      <th></th>\n",
       "      <th>feature</th>\n",
       "      <th>importance</th>\n",
       "    </tr>\n",
       "  </thead>\n",
       "  <tbody>\n",
       "    <tr>\n",
       "      <th>0</th>\n",
       "      <td>acousticness</td>\n",
       "      <td>0.130433</td>\n",
       "    </tr>\n",
       "    <tr>\n",
       "      <th>1</th>\n",
       "      <td>danceability</td>\n",
       "      <td>0.101391</td>\n",
       "    </tr>\n",
       "    <tr>\n",
       "      <th>2</th>\n",
       "      <td>duration_ms</td>\n",
       "      <td>0.094099</td>\n",
       "    </tr>\n",
       "    <tr>\n",
       "      <th>3</th>\n",
       "      <td>energy</td>\n",
       "      <td>0.102197</td>\n",
       "    </tr>\n",
       "    <tr>\n",
       "      <th>4</th>\n",
       "      <td>instrumentalness</td>\n",
       "      <td>0.075389</td>\n",
       "    </tr>\n",
       "    <tr>\n",
       "      <th>5</th>\n",
       "      <td>key</td>\n",
       "      <td>0.048117</td>\n",
       "    </tr>\n",
       "    <tr>\n",
       "      <th>6</th>\n",
       "      <td>liveness</td>\n",
       "      <td>0.071975</td>\n",
       "    </tr>\n",
       "    <tr>\n",
       "      <th>7</th>\n",
       "      <td>loudness</td>\n",
       "      <td>0.100011</td>\n",
       "    </tr>\n",
       "    <tr>\n",
       "      <th>8</th>\n",
       "      <td>mode</td>\n",
       "      <td>0.014839</td>\n",
       "    </tr>\n",
       "    <tr>\n",
       "      <th>9</th>\n",
       "      <td>speechiness</td>\n",
       "      <td>0.088720</td>\n",
       "    </tr>\n",
       "    <tr>\n",
       "      <th>10</th>\n",
       "      <td>tempo</td>\n",
       "      <td>0.079856</td>\n",
       "    </tr>\n",
       "    <tr>\n",
       "      <th>11</th>\n",
       "      <td>time_signature</td>\n",
       "      <td>0.006719</td>\n",
       "    </tr>\n",
       "    <tr>\n",
       "      <th>12</th>\n",
       "      <td>valence</td>\n",
       "      <td>0.086253</td>\n",
       "    </tr>\n",
       "  </tbody>\n",
       "</table>\n",
       "</div>"
      ],
      "text/plain": [
       "             feature  importance\n",
       "0       acousticness    0.130433\n",
       "1       danceability    0.101391\n",
       "2        duration_ms    0.094099\n",
       "3             energy    0.102197\n",
       "4   instrumentalness    0.075389\n",
       "5                key    0.048117\n",
       "6           liveness    0.071975\n",
       "7           loudness    0.100011\n",
       "8               mode    0.014839\n",
       "9        speechiness    0.088720\n",
       "10             tempo    0.079856\n",
       "11    time_signature    0.006719\n",
       "12           valence    0.086253"
      ]
     },
     "execution_count": 23,
     "metadata": {},
     "output_type": "execute_result"
    }
   ],
   "source": [
    "df_importances = pd.DataFrame()\n",
    "df_importances['feature'] = dv.feature_names_\n",
    "df_importances['importance'] = rf.feature_importances_\n",
    "df_importances"
   ]
  },
  {
   "cell_type": "code",
   "execution_count": 24,
   "id": "e3efa413",
   "metadata": {
    "execution": {
     "iopub.execute_input": "2023-12-12T16:54:16.862266Z",
     "iopub.status.busy": "2023-12-12T16:54:16.861621Z",
     "iopub.status.idle": "2023-12-12T16:54:16.873448Z",
     "shell.execute_reply": "2023-12-12T16:54:16.871849Z"
    },
    "papermill": {
     "duration": 0.037221,
     "end_time": "2023-12-12T16:54:16.876000",
     "exception": false,
     "start_time": "2023-12-12T16:54:16.838779",
     "status": "completed"
    },
    "tags": []
   },
   "outputs": [
    {
     "data": {
      "text/html": [
       "<div>\n",
       "<style scoped>\n",
       "    .dataframe tbody tr th:only-of-type {\n",
       "        vertical-align: middle;\n",
       "    }\n",
       "\n",
       "    .dataframe tbody tr th {\n",
       "        vertical-align: top;\n",
       "    }\n",
       "\n",
       "    .dataframe thead th {\n",
       "        text-align: right;\n",
       "    }\n",
       "</style>\n",
       "<table border=\"1\" class=\"dataframe\">\n",
       "  <thead>\n",
       "    <tr style=\"text-align: right;\">\n",
       "      <th></th>\n",
       "      <th>feature</th>\n",
       "      <th>importance</th>\n",
       "    </tr>\n",
       "  </thead>\n",
       "  <tbody>\n",
       "    <tr>\n",
       "      <th>0</th>\n",
       "      <td>acousticness</td>\n",
       "      <td>0.130433</td>\n",
       "    </tr>\n",
       "    <tr>\n",
       "      <th>3</th>\n",
       "      <td>energy</td>\n",
       "      <td>0.102197</td>\n",
       "    </tr>\n",
       "    <tr>\n",
       "      <th>1</th>\n",
       "      <td>danceability</td>\n",
       "      <td>0.101391</td>\n",
       "    </tr>\n",
       "    <tr>\n",
       "      <th>7</th>\n",
       "      <td>loudness</td>\n",
       "      <td>0.100011</td>\n",
       "    </tr>\n",
       "    <tr>\n",
       "      <th>2</th>\n",
       "      <td>duration_ms</td>\n",
       "      <td>0.094099</td>\n",
       "    </tr>\n",
       "    <tr>\n",
       "      <th>9</th>\n",
       "      <td>speechiness</td>\n",
       "      <td>0.088720</td>\n",
       "    </tr>\n",
       "    <tr>\n",
       "      <th>12</th>\n",
       "      <td>valence</td>\n",
       "      <td>0.086253</td>\n",
       "    </tr>\n",
       "    <tr>\n",
       "      <th>10</th>\n",
       "      <td>tempo</td>\n",
       "      <td>0.079856</td>\n",
       "    </tr>\n",
       "    <tr>\n",
       "      <th>4</th>\n",
       "      <td>instrumentalness</td>\n",
       "      <td>0.075389</td>\n",
       "    </tr>\n",
       "    <tr>\n",
       "      <th>6</th>\n",
       "      <td>liveness</td>\n",
       "      <td>0.071975</td>\n",
       "    </tr>\n",
       "    <tr>\n",
       "      <th>5</th>\n",
       "      <td>key</td>\n",
       "      <td>0.048117</td>\n",
       "    </tr>\n",
       "    <tr>\n",
       "      <th>8</th>\n",
       "      <td>mode</td>\n",
       "      <td>0.014839</td>\n",
       "    </tr>\n",
       "    <tr>\n",
       "      <th>11</th>\n",
       "      <td>time_signature</td>\n",
       "      <td>0.006719</td>\n",
       "    </tr>\n",
       "  </tbody>\n",
       "</table>\n",
       "</div>"
      ],
      "text/plain": [
       "             feature  importance\n",
       "0       acousticness    0.130433\n",
       "3             energy    0.102197\n",
       "1       danceability    0.101391\n",
       "7           loudness    0.100011\n",
       "2        duration_ms    0.094099\n",
       "9        speechiness    0.088720\n",
       "12           valence    0.086253\n",
       "10             tempo    0.079856\n",
       "4   instrumentalness    0.075389\n",
       "6           liveness    0.071975\n",
       "5                key    0.048117\n",
       "8               mode    0.014839\n",
       "11    time_signature    0.006719"
      ]
     },
     "execution_count": 24,
     "metadata": {},
     "output_type": "execute_result"
    }
   ],
   "source": [
    "df_importances.sort_values(by='importance', ascending=False)"
   ]
  },
  {
   "cell_type": "markdown",
   "id": "f6175b64",
   "metadata": {
    "papermill": {
     "duration": 0.023806,
     "end_time": "2023-12-12T16:54:16.922172",
     "exception": false,
     "start_time": "2023-12-12T16:54:16.898366",
     "status": "completed"
    },
    "tags": []
   },
   "source": [
    "**Deleting key, mode and time_signature columns**"
   ]
  },
  {
   "cell_type": "code",
   "execution_count": 25,
   "id": "18cc61ec",
   "metadata": {
    "execution": {
     "iopub.execute_input": "2023-12-12T16:54:16.972461Z",
     "iopub.status.busy": "2023-12-12T16:54:16.971880Z",
     "iopub.status.idle": "2023-12-12T16:54:16.977402Z",
     "shell.execute_reply": "2023-12-12T16:54:16.975951Z"
    },
    "papermill": {
     "duration": 0.032798,
     "end_time": "2023-12-12T16:54:16.980176",
     "exception": false,
     "start_time": "2023-12-12T16:54:16.947378",
     "status": "completed"
    },
    "tags": []
   },
   "outputs": [],
   "source": [
    "del df['key']\n",
    "del df['mode']\n",
    "del df['time_signature']"
   ]
  },
  {
   "cell_type": "markdown",
   "id": "c47573bf",
   "metadata": {
    "papermill": {
     "duration": 0.021797,
     "end_time": "2023-12-12T16:54:17.024617",
     "exception": false,
     "start_time": "2023-12-12T16:54:17.002820",
     "status": "completed"
    },
    "tags": []
   },
   "source": [
    "## Setting up Training Data"
   ]
  },
  {
   "cell_type": "code",
   "execution_count": 26,
   "id": "7a8494e3",
   "metadata": {
    "execution": {
     "iopub.execute_input": "2023-12-12T16:54:17.079149Z",
     "iopub.status.busy": "2023-12-12T16:54:17.078752Z",
     "iopub.status.idle": "2023-12-12T16:54:17.100231Z",
     "shell.execute_reply": "2023-12-12T16:54:17.098570Z"
    },
    "papermill": {
     "duration": 0.052094,
     "end_time": "2023-12-12T16:54:17.103777",
     "exception": false,
     "start_time": "2023-12-12T16:54:17.051683",
     "status": "completed"
    },
    "tags": []
   },
   "outputs": [
    {
     "data": {
      "text/plain": [
       "(7200, 2400, 2400)"
      ]
     },
     "execution_count": 26,
     "metadata": {},
     "output_type": "execute_result"
    }
   ],
   "source": [
    "df_train_full, df_test = train_test_split(df, test_size=0.2, random_state=1)\n",
    "df_train, df_val = train_test_split(df_train_full, test_size=0.25, random_state=1)\n",
    "\n",
    "df_train = df_train.reset_index(drop=True)\n",
    "df_val = df_val.reset_index(drop=True)\n",
    "df_test = df_test.reset_index(drop=True)\n",
    "\n",
    "y_train = df_train.genre.values\n",
    "y_val = df_val.genre.values\n",
    "y_test = df_test.genre.values\n",
    "\n",
    "del df_train['genre']\n",
    "del df_val['genre']\n",
    "del df_test['genre']\n",
    "\n",
    "len(df_train), len(df_val), len(df_test)"
   ]
  },
  {
   "cell_type": "code",
   "execution_count": 27,
   "id": "cd67876d",
   "metadata": {
    "execution": {
     "iopub.execute_input": "2023-12-12T16:54:17.156228Z",
     "iopub.status.busy": "2023-12-12T16:54:17.155873Z",
     "iopub.status.idle": "2023-12-12T16:54:17.170487Z",
     "shell.execute_reply": "2023-12-12T16:54:17.169208Z"
    },
    "papermill": {
     "duration": 0.044401,
     "end_time": "2023-12-12T16:54:17.173963",
     "exception": false,
     "start_time": "2023-12-12T16:54:17.129562",
     "status": "completed"
    },
    "tags": []
   },
   "outputs": [
    {
     "data": {
      "text/plain": [
       "['duration_ms',\n",
       " 'danceability',\n",
       " 'energy',\n",
       " 'loudness',\n",
       " 'speechiness',\n",
       " 'acousticness',\n",
       " 'instrumentalness',\n",
       " 'liveness',\n",
       " 'valence',\n",
       " 'tempo']"
      ]
     },
     "execution_count": 27,
     "metadata": {},
     "output_type": "execute_result"
    }
   ],
   "source": [
    "cols = df.select_dtypes(include=np.number).columns.tolist()\n",
    "cols"
   ]
  },
  {
   "cell_type": "code",
   "execution_count": 28,
   "id": "ddfa7850",
   "metadata": {
    "execution": {
     "iopub.execute_input": "2023-12-12T16:54:17.222260Z",
     "iopub.status.busy": "2023-12-12T16:54:17.221903Z",
     "iopub.status.idle": "2023-12-12T16:54:17.230143Z",
     "shell.execute_reply": "2023-12-12T16:54:17.228698Z"
    },
    "papermill": {
     "duration": 0.036408,
     "end_time": "2023-12-12T16:54:17.232881",
     "exception": false,
     "start_time": "2023-12-12T16:54:17.196473",
     "status": "completed"
    },
    "tags": []
   },
   "outputs": [],
   "source": [
    "le = LabelEncoder()\n",
    "y_train = le.fit_transform(y_train)\n",
    "y_val = le.fit_transform(y_val)\n",
    "y_test = le.fit_transform(y_test)"
   ]
  },
  {
   "cell_type": "code",
   "execution_count": 29,
   "id": "3b5aeacd",
   "metadata": {
    "execution": {
     "iopub.execute_input": "2023-12-12T16:54:17.281884Z",
     "iopub.status.busy": "2023-12-12T16:54:17.281232Z",
     "iopub.status.idle": "2023-12-12T16:54:17.412957Z",
     "shell.execute_reply": "2023-12-12T16:54:17.411920Z"
    },
    "papermill": {
     "duration": 0.158329,
     "end_time": "2023-12-12T16:54:17.415524",
     "exception": false,
     "start_time": "2023-12-12T16:54:17.257195",
     "status": "completed"
    },
    "tags": []
   },
   "outputs": [],
   "source": [
    "train_dicts = df_train[cols].to_dict(orient='records')\n",
    "\n",
    "dv = DictVectorizer(sparse=False)\n",
    "X_train = dv.fit_transform(train_dicts)\n",
    "\n",
    "val_dict = df_val[cols].to_dict(orient='records')\n",
    "X_val = dv.transform(val_dict)"
   ]
  },
  {
   "cell_type": "markdown",
   "id": "ad9cae60",
   "metadata": {
    "papermill": {
     "duration": 0.021755,
     "end_time": "2023-12-12T16:54:17.460333",
     "exception": false,
     "start_time": "2023-12-12T16:54:17.438578",
     "status": "completed"
    },
    "tags": []
   },
   "source": [
    "## Logistic Regression"
   ]
  },
  {
   "cell_type": "code",
   "execution_count": 30,
   "id": "ce904b87",
   "metadata": {
    "execution": {
     "iopub.execute_input": "2023-12-12T16:54:17.509760Z",
     "iopub.status.busy": "2023-12-12T16:54:17.509401Z",
     "iopub.status.idle": "2023-12-12T16:54:17.861171Z",
     "shell.execute_reply": "2023-12-12T16:54:17.860217Z"
    },
    "papermill": {
     "duration": 0.380405,
     "end_time": "2023-12-12T16:54:17.864284",
     "exception": false,
     "start_time": "2023-12-12T16:54:17.483879",
     "status": "completed"
    },
    "tags": []
   },
   "outputs": [
    {
     "data": {
      "text/html": [
       "<style>#sk-container-id-2 {color: black;background-color: white;}#sk-container-id-2 pre{padding: 0;}#sk-container-id-2 div.sk-toggleable {background-color: white;}#sk-container-id-2 label.sk-toggleable__label {cursor: pointer;display: block;width: 100%;margin-bottom: 0;padding: 0.3em;box-sizing: border-box;text-align: center;}#sk-container-id-2 label.sk-toggleable__label-arrow:before {content: \"▸\";float: left;margin-right: 0.25em;color: #696969;}#sk-container-id-2 label.sk-toggleable__label-arrow:hover:before {color: black;}#sk-container-id-2 div.sk-estimator:hover label.sk-toggleable__label-arrow:before {color: black;}#sk-container-id-2 div.sk-toggleable__content {max-height: 0;max-width: 0;overflow: hidden;text-align: left;background-color: #f0f8ff;}#sk-container-id-2 div.sk-toggleable__content pre {margin: 0.2em;color: black;border-radius: 0.25em;background-color: #f0f8ff;}#sk-container-id-2 input.sk-toggleable__control:checked~div.sk-toggleable__content {max-height: 200px;max-width: 100%;overflow: auto;}#sk-container-id-2 input.sk-toggleable__control:checked~label.sk-toggleable__label-arrow:before {content: \"▾\";}#sk-container-id-2 div.sk-estimator input.sk-toggleable__control:checked~label.sk-toggleable__label {background-color: #d4ebff;}#sk-container-id-2 div.sk-label input.sk-toggleable__control:checked~label.sk-toggleable__label {background-color: #d4ebff;}#sk-container-id-2 input.sk-hidden--visually {border: 0;clip: rect(1px 1px 1px 1px);clip: rect(1px, 1px, 1px, 1px);height: 1px;margin: -1px;overflow: hidden;padding: 0;position: absolute;width: 1px;}#sk-container-id-2 div.sk-estimator {font-family: monospace;background-color: #f0f8ff;border: 1px dotted black;border-radius: 0.25em;box-sizing: border-box;margin-bottom: 0.5em;}#sk-container-id-2 div.sk-estimator:hover {background-color: #d4ebff;}#sk-container-id-2 div.sk-parallel-item::after {content: \"\";width: 100%;border-bottom: 1px solid gray;flex-grow: 1;}#sk-container-id-2 div.sk-label:hover label.sk-toggleable__label {background-color: #d4ebff;}#sk-container-id-2 div.sk-serial::before {content: \"\";position: absolute;border-left: 1px solid gray;box-sizing: border-box;top: 0;bottom: 0;left: 50%;z-index: 0;}#sk-container-id-2 div.sk-serial {display: flex;flex-direction: column;align-items: center;background-color: white;padding-right: 0.2em;padding-left: 0.2em;position: relative;}#sk-container-id-2 div.sk-item {position: relative;z-index: 1;}#sk-container-id-2 div.sk-parallel {display: flex;align-items: stretch;justify-content: center;background-color: white;position: relative;}#sk-container-id-2 div.sk-item::before, #sk-container-id-2 div.sk-parallel-item::before {content: \"\";position: absolute;border-left: 1px solid gray;box-sizing: border-box;top: 0;bottom: 0;left: 50%;z-index: -1;}#sk-container-id-2 div.sk-parallel-item {display: flex;flex-direction: column;z-index: 1;position: relative;background-color: white;}#sk-container-id-2 div.sk-parallel-item:first-child::after {align-self: flex-end;width: 50%;}#sk-container-id-2 div.sk-parallel-item:last-child::after {align-self: flex-start;width: 50%;}#sk-container-id-2 div.sk-parallel-item:only-child::after {width: 0;}#sk-container-id-2 div.sk-dashed-wrapped {border: 1px dashed gray;margin: 0 0.4em 0.5em 0.4em;box-sizing: border-box;padding-bottom: 0.4em;background-color: white;}#sk-container-id-2 div.sk-label label {font-family: monospace;font-weight: bold;display: inline-block;line-height: 1.2em;}#sk-container-id-2 div.sk-label-container {text-align: center;}#sk-container-id-2 div.sk-container {/* jupyter's `normalize.less` sets `[hidden] { display: none; }` but bootstrap.min.css set `[hidden] { display: none !important; }` so we also need the `!important` here to be able to override the default hidden behavior on the sphinx rendered scikit-learn.org. See: https://github.com/scikit-learn/scikit-learn/issues/21755 */display: inline-block !important;position: relative;}#sk-container-id-2 div.sk-text-repr-fallback {display: none;}</style><div id=\"sk-container-id-2\" class=\"sk-top-container\"><div class=\"sk-text-repr-fallback\"><pre>LogisticRegression(multi_class=&#x27;ovr&#x27;, random_state=1)</pre><b>In a Jupyter environment, please rerun this cell to show the HTML representation or trust the notebook. <br />On GitHub, the HTML representation is unable to render, please try loading this page with nbviewer.org.</b></div><div class=\"sk-container\" hidden><div class=\"sk-item\"><div class=\"sk-estimator sk-toggleable\"><input class=\"sk-toggleable__control sk-hidden--visually\" id=\"sk-estimator-id-2\" type=\"checkbox\" checked><label for=\"sk-estimator-id-2\" class=\"sk-toggleable__label sk-toggleable__label-arrow\">LogisticRegression</label><div class=\"sk-toggleable__content\"><pre>LogisticRegression(multi_class=&#x27;ovr&#x27;, random_state=1)</pre></div></div></div></div></div>"
      ],
      "text/plain": [
       "LogisticRegression(multi_class='ovr', random_state=1)"
      ]
     },
     "execution_count": 30,
     "metadata": {},
     "output_type": "execute_result"
    }
   ],
   "source": [
    "model_lr = LogisticRegression(multi_class='ovr', solver='lbfgs', random_state=1)\n",
    "model_lr.fit(X_train, y_train)"
   ]
  },
  {
   "cell_type": "code",
   "execution_count": 31,
   "id": "2eb7d4db",
   "metadata": {
    "execution": {
     "iopub.execute_input": "2023-12-12T16:54:17.925628Z",
     "iopub.status.busy": "2023-12-12T16:54:17.925234Z",
     "iopub.status.idle": "2023-12-12T16:54:17.962843Z",
     "shell.execute_reply": "2023-12-12T16:54:17.961993Z"
    },
    "papermill": {
     "duration": 0.072333,
     "end_time": "2023-12-12T16:54:17.966470",
     "exception": false,
     "start_time": "2023-12-12T16:54:17.894137",
     "status": "completed"
    },
    "tags": []
   },
   "outputs": [
    {
     "data": {
      "text/plain": [
       "0.626932539481431"
      ]
     },
     "execution_count": 31,
     "metadata": {},
     "output_type": "execute_result"
    }
   ],
   "source": [
    "y_pred = model_lr.predict_proba(X_val)\n",
    "roc_auc_score(y_val, y_pred, multi_class='ovr')"
   ]
  },
  {
   "cell_type": "markdown",
   "id": "97bca77d",
   "metadata": {
    "papermill": {
     "duration": 0.034558,
     "end_time": "2023-12-12T16:54:18.034794",
     "exception": false,
     "start_time": "2023-12-12T16:54:18.000236",
     "status": "completed"
    },
    "tags": []
   },
   "source": [
    "**Logistic Regression has a low score**"
   ]
  },
  {
   "cell_type": "markdown",
   "id": "63ae4af4",
   "metadata": {
    "papermill": {
     "duration": 0.027138,
     "end_time": "2023-12-12T16:54:18.097549",
     "exception": false,
     "start_time": "2023-12-12T16:54:18.070411",
     "status": "completed"
    },
    "tags": []
   },
   "source": [
    "## Decision Tree Classifier"
   ]
  },
  {
   "cell_type": "code",
   "execution_count": 32,
   "id": "89cb41f0",
   "metadata": {
    "execution": {
     "iopub.execute_input": "2023-12-12T16:54:18.149102Z",
     "iopub.status.busy": "2023-12-12T16:54:18.148723Z",
     "iopub.status.idle": "2023-12-12T16:54:18.249307Z",
     "shell.execute_reply": "2023-12-12T16:54:18.247599Z"
    },
    "papermill": {
     "duration": 0.129975,
     "end_time": "2023-12-12T16:54:18.252059",
     "exception": false,
     "start_time": "2023-12-12T16:54:18.122084",
     "status": "completed"
    },
    "tags": []
   },
   "outputs": [
    {
     "data": {
      "text/html": [
       "<style>#sk-container-id-3 {color: black;background-color: white;}#sk-container-id-3 pre{padding: 0;}#sk-container-id-3 div.sk-toggleable {background-color: white;}#sk-container-id-3 label.sk-toggleable__label {cursor: pointer;display: block;width: 100%;margin-bottom: 0;padding: 0.3em;box-sizing: border-box;text-align: center;}#sk-container-id-3 label.sk-toggleable__label-arrow:before {content: \"▸\";float: left;margin-right: 0.25em;color: #696969;}#sk-container-id-3 label.sk-toggleable__label-arrow:hover:before {color: black;}#sk-container-id-3 div.sk-estimator:hover label.sk-toggleable__label-arrow:before {color: black;}#sk-container-id-3 div.sk-toggleable__content {max-height: 0;max-width: 0;overflow: hidden;text-align: left;background-color: #f0f8ff;}#sk-container-id-3 div.sk-toggleable__content pre {margin: 0.2em;color: black;border-radius: 0.25em;background-color: #f0f8ff;}#sk-container-id-3 input.sk-toggleable__control:checked~div.sk-toggleable__content {max-height: 200px;max-width: 100%;overflow: auto;}#sk-container-id-3 input.sk-toggleable__control:checked~label.sk-toggleable__label-arrow:before {content: \"▾\";}#sk-container-id-3 div.sk-estimator input.sk-toggleable__control:checked~label.sk-toggleable__label {background-color: #d4ebff;}#sk-container-id-3 div.sk-label input.sk-toggleable__control:checked~label.sk-toggleable__label {background-color: #d4ebff;}#sk-container-id-3 input.sk-hidden--visually {border: 0;clip: rect(1px 1px 1px 1px);clip: rect(1px, 1px, 1px, 1px);height: 1px;margin: -1px;overflow: hidden;padding: 0;position: absolute;width: 1px;}#sk-container-id-3 div.sk-estimator {font-family: monospace;background-color: #f0f8ff;border: 1px dotted black;border-radius: 0.25em;box-sizing: border-box;margin-bottom: 0.5em;}#sk-container-id-3 div.sk-estimator:hover {background-color: #d4ebff;}#sk-container-id-3 div.sk-parallel-item::after {content: \"\";width: 100%;border-bottom: 1px solid gray;flex-grow: 1;}#sk-container-id-3 div.sk-label:hover label.sk-toggleable__label {background-color: #d4ebff;}#sk-container-id-3 div.sk-serial::before {content: \"\";position: absolute;border-left: 1px solid gray;box-sizing: border-box;top: 0;bottom: 0;left: 50%;z-index: 0;}#sk-container-id-3 div.sk-serial {display: flex;flex-direction: column;align-items: center;background-color: white;padding-right: 0.2em;padding-left: 0.2em;position: relative;}#sk-container-id-3 div.sk-item {position: relative;z-index: 1;}#sk-container-id-3 div.sk-parallel {display: flex;align-items: stretch;justify-content: center;background-color: white;position: relative;}#sk-container-id-3 div.sk-item::before, #sk-container-id-3 div.sk-parallel-item::before {content: \"\";position: absolute;border-left: 1px solid gray;box-sizing: border-box;top: 0;bottom: 0;left: 50%;z-index: -1;}#sk-container-id-3 div.sk-parallel-item {display: flex;flex-direction: column;z-index: 1;position: relative;background-color: white;}#sk-container-id-3 div.sk-parallel-item:first-child::after {align-self: flex-end;width: 50%;}#sk-container-id-3 div.sk-parallel-item:last-child::after {align-self: flex-start;width: 50%;}#sk-container-id-3 div.sk-parallel-item:only-child::after {width: 0;}#sk-container-id-3 div.sk-dashed-wrapped {border: 1px dashed gray;margin: 0 0.4em 0.5em 0.4em;box-sizing: border-box;padding-bottom: 0.4em;background-color: white;}#sk-container-id-3 div.sk-label label {font-family: monospace;font-weight: bold;display: inline-block;line-height: 1.2em;}#sk-container-id-3 div.sk-label-container {text-align: center;}#sk-container-id-3 div.sk-container {/* jupyter's `normalize.less` sets `[hidden] { display: none; }` but bootstrap.min.css set `[hidden] { display: none !important; }` so we also need the `!important` here to be able to override the default hidden behavior on the sphinx rendered scikit-learn.org. See: https://github.com/scikit-learn/scikit-learn/issues/21755 */display: inline-block !important;position: relative;}#sk-container-id-3 div.sk-text-repr-fallback {display: none;}</style><div id=\"sk-container-id-3\" class=\"sk-top-container\"><div class=\"sk-text-repr-fallback\"><pre>DecisionTreeClassifier()</pre><b>In a Jupyter environment, please rerun this cell to show the HTML representation or trust the notebook. <br />On GitHub, the HTML representation is unable to render, please try loading this page with nbviewer.org.</b></div><div class=\"sk-container\" hidden><div class=\"sk-item\"><div class=\"sk-estimator sk-toggleable\"><input class=\"sk-toggleable__control sk-hidden--visually\" id=\"sk-estimator-id-3\" type=\"checkbox\" checked><label for=\"sk-estimator-id-3\" class=\"sk-toggleable__label sk-toggleable__label-arrow\">DecisionTreeClassifier</label><div class=\"sk-toggleable__content\"><pre>DecisionTreeClassifier()</pre></div></div></div></div></div>"
      ],
      "text/plain": [
       "DecisionTreeClassifier()"
      ]
     },
     "execution_count": 32,
     "metadata": {},
     "output_type": "execute_result"
    }
   ],
   "source": [
    "dt = DecisionTreeClassifier()\n",
    "dt.fit(X_train, y_train)"
   ]
  },
  {
   "cell_type": "code",
   "execution_count": 33,
   "id": "78132e98",
   "metadata": {
    "execution": {
     "iopub.execute_input": "2023-12-12T16:54:18.303422Z",
     "iopub.status.busy": "2023-12-12T16:54:18.303032Z",
     "iopub.status.idle": "2023-12-12T16:54:18.322911Z",
     "shell.execute_reply": "2023-12-12T16:54:18.321205Z"
    },
    "papermill": {
     "duration": 0.048827,
     "end_time": "2023-12-12T16:54:18.325426",
     "exception": false,
     "start_time": "2023-12-12T16:54:18.276599",
     "status": "completed"
    },
    "tags": []
   },
   "outputs": [
    {
     "data": {
      "text/plain": [
       "0.7363285239240976"
      ]
     },
     "execution_count": 33,
     "metadata": {},
     "output_type": "execute_result"
    }
   ],
   "source": [
    "y_pred = dt.predict_proba(X_val)\n",
    "roc_auc_score(y_val, y_pred, multi_class='ovr')"
   ]
  },
  {
   "cell_type": "code",
   "execution_count": 34,
   "id": "8410ce96",
   "metadata": {
    "execution": {
     "iopub.execute_input": "2023-12-12T16:54:18.374003Z",
     "iopub.status.busy": "2023-12-12T16:54:18.372599Z",
     "iopub.status.idle": "2023-12-12T16:54:18.399011Z",
     "shell.execute_reply": "2023-12-12T16:54:18.396953Z"
    },
    "papermill": {
     "duration": 0.053911,
     "end_time": "2023-12-12T16:54:18.402096",
     "exception": false,
     "start_time": "2023-12-12T16:54:18.348185",
     "status": "completed"
    },
    "scrolled": true,
    "tags": []
   },
   "outputs": [
    {
     "data": {
      "text/html": [
       "<style>#sk-container-id-4 {color: black;background-color: white;}#sk-container-id-4 pre{padding: 0;}#sk-container-id-4 div.sk-toggleable {background-color: white;}#sk-container-id-4 label.sk-toggleable__label {cursor: pointer;display: block;width: 100%;margin-bottom: 0;padding: 0.3em;box-sizing: border-box;text-align: center;}#sk-container-id-4 label.sk-toggleable__label-arrow:before {content: \"▸\";float: left;margin-right: 0.25em;color: #696969;}#sk-container-id-4 label.sk-toggleable__label-arrow:hover:before {color: black;}#sk-container-id-4 div.sk-estimator:hover label.sk-toggleable__label-arrow:before {color: black;}#sk-container-id-4 div.sk-toggleable__content {max-height: 0;max-width: 0;overflow: hidden;text-align: left;background-color: #f0f8ff;}#sk-container-id-4 div.sk-toggleable__content pre {margin: 0.2em;color: black;border-radius: 0.25em;background-color: #f0f8ff;}#sk-container-id-4 input.sk-toggleable__control:checked~div.sk-toggleable__content {max-height: 200px;max-width: 100%;overflow: auto;}#sk-container-id-4 input.sk-toggleable__control:checked~label.sk-toggleable__label-arrow:before {content: \"▾\";}#sk-container-id-4 div.sk-estimator input.sk-toggleable__control:checked~label.sk-toggleable__label {background-color: #d4ebff;}#sk-container-id-4 div.sk-label input.sk-toggleable__control:checked~label.sk-toggleable__label {background-color: #d4ebff;}#sk-container-id-4 input.sk-hidden--visually {border: 0;clip: rect(1px 1px 1px 1px);clip: rect(1px, 1px, 1px, 1px);height: 1px;margin: -1px;overflow: hidden;padding: 0;position: absolute;width: 1px;}#sk-container-id-4 div.sk-estimator {font-family: monospace;background-color: #f0f8ff;border: 1px dotted black;border-radius: 0.25em;box-sizing: border-box;margin-bottom: 0.5em;}#sk-container-id-4 div.sk-estimator:hover {background-color: #d4ebff;}#sk-container-id-4 div.sk-parallel-item::after {content: \"\";width: 100%;border-bottom: 1px solid gray;flex-grow: 1;}#sk-container-id-4 div.sk-label:hover label.sk-toggleable__label {background-color: #d4ebff;}#sk-container-id-4 div.sk-serial::before {content: \"\";position: absolute;border-left: 1px solid gray;box-sizing: border-box;top: 0;bottom: 0;left: 50%;z-index: 0;}#sk-container-id-4 div.sk-serial {display: flex;flex-direction: column;align-items: center;background-color: white;padding-right: 0.2em;padding-left: 0.2em;position: relative;}#sk-container-id-4 div.sk-item {position: relative;z-index: 1;}#sk-container-id-4 div.sk-parallel {display: flex;align-items: stretch;justify-content: center;background-color: white;position: relative;}#sk-container-id-4 div.sk-item::before, #sk-container-id-4 div.sk-parallel-item::before {content: \"\";position: absolute;border-left: 1px solid gray;box-sizing: border-box;top: 0;bottom: 0;left: 50%;z-index: -1;}#sk-container-id-4 div.sk-parallel-item {display: flex;flex-direction: column;z-index: 1;position: relative;background-color: white;}#sk-container-id-4 div.sk-parallel-item:first-child::after {align-self: flex-end;width: 50%;}#sk-container-id-4 div.sk-parallel-item:last-child::after {align-self: flex-start;width: 50%;}#sk-container-id-4 div.sk-parallel-item:only-child::after {width: 0;}#sk-container-id-4 div.sk-dashed-wrapped {border: 1px dashed gray;margin: 0 0.4em 0.5em 0.4em;box-sizing: border-box;padding-bottom: 0.4em;background-color: white;}#sk-container-id-4 div.sk-label label {font-family: monospace;font-weight: bold;display: inline-block;line-height: 1.2em;}#sk-container-id-4 div.sk-label-container {text-align: center;}#sk-container-id-4 div.sk-container {/* jupyter's `normalize.less` sets `[hidden] { display: none; }` but bootstrap.min.css set `[hidden] { display: none !important; }` so we also need the `!important` here to be able to override the default hidden behavior on the sphinx rendered scikit-learn.org. See: https://github.com/scikit-learn/scikit-learn/issues/21755 */display: inline-block !important;position: relative;}#sk-container-id-4 div.sk-text-repr-fallback {display: none;}</style><div id=\"sk-container-id-4\" class=\"sk-top-container\"><div class=\"sk-text-repr-fallback\"><pre>DecisionTreeClassifier(max_depth=2)</pre><b>In a Jupyter environment, please rerun this cell to show the HTML representation or trust the notebook. <br />On GitHub, the HTML representation is unable to render, please try loading this page with nbviewer.org.</b></div><div class=\"sk-container\" hidden><div class=\"sk-item\"><div class=\"sk-estimator sk-toggleable\"><input class=\"sk-toggleable__control sk-hidden--visually\" id=\"sk-estimator-id-4\" type=\"checkbox\" checked><label for=\"sk-estimator-id-4\" class=\"sk-toggleable__label sk-toggleable__label-arrow\">DecisionTreeClassifier</label><div class=\"sk-toggleable__content\"><pre>DecisionTreeClassifier(max_depth=2)</pre></div></div></div></div></div>"
      ],
      "text/plain": [
       "DecisionTreeClassifier(max_depth=2)"
      ]
     },
     "execution_count": 34,
     "metadata": {},
     "output_type": "execute_result"
    }
   ],
   "source": [
    "dt = DecisionTreeClassifier(max_depth=2)\n",
    "dt.fit(X_train, y_train)"
   ]
  },
  {
   "cell_type": "code",
   "execution_count": 35,
   "id": "d5cbc9c4",
   "metadata": {
    "execution": {
     "iopub.execute_input": "2023-12-12T16:54:18.452633Z",
     "iopub.status.busy": "2023-12-12T16:54:18.452286Z",
     "iopub.status.idle": "2023-12-12T16:54:18.493926Z",
     "shell.execute_reply": "2023-12-12T16:54:18.492459Z"
    },
    "papermill": {
     "duration": 0.070549,
     "end_time": "2023-12-12T16:54:18.496374",
     "exception": false,
     "start_time": "2023-12-12T16:54:18.425825",
     "status": "completed"
    },
    "tags": []
   },
   "outputs": [
    {
     "name": "stdout",
     "output_type": "stream",
     "text": [
      "train: 0.6769320087676877\n",
      "val: 0.6672567806741049\n"
     ]
    }
   ],
   "source": [
    "y_pred = dt.predict_proba(X_train)\n",
    "auc = roc_auc_score(y_train, y_pred, multi_class='ovr')\n",
    "print('train:', auc)\n",
    "\n",
    "y_pred = dt.predict_proba(X_val)\n",
    "auc = roc_auc_score(y_val, y_pred, multi_class='ovr')\n",
    "print('val:', auc)"
   ]
  },
  {
   "cell_type": "code",
   "execution_count": 36,
   "id": "ee77963c",
   "metadata": {
    "execution": {
     "iopub.execute_input": "2023-12-12T16:54:18.546370Z",
     "iopub.status.busy": "2023-12-12T16:54:18.545958Z",
     "iopub.status.idle": "2023-12-12T16:54:18.552540Z",
     "shell.execute_reply": "2023-12-12T16:54:18.550709Z"
    },
    "papermill": {
     "duration": 0.035951,
     "end_time": "2023-12-12T16:54:18.555520",
     "exception": false,
     "start_time": "2023-12-12T16:54:18.519569",
     "status": "completed"
    },
    "tags": []
   },
   "outputs": [
    {
     "name": "stdout",
     "output_type": "stream",
     "text": [
      "|--- acousticness <= 0.90\n",
      "|   |--- danceability <= 0.62\n",
      "|   |   |--- class: 8\n",
      "|   |--- danceability >  0.62\n",
      "|   |   |--- class: 5\n",
      "|--- acousticness >  0.90\n",
      "|   |--- instrumentalness <= 0.01\n",
      "|   |   |--- class: 7\n",
      "|   |--- instrumentalness >  0.01\n",
      "|   |   |--- class: 0\n",
      "\n"
     ]
    }
   ],
   "source": [
    "print(export_text(dt, feature_names=list(dv.get_feature_names_out())))"
   ]
  },
  {
   "cell_type": "code",
   "execution_count": 37,
   "id": "17dde3bf",
   "metadata": {
    "execution": {
     "iopub.execute_input": "2023-12-12T16:54:18.604495Z",
     "iopub.status.busy": "2023-12-12T16:54:18.604147Z",
     "iopub.status.idle": "2023-12-12T16:54:19.477610Z",
     "shell.execute_reply": "2023-12-12T16:54:19.475770Z"
    },
    "papermill": {
     "duration": 0.900679,
     "end_time": "2023-12-12T16:54:19.480230",
     "exception": false,
     "start_time": "2023-12-12T16:54:18.579551",
     "status": "completed"
    },
    "tags": []
   },
   "outputs": [
    {
     "name": "stdout",
     "output_type": "stream",
     "text": [
      "   5 -> 0.754\n",
      "  10 -> 0.803\n",
      "  15 -> 0.766\n",
      "  20 -> 0.736\n",
      "  25 -> 0.735\n",
      "  30 -> 0.730\n",
      "  40 -> 0.737\n",
      "  50 -> 0.731\n",
      "None -> 0.736\n"
     ]
    }
   ],
   "source": [
    "depths = [ 5, 10, 15, 20, 25, 30, 40, 50, None]\n",
    "\n",
    "for depth in depths: \n",
    "    dt = DecisionTreeClassifier(max_depth=depth)\n",
    "    dt.fit(X_train, y_train)\n",
    "    y_pred = dt.predict_proba(X_val)\n",
    "    auc = roc_auc_score(y_val, y_pred, multi_class='ovr')\n",
    "    \n",
    "    print('%4s -> %.3f' % (depth, auc))"
   ]
  },
  {
   "cell_type": "code",
   "execution_count": 38,
   "id": "adda82b4",
   "metadata": {
    "execution": {
     "iopub.execute_input": "2023-12-12T16:54:19.530443Z",
     "iopub.status.busy": "2023-12-12T16:54:19.530054Z",
     "iopub.status.idle": "2023-12-12T16:54:21.478163Z",
     "shell.execute_reply": "2023-12-12T16:54:21.476305Z"
    },
    "papermill": {
     "duration": 1.976541,
     "end_time": "2023-12-12T16:54:21.481130",
     "exception": false,
     "start_time": "2023-12-12T16:54:19.504589",
     "status": "completed"
    },
    "tags": []
   },
   "outputs": [],
   "source": [
    "scores = []\n",
    "\n",
    "for depth in [5, 7, 10, 12]:\n",
    "    for s in [1, 5, 10, 15, 20, 500, 100, 200]:\n",
    "        dt = DecisionTreeClassifier(max_depth=depth, min_samples_leaf=s)\n",
    "        dt.fit(X_train, y_train)\n",
    "\n",
    "        y_pred = dt.predict_proba(X_val)\n",
    "        auc = roc_auc_score(y_val, y_pred, multi_class='ovr')\n",
    "        \n",
    "        scores.append((depth, s, auc))"
   ]
  },
  {
   "cell_type": "code",
   "execution_count": 39,
   "id": "71a03180",
   "metadata": {
    "execution": {
     "iopub.execute_input": "2023-12-12T16:54:21.540445Z",
     "iopub.status.busy": "2023-12-12T16:54:21.540044Z",
     "iopub.status.idle": "2023-12-12T16:54:21.545672Z",
     "shell.execute_reply": "2023-12-12T16:54:21.544103Z"
    },
    "papermill": {
     "duration": 0.035833,
     "end_time": "2023-12-12T16:54:21.548322",
     "exception": false,
     "start_time": "2023-12-12T16:54:21.512489",
     "status": "completed"
    },
    "tags": []
   },
   "outputs": [],
   "source": [
    "columns = ['max_depth', 'min_samples_leaf', 'auc']\n",
    "df_scores = pd.DataFrame(scores, columns=columns)"
   ]
  },
  {
   "cell_type": "code",
   "execution_count": 40,
   "id": "0d925318",
   "metadata": {
    "execution": {
     "iopub.execute_input": "2023-12-12T16:54:21.599051Z",
     "iopub.status.busy": "2023-12-12T16:54:21.598642Z",
     "iopub.status.idle": "2023-12-12T16:54:21.626238Z",
     "shell.execute_reply": "2023-12-12T16:54:21.624839Z"
    },
    "papermill": {
     "duration": 0.056044,
     "end_time": "2023-12-12T16:54:21.628906",
     "exception": false,
     "start_time": "2023-12-12T16:54:21.572862",
     "status": "completed"
    },
    "tags": []
   },
   "outputs": [
    {
     "data": {
      "text/html": [
       "<div>\n",
       "<style scoped>\n",
       "    .dataframe tbody tr th:only-of-type {\n",
       "        vertical-align: middle;\n",
       "    }\n",
       "\n",
       "    .dataframe tbody tr th {\n",
       "        vertical-align: top;\n",
       "    }\n",
       "\n",
       "    .dataframe thead tr th {\n",
       "        text-align: left;\n",
       "    }\n",
       "\n",
       "    .dataframe thead tr:last-of-type th {\n",
       "        text-align: right;\n",
       "    }\n",
       "</style>\n",
       "<table border=\"1\" class=\"dataframe\">\n",
       "  <thead>\n",
       "    <tr>\n",
       "      <th></th>\n",
       "      <th colspan=\"4\" halign=\"left\">auc</th>\n",
       "    </tr>\n",
       "    <tr>\n",
       "      <th>max_depth</th>\n",
       "      <th>5</th>\n",
       "      <th>7</th>\n",
       "      <th>10</th>\n",
       "      <th>12</th>\n",
       "    </tr>\n",
       "    <tr>\n",
       "      <th>min_samples_leaf</th>\n",
       "      <th></th>\n",
       "      <th></th>\n",
       "      <th></th>\n",
       "      <th></th>\n",
       "    </tr>\n",
       "  </thead>\n",
       "  <tbody>\n",
       "    <tr>\n",
       "      <th>1</th>\n",
       "      <td>0.754</td>\n",
       "      <td>0.774</td>\n",
       "      <td>0.802</td>\n",
       "      <td>0.788</td>\n",
       "    </tr>\n",
       "    <tr>\n",
       "      <th>5</th>\n",
       "      <td>0.754</td>\n",
       "      <td>0.778</td>\n",
       "      <td>0.812</td>\n",
       "      <td>0.812</td>\n",
       "    </tr>\n",
       "    <tr>\n",
       "      <th>10</th>\n",
       "      <td>0.754</td>\n",
       "      <td>0.777</td>\n",
       "      <td>0.814</td>\n",
       "      <td>0.822</td>\n",
       "    </tr>\n",
       "    <tr>\n",
       "      <th>15</th>\n",
       "      <td>0.753</td>\n",
       "      <td>0.778</td>\n",
       "      <td>0.819</td>\n",
       "      <td>0.827</td>\n",
       "    </tr>\n",
       "    <tr>\n",
       "      <th>20</th>\n",
       "      <td>0.755</td>\n",
       "      <td>0.781</td>\n",
       "      <td>0.820</td>\n",
       "      <td>0.827</td>\n",
       "    </tr>\n",
       "    <tr>\n",
       "      <th>100</th>\n",
       "      <td>0.758</td>\n",
       "      <td>0.785</td>\n",
       "      <td>0.804</td>\n",
       "      <td>0.804</td>\n",
       "    </tr>\n",
       "    <tr>\n",
       "      <th>200</th>\n",
       "      <td>0.762</td>\n",
       "      <td>0.786</td>\n",
       "      <td>0.788</td>\n",
       "      <td>0.788</td>\n",
       "    </tr>\n",
       "    <tr>\n",
       "      <th>500</th>\n",
       "      <td>0.753</td>\n",
       "      <td>0.755</td>\n",
       "      <td>0.755</td>\n",
       "      <td>0.755</td>\n",
       "    </tr>\n",
       "  </tbody>\n",
       "</table>\n",
       "</div>"
      ],
      "text/plain": [
       "                    auc                     \n",
       "max_depth            5      7      10     12\n",
       "min_samples_leaf                            \n",
       "1                 0.754  0.774  0.802  0.788\n",
       "5                 0.754  0.778  0.812  0.812\n",
       "10                0.754  0.777  0.814  0.822\n",
       "15                0.753  0.778  0.819  0.827\n",
       "20                0.755  0.781  0.820  0.827\n",
       "100               0.758  0.785  0.804  0.804\n",
       "200               0.762  0.786  0.788  0.788\n",
       "500               0.753  0.755  0.755  0.755"
      ]
     },
     "execution_count": 40,
     "metadata": {},
     "output_type": "execute_result"
    }
   ],
   "source": [
    "df_scores_pivot = df_scores.pivot(index='min_samples_leaf', columns=['max_depth'], values=['auc'])\n",
    "df_scores_pivot.round(3)"
   ]
  },
  {
   "cell_type": "code",
   "execution_count": 41,
   "id": "5cd84acc",
   "metadata": {
    "execution": {
     "iopub.execute_input": "2023-12-12T16:54:21.681849Z",
     "iopub.status.busy": "2023-12-12T16:54:21.680611Z",
     "iopub.status.idle": "2023-12-12T16:54:22.120515Z",
     "shell.execute_reply": "2023-12-12T16:54:22.118692Z"
    },
    "papermill": {
     "duration": 0.469832,
     "end_time": "2023-12-12T16:54:22.123546",
     "exception": false,
     "start_time": "2023-12-12T16:54:21.653714",
     "status": "completed"
    },
    "tags": []
   },
   "outputs": [
    {
     "data": {
      "text/plain": [
       "<Axes: xlabel='None-max_depth', ylabel='min_samples_leaf'>"
      ]
     },
     "execution_count": 41,
     "metadata": {},
     "output_type": "execute_result"
    },
    {
     "data": {
      "image/png": "[encoded data removed]",
      "text/plain": [
       "<Figure size 640x480 with 2 Axes>"
      ]
     },
     "metadata": {},
     "output_type": "display_data"
    }
   ],
   "source": [
    "sn.heatmap(df_scores_pivot, annot=True)"
   ]
  },
  {
   "cell_type": "code",
   "execution_count": 42,
   "id": "07bce855",
   "metadata": {
    "execution": {
     "iopub.execute_input": "2023-12-12T16:54:22.181145Z",
     "iopub.status.busy": "2023-12-12T16:54:22.180770Z",
     "iopub.status.idle": "2023-12-12T16:54:22.260247Z",
     "shell.execute_reply": "2023-12-12T16:54:22.259259Z"
    },
    "papermill": {
     "duration": 0.111622,
     "end_time": "2023-12-12T16:54:22.262985",
     "exception": false,
     "start_time": "2023-12-12T16:54:22.151363",
     "status": "completed"
    },
    "scrolled": true,
    "tags": []
   },
   "outputs": [
    {
     "data": {
      "text/html": [
       "<style>#sk-container-id-5 {color: black;background-color: white;}#sk-container-id-5 pre{padding: 0;}#sk-container-id-5 div.sk-toggleable {background-color: white;}#sk-container-id-5 label.sk-toggleable__label {cursor: pointer;display: block;width: 100%;margin-bottom: 0;padding: 0.3em;box-sizing: border-box;text-align: center;}#sk-container-id-5 label.sk-toggleable__label-arrow:before {content: \"▸\";float: left;margin-right: 0.25em;color: #696969;}#sk-container-id-5 label.sk-toggleable__label-arrow:hover:before {color: black;}#sk-container-id-5 div.sk-estimator:hover label.sk-toggleable__label-arrow:before {color: black;}#sk-container-id-5 div.sk-toggleable__content {max-height: 0;max-width: 0;overflow: hidden;text-align: left;background-color: #f0f8ff;}#sk-container-id-5 div.sk-toggleable__content pre {margin: 0.2em;color: black;border-radius: 0.25em;background-color: #f0f8ff;}#sk-container-id-5 input.sk-toggleable__control:checked~div.sk-toggleable__content {max-height: 200px;max-width: 100%;overflow: auto;}#sk-container-id-5 input.sk-toggleable__control:checked~label.sk-toggleable__label-arrow:before {content: \"▾\";}#sk-container-id-5 div.sk-estimator input.sk-toggleable__control:checked~label.sk-toggleable__label {background-color: #d4ebff;}#sk-container-id-5 div.sk-label input.sk-toggleable__control:checked~label.sk-toggleable__label {background-color: #d4ebff;}#sk-container-id-5 input.sk-hidden--visually {border: 0;clip: rect(1px 1px 1px 1px);clip: rect(1px, 1px, 1px, 1px);height: 1px;margin: -1px;overflow: hidden;padding: 0;position: absolute;width: 1px;}#sk-container-id-5 div.sk-estimator {font-family: monospace;background-color: #f0f8ff;border: 1px dotted black;border-radius: 0.25em;box-sizing: border-box;margin-bottom: 0.5em;}#sk-container-id-5 div.sk-estimator:hover {background-color: #d4ebff;}#sk-container-id-5 div.sk-parallel-item::after {content: \"\";width: 100%;border-bottom: 1px solid gray;flex-grow: 1;}#sk-container-id-5 div.sk-label:hover label.sk-toggleable__label {background-color: #d4ebff;}#sk-container-id-5 div.sk-serial::before {content: \"\";position: absolute;border-left: 1px solid gray;box-sizing: border-box;top: 0;bottom: 0;left: 50%;z-index: 0;}#sk-container-id-5 div.sk-serial {display: flex;flex-direction: column;align-items: center;background-color: white;padding-right: 0.2em;padding-left: 0.2em;position: relative;}#sk-container-id-5 div.sk-item {position: relative;z-index: 1;}#sk-container-id-5 div.sk-parallel {display: flex;align-items: stretch;justify-content: center;background-color: white;position: relative;}#sk-container-id-5 div.sk-item::before, #sk-container-id-5 div.sk-parallel-item::before {content: \"\";position: absolute;border-left: 1px solid gray;box-sizing: border-box;top: 0;bottom: 0;left: 50%;z-index: -1;}#sk-container-id-5 div.sk-parallel-item {display: flex;flex-direction: column;z-index: 1;position: relative;background-color: white;}#sk-container-id-5 div.sk-parallel-item:first-child::after {align-self: flex-end;width: 50%;}#sk-container-id-5 div.sk-parallel-item:last-child::after {align-self: flex-start;width: 50%;}#sk-container-id-5 div.sk-parallel-item:only-child::after {width: 0;}#sk-container-id-5 div.sk-dashed-wrapped {border: 1px dashed gray;margin: 0 0.4em 0.5em 0.4em;box-sizing: border-box;padding-bottom: 0.4em;background-color: white;}#sk-container-id-5 div.sk-label label {font-family: monospace;font-weight: bold;display: inline-block;line-height: 1.2em;}#sk-container-id-5 div.sk-label-container {text-align: center;}#sk-container-id-5 div.sk-container {/* jupyter's `normalize.less` sets `[hidden] { display: none; }` but bootstrap.min.css set `[hidden] { display: none !important; }` so we also need the `!important` here to be able to override the default hidden behavior on the sphinx rendered scikit-learn.org. See: https://github.com/scikit-learn/scikit-learn/issues/21755 */display: inline-block !important;position: relative;}#sk-container-id-5 div.sk-text-repr-fallback {display: none;}</style><div id=\"sk-container-id-5\" class=\"sk-top-container\"><div class=\"sk-text-repr-fallback\"><pre>DecisionTreeClassifier(max_depth=12, min_samples_leaf=15)</pre><b>In a Jupyter environment, please rerun this cell to show the HTML representation or trust the notebook. <br />On GitHub, the HTML representation is unable to render, please try loading this page with nbviewer.org.</b></div><div class=\"sk-container\" hidden><div class=\"sk-item\"><div class=\"sk-estimator sk-toggleable\"><input class=\"sk-toggleable__control sk-hidden--visually\" id=\"sk-estimator-id-5\" type=\"checkbox\" checked><label for=\"sk-estimator-id-5\" class=\"sk-toggleable__label sk-toggleable__label-arrow\">DecisionTreeClassifier</label><div class=\"sk-toggleable__content\"><pre>DecisionTreeClassifier(max_depth=12, min_samples_leaf=15)</pre></div></div></div></div></div>"
      ],
      "text/plain": [
       "DecisionTreeClassifier(max_depth=12, min_samples_leaf=15)"
      ]
     },
     "execution_count": 42,
     "metadata": {},
     "output_type": "execute_result"
    }
   ],
   "source": [
    "dt = DecisionTreeClassifier(max_depth=12, min_samples_leaf=15)\n",
    "dt.fit(X_train, y_train)"
   ]
  },
  {
   "cell_type": "markdown",
   "id": "3e854d09",
   "metadata": {
    "papermill": {
     "duration": 0.025308,
     "end_time": "2023-12-12T16:54:22.314854",
     "exception": false,
     "start_time": "2023-12-12T16:54:22.289546",
     "status": "completed"
    },
    "tags": []
   },
   "source": [
    "**Looks like the best parameters for Decision Tree are:**\n",
    "\n",
    "* max_depth = 12\n",
    "* min_samples_leaf = 15"
   ]
  },
  {
   "cell_type": "code",
   "execution_count": 43,
   "id": "6589022c",
   "metadata": {
    "execution": {
     "iopub.execute_input": "2023-12-12T16:54:22.366336Z",
     "iopub.status.busy": "2023-12-12T16:54:22.365964Z",
     "iopub.status.idle": "2023-12-12T16:54:22.380753Z",
     "shell.execute_reply": "2023-12-12T16:54:22.378537Z"
    },
    "papermill": {
     "duration": 0.046209,
     "end_time": "2023-12-12T16:54:22.385778",
     "exception": false,
     "start_time": "2023-12-12T16:54:22.339569",
     "status": "completed"
    },
    "tags": []
   },
   "outputs": [
    {
     "name": "stdout",
     "output_type": "stream",
     "text": [
      "|--- acousticness <= 0.90\n",
      "|   |--- danceability <= 0.62\n",
      "|   |   |--- acousticness <= 0.01\n",
      "|   |   |   |--- acousticness <= 0.00\n",
      "|   |   |   |   |--- speechiness <= 0.05\n",
      "|   |   |   |   |   |--- tempo <= 125.11\n",
      "|   |   |   |   |   |   |--- duration_ms <= 242248.50\n",
      "|   |   |   |   |   |   |   |--- class: 8\n",
      "|   |   |   |   |   |   |--- duration_ms >  242248.50\n",
      "|   |   |   |   |   |   |   |--- class: 8\n",
      "|   |   |   |   |   |--- tempo >  125.11\n",
      "|   |   |   |   |   |   |--- duration_ms <= 265733.00\n",
      "|   |   |   |   |   |   |   |--- duration_ms <= 214197.00\n",
      "|   |   |   |   |   |   |   |   |--- class: 2\n",
      "|   |   |   |   |   |   |   |--- duration_ms >  214197.00\n",
      "|   |   |   |   |   |   |   |   |--- speechiness <= 0.04\n",
      "|   |   |   |   |   |   |   |   |   |--- class: 11\n",
      "|   |   |   |   |   |   |   |   |--- speechiness >  0.04\n",
      "|   |   |   |   |   |   |   |   |   |--- class: 8\n",
      "|   |   |   |   |   |   |--- duration_ms >  265733.00\n",
      "|   |   |   |   |   |   |   |--- class: 8\n",
      "|   |   |   |   |--- speechiness >  0.05\n",
      "|   |   |   |   |   |--- energy <= 0.85\n",
      "|   |   |   |   |   |   |--- class: 8\n",
      "|   |   |   |   |   |--- energy >  0.85\n",
      "|   |   |   |   |   |   |--- duration_ms <= 199088.00\n",
      "|   |   |   |   |   |   |   |--- class: 8\n",
      "|   |   |   |   |   |   |--- duration_ms >  199088.00\n",
      "|   |   |   |   |   |   |   |--- energy <= 0.91\n",
      "|   |   |   |   |   |   |   |   |--- class: 8\n",
      "|   |   |   |   |   |   |   |--- energy >  0.91\n",
      "|   |   |   |   |   |   |   |   |--- tempo <= 122.20\n",
      "|   |   |   |   |   |   |   |   |   |--- tempo <= 103.34\n",
      "|   |   |   |   |   |   |   |   |   |   |--- class: 8\n",
      "|   |   |   |   |   |   |   |   |   |--- tempo >  103.34\n",
      "|   |   |   |   |   |   |   |   |   |   |--- class: 8\n",
      "|   |   |   |   |   |   |   |   |--- tempo >  122.20\n",
      "|   |   |   |   |   |   |   |   |   |--- tempo <= 131.50\n",
      "|   |   |   |   |   |   |   |   |   |   |--- class: 8\n",
      "|   |   |   |   |   |   |   |   |   |--- tempo >  131.50\n",
      "|   |   |   |   |   |   |   |   |   |   |--- class: 8\n",
      "|   |   |   |--- acousticness >  0.00\n",
      "|   |   |   |   |--- duration_ms <= 274033.00\n",
      "|   |   |   |   |   |--- danceability <= 0.49\n",
      "|   |   |   |   |   |   |--- valence <= 0.59\n",
      "|   |   |   |   |   |   |   |--- energy <= 0.78\n",
      "|   |   |   |   |   |   |   |   |--- class: 8\n",
      "|   |   |   |   |   |   |   |--- energy >  0.78\n",
      "|   |   |   |   |   |   |   |   |--- duration_ms <= 185166.50\n",
      "|   |   |   |   |   |   |   |   |   |--- class: 8\n",
      "|   |   |   |   |   |   |   |   |--- duration_ms >  185166.50\n",
      "|   |   |   |   |   |   |   |   |   |--- liveness <= 0.10\n",
      "|   |   |   |   |   |   |   |   |   |   |--- class: 8\n",
      "|   |   |   |   |   |   |   |   |   |--- liveness >  0.10\n",
      "|   |   |   |   |   |   |   |   |   |   |--- liveness <= 0.27\n",
      "|   |   |   |   |   |   |   |   |   |   |   |--- class: 8\n",
      "|   |   |   |   |   |   |   |   |   |   |--- liveness >  0.27\n",
      "|   |   |   |   |   |   |   |   |   |   |   |--- class: 8\n",
      "|   |   |   |   |   |   |--- valence >  0.59\n",
      "|   |   |   |   |   |   |   |--- valence <= 0.62\n",
      "|   |   |   |   |   |   |   |   |--- class: 11\n",
      "|   |   |   |   |   |   |   |--- valence >  0.62\n",
      "|   |   |   |   |   |   |   |   |--- class: 8\n",
      "|   |   |   |   |   |--- danceability >  0.49\n",
      "|   |   |   |   |   |   |--- valence <= 0.25\n",
      "|   |   |   |   |   |   |   |--- energy <= 0.64\n",
      "|   |   |   |   |   |   |   |   |--- class: 11\n",
      "|   |   |   |   |   |   |   |--- energy >  0.64\n",
      "|   |   |   |   |   |   |   |   |--- tempo <= 118.98\n",
      "|   |   |   |   |   |   |   |   |   |--- class: 8\n",
      "|   |   |   |   |   |   |   |   |--- tempo >  118.98\n",
      "|   |   |   |   |   |   |   |   |   |--- class: 4\n",
      "|   |   |   |   |   |   |--- valence >  0.25\n",
      "|   |   |   |   |   |   |   |--- energy <= 0.88\n",
      "|   |   |   |   |   |   |   |   |--- duration_ms <= 191291.00\n",
      "|   |   |   |   |   |   |   |   |   |--- acousticness <= 0.01\n",
      "|   |   |   |   |   |   |   |   |   |   |--- class: 1\n",
      "|   |   |   |   |   |   |   |   |   |--- acousticness >  0.01\n",
      "|   |   |   |   |   |   |   |   |   |   |--- class: 11\n",
      "|   |   |   |   |   |   |   |   |--- duration_ms >  191291.00\n",
      "|   |   |   |   |   |   |   |   |   |--- tempo <= 105.58\n",
      "|   |   |   |   |   |   |   |   |   |   |--- class: 8\n",
      "|   |   |   |   |   |   |   |   |   |--- tempo >  105.58\n",
      "|   |   |   |   |   |   |   |   |   |   |--- tempo <= 126.20\n",
      "|   |   |   |   |   |   |   |   |   |   |   |--- truncated branch of depth 2\n",
      "|   |   |   |   |   |   |   |   |   |   |--- tempo >  126.20\n",
      "|   |   |   |   |   |   |   |   |   |   |   |--- truncated branch of depth 2\n",
      "|   |   |   |   |   |   |   |--- energy >  0.88\n",
      "|   |   |   |   |   |   |   |   |--- valence <= 0.38\n",
      "|   |   |   |   |   |   |   |   |   |--- class: 9\n",
      "|   |   |   |   |   |   |   |   |--- valence >  0.38\n",
      "|   |   |   |   |   |   |   |   |   |--- duration_ms <= 212806.50\n",
      "|   |   |   |   |   |   |   |   |   |   |--- class: 8\n",
      "|   |   |   |   |   |   |   |   |   |--- duration_ms >  212806.50\n",
      "|   |   |   |   |   |   |   |   |   |   |--- valence <= 0.67\n",
      "|   |   |   |   |   |   |   |   |   |   |   |--- class: 11\n",
      "|   |   |   |   |   |   |   |   |   |   |--- valence >  0.67\n",
      "|   |   |   |   |   |   |   |   |   |   |   |--- class: 8\n",
      "|   |   |   |   |--- duration_ms >  274033.00\n",
      "|   |   |   |   |   |--- valence <= 0.10\n",
      "|   |   |   |   |   |   |--- class: 4\n",
      "|   |   |   |   |   |--- valence >  0.10\n",
      "|   |   |   |   |   |   |--- danceability <= 0.57\n",
      "|   |   |   |   |   |   |   |--- instrumentalness <= 0.05\n",
      "|   |   |   |   |   |   |   |   |--- duration_ms <= 307346.00\n",
      "|   |   |   |   |   |   |   |   |   |--- duration_ms <= 281013.00\n",
      "|   |   |   |   |   |   |   |   |   |   |--- class: 8\n",
      "|   |   |   |   |   |   |   |   |   |--- duration_ms >  281013.00\n",
      "|   |   |   |   |   |   |   |   |   |   |--- class: 8\n",
      "|   |   |   |   |   |   |   |   |--- duration_ms >  307346.00\n",
      "|   |   |   |   |   |   |   |   |   |--- danceability <= 0.40\n",
      "|   |   |   |   |   |   |   |   |   |   |--- class: 8\n",
      "|   |   |   |   |   |   |   |   |   |--- danceability >  0.40\n",
      "|   |   |   |   |   |   |   |   |   |   |--- class: 8\n",
      "|   |   |   |   |   |   |   |--- instrumentalness >  0.05\n",
      "|   |   |   |   |   |   |   |   |--- class: 8\n",
      "|   |   |   |   |   |   |--- danceability >  0.57\n",
      "|   |   |   |   |   |   |   |--- class: 8\n",
      "|   |   |--- acousticness >  0.01\n",
      "|   |   |   |--- acousticness <= 0.67\n",
      "|   |   |   |   |--- liveness <= 0.69\n",
      "|   |   |   |   |   |--- acousticness <= 0.12\n",
      "|   |   |   |   |   |   |--- duration_ms <= 119313.00\n",
      "|   |   |   |   |   |   |   |--- class: 11\n",
      "|   |   |   |   |   |   |--- duration_ms >  119313.00\n",
      "|   |   |   |   |   |   |   |--- duration_ms <= 250455.50\n",
      "|   |   |   |   |   |   |   |   |--- energy <= 0.86\n",
      "|   |   |   |   |   |   |   |   |   |--- speechiness <= 0.04\n",
      "|   |   |   |   |   |   |   |   |   |   |--- loudness <= -5.70\n",
      "|   |   |   |   |   |   |   |   |   |   |   |--- truncated branch of depth 2\n",
      "|   |   |   |   |   |   |   |   |   |   |--- loudness >  -5.70\n",
      "|   |   |   |   |   |   |   |   |   |   |   |--- truncated branch of depth 2\n",
      "|   |   |   |   |   |   |   |   |   |--- speechiness >  0.04\n",
      "|   |   |   |   |   |   |   |   |   |   |--- loudness <= -5.99\n",
      "|   |   |   |   |   |   |   |   |   |   |   |--- truncated branch of depth 2\n",
      "|   |   |   |   |   |   |   |   |   |   |--- loudness >  -5.99\n",
      "|   |   |   |   |   |   |   |   |   |   |   |--- truncated branch of depth 2\n",
      "|   |   |   |   |   |   |   |   |--- energy >  0.86\n",
      "|   |   |   |   |   |   |   |   |   |--- valence <= 0.53\n",
      "|   |   |   |   |   |   |   |   |   |   |--- liveness <= 0.16\n",
      "|   |   |   |   |   |   |   |   |   |   |   |--- truncated branch of depth 2\n",
      "|   |   |   |   |   |   |   |   |   |   |--- liveness >  0.16\n",
      "|   |   |   |   |   |   |   |   |   |   |   |--- class: 8\n",
      "|   |   |   |   |   |   |   |   |   |--- valence >  0.53\n",
      "|   |   |   |   |   |   |   |   |   |   |--- tempo <= 146.98\n",
      "|   |   |   |   |   |   |   |   |   |   |   |--- truncated branch of depth 2\n",
      "|   |   |   |   |   |   |   |   |   |   |--- tempo >  146.98\n",
      "|   |   |   |   |   |   |   |   |   |   |   |--- truncated branch of depth 2\n",
      "|   |   |   |   |   |   |   |--- duration_ms >  250455.50\n",
      "|   |   |   |   |   |   |   |   |--- liveness <= 0.36\n",
      "|   |   |   |   |   |   |   |   |   |--- danceability <= 0.53\n",
      "|   |   |   |   |   |   |   |   |   |   |--- energy <= 0.87\n",
      "|   |   |   |   |   |   |   |   |   |   |   |--- truncated branch of depth 2\n",
      "|   |   |   |   |   |   |   |   |   |   |--- energy >  0.87\n",
      "|   |   |   |   |   |   |   |   |   |   |   |--- class: 8\n",
      "|   |   |   |   |   |   |   |   |   |--- danceability >  0.53\n",
      "|   |   |   |   |   |   |   |   |   |   |--- acousticness <= 0.05\n",
      "|   |   |   |   |   |   |   |   |   |   |   |--- class: 8\n",
      "|   |   |   |   |   |   |   |   |   |   |--- acousticness >  0.05\n",
      "|   |   |   |   |   |   |   |   |   |   |   |--- truncated branch of depth 2\n",
      "|   |   |   |   |   |   |   |   |--- liveness >  0.36\n",
      "|   |   |   |   |   |   |   |   |   |--- tempo <= 164.62\n",
      "|   |   |   |   |   |   |   |   |   |   |--- class: 11\n",
      "|   |   |   |   |   |   |   |   |   |--- tempo >  164.62\n",
      "|   |   |   |   |   |   |   |   |   |   |--- class: 11\n",
      "|   |   |   |   |   |--- acousticness >  0.12\n",
      "|   |   |   |   |   |   |--- speechiness <= 0.03\n",
      "|   |   |   |   |   |   |   |--- loudness <= -8.33\n",
      "|   |   |   |   |   |   |   |   |--- instrumentalness <= 0.12\n",
      "|   |   |   |   |   |   |   |   |   |--- valence <= 0.16\n",
      "|   |   |   |   |   |   |   |   |   |   |--- class: 1\n",
      "|   |   |   |   |   |   |   |   |   |--- valence >  0.16\n",
      "|   |   |   |   |   |   |   |   |   |   |--- tempo <= 104.35\n",
      "|   |   |   |   |   |   |   |   |   |   |   |--- truncated branch of depth 2\n",
      "|   |   |   |   |   |   |   |   |   |   |--- tempo >  104.35\n",
      "|   |   |   |   |   |   |   |   |   |   |   |--- truncated branch of depth 2\n",
      "|   |   |   |   |   |   |   |   |--- instrumentalness >  0.12\n",
      "|   |   |   |   |   |   |   |   |   |--- class: 4\n",
      "|   |   |   |   |   |   |   |--- loudness >  -8.33\n",
      "|   |   |   |   |   |   |   |   |--- tempo <= 121.95\n",
      "|   |   |   |   |   |   |   |   |   |--- tempo <= 77.98\n",
      "|   |   |   |   |   |   |   |   |   |   |--- class: 11\n",
      "|   |   |   |   |   |   |   |   |   |--- tempo >  77.98\n",
      "|   |   |   |   |   |   |   |   |   |   |--- liveness <= 0.15\n",
      "|   |   |   |   |   |   |   |   |   |   |   |--- truncated branch of depth 2\n",
      "|   |   |   |   |   |   |   |   |   |   |--- liveness >  0.15\n",
      "|   |   |   |   |   |   |   |   |   |   |   |--- class: 5\n",
      "|   |   |   |   |   |   |   |   |--- tempo >  121.95\n",
      "|   |   |   |   |   |   |   |   |   |--- duration_ms <= 260607.00\n",
      "|   |   |   |   |   |   |   |   |   |   |--- valence <= 0.52\n",
      "|   |   |   |   |   |   |   |   |   |   |   |--- truncated branch of depth 2\n",
      "|   |   |   |   |   |   |   |   |   |   |--- valence >  0.52\n",
      "|   |   |   |   |   |   |   |   |   |   |   |--- class: 1\n",
      "|   |   |   |   |   |   |   |   |   |--- duration_ms >  260607.00\n",
      "|   |   |   |   |   |   |   |   |   |   |--- class: 11\n",
      "|   |   |   |   |   |   |--- speechiness >  0.03\n",
      "|   |   |   |   |   |   |   |--- danceability <= 0.27\n",
      "|   |   |   |   |   |   |   |   |--- class: 11\n",
      "|   |   |   |   |   |   |   |--- danceability >  0.27\n",
      "|   |   |   |   |   |   |   |   |--- duration_ms <= 228346.50\n",
      "|   |   |   |   |   |   |   |   |   |--- energy <= 0.55\n",
      "|   |   |   |   |   |   |   |   |   |   |--- energy <= 0.53\n",
      "|   |   |   |   |   |   |   |   |   |   |   |--- truncated branch of depth 2\n",
      "|   |   |   |   |   |   |   |   |   |   |--- energy >  0.53\n",
      "|   |   |   |   |   |   |   |   |   |   |   |--- class: 7\n",
      "|   |   |   |   |   |   |   |   |   |--- energy >  0.55\n",
      "|   |   |   |   |   |   |   |   |   |   |--- speechiness <= 0.07\n",
      "|   |   |   |   |   |   |   |   |   |   |   |--- truncated branch of depth 2\n",
      "|   |   |   |   |   |   |   |   |   |   |--- speechiness >  0.07\n",
      "|   |   |   |   |   |   |   |   |   |   |   |--- truncated branch of depth 2\n",
      "|   |   |   |   |   |   |   |   |--- duration_ms >  228346.50\n",
      "|   |   |   |   |   |   |   |   |   |--- loudness <= -10.68\n",
      "|   |   |   |   |   |   |   |   |   |   |--- instrumentalness <= 0.00\n",
      "|   |   |   |   |   |   |   |   |   |   |   |--- class: 3\n",
      "|   |   |   |   |   |   |   |   |   |   |--- instrumentalness >  0.00\n",
      "|   |   |   |   |   |   |   |   |   |   |   |--- class: 4\n",
      "|   |   |   |   |   |   |   |   |   |--- loudness >  -10.68\n",
      "|   |   |   |   |   |   |   |   |   |   |--- speechiness <= 0.03\n",
      "|   |   |   |   |   |   |   |   |   |   |   |--- class: 9\n",
      "|   |   |   |   |   |   |   |   |   |   |--- speechiness >  0.03\n",
      "|   |   |   |   |   |   |   |   |   |   |   |--- truncated branch of depth 2\n",
      "|   |   |   |   |--- liveness >  0.69\n",
      "|   |   |   |   |   |--- tempo <= 83.22\n",
      "|   |   |   |   |   |   |--- class: 10\n",
      "|   |   |   |   |   |--- tempo >  83.22\n",
      "|   |   |   |   |   |   |--- loudness <= -6.67\n",
      "|   |   |   |   |   |   |   |--- loudness <= -8.78\n",
      "|   |   |   |   |   |   |   |   |--- class: 10\n",
      "|   |   |   |   |   |   |   |--- loudness >  -8.78\n",
      "|   |   |   |   |   |   |   |   |--- class: 10\n",
      "|   |   |   |   |   |   |--- loudness >  -6.67\n",
      "|   |   |   |   |   |   |   |--- loudness <= -5.36\n",
      "|   |   |   |   |   |   |   |   |--- class: 10\n",
      "|   |   |   |   |   |   |   |--- loudness >  -5.36\n",
      "|   |   |   |   |   |   |   |   |--- class: 10\n",
      "|   |   |   |--- acousticness >  0.67\n",
      "|   |   |   |   |--- duration_ms <= 210165.00\n",
      "|   |   |   |   |   |--- instrumentalness <= 0.00\n",
      "|   |   |   |   |   |   |--- valence <= 0.88\n",
      "|   |   |   |   |   |   |   |--- valence <= 0.52\n",
      "|   |   |   |   |   |   |   |   |--- valence <= 0.29\n",
      "|   |   |   |   |   |   |   |   |   |--- tempo <= 81.46\n",
      "|   |   |   |   |   |   |   |   |   |   |--- valence <= 0.20\n",
      "|   |   |   |   |   |   |   |   |   |   |   |--- class: 1\n",
      "|   |   |   |   |   |   |   |   |   |   |--- valence >  0.20\n",
      "|   |   |   |   |   |   |   |   |   |   |   |--- class: 7\n",
      "|   |   |   |   |   |   |   |   |   |--- tempo >  81.46\n",
      "|   |   |   |   |   |   |   |   |   |   |--- acousticness <= 0.81\n",
      "|   |   |   |   |   |   |   |   |   |   |   |--- class: 7\n",
      "|   |   |   |   |   |   |   |   |   |   |--- acousticness >  0.81\n",
      "|   |   |   |   |   |   |   |   |   |   |   |--- class: 7\n",
      "|   |   |   |   |   |   |   |   |--- valence >  0.29\n",
      "|   |   |   |   |   |   |   |   |   |--- duration_ms <= 154413.00\n",
      "|   |   |   |   |   |   |   |   |   |   |--- class: 1\n",
      "|   |   |   |   |   |   |   |   |   |--- duration_ms >  154413.00\n",
      "|   |   |   |   |   |   |   |   |   |   |--- speechiness <= 0.03\n",
      "|   |   |   |   |   |   |   |   |   |   |   |--- class: 1\n",
      "|   |   |   |   |   |   |   |   |   |   |--- speechiness >  0.03\n",
      "|   |   |   |   |   |   |   |   |   |   |   |--- class: 10\n",
      "|   |   |   |   |   |   |   |--- valence >  0.52\n",
      "|   |   |   |   |   |   |   |   |--- acousticness <= 0.72\n",
      "|   |   |   |   |   |   |   |   |   |--- class: 7\n",
      "|   |   |   |   |   |   |   |   |--- acousticness >  0.72\n",
      "|   |   |   |   |   |   |   |   |   |--- speechiness <= 0.03\n",
      "|   |   |   |   |   |   |   |   |   |   |--- class: 7\n",
      "|   |   |   |   |   |   |   |   |   |--- speechiness >  0.03\n",
      "|   |   |   |   |   |   |   |   |   |   |--- tempo <= 136.25\n",
      "|   |   |   |   |   |   |   |   |   |   |   |--- truncated branch of depth 2\n",
      "|   |   |   |   |   |   |   |   |   |   |--- tempo >  136.25\n",
      "|   |   |   |   |   |   |   |   |   |   |   |--- class: 7\n",
      "|   |   |   |   |   |   |--- valence >  0.88\n",
      "|   |   |   |   |   |   |   |--- class: 10\n",
      "|   |   |   |   |   |--- instrumentalness >  0.00\n",
      "|   |   |   |   |   |   |--- duration_ms <= 141505.50\n",
      "|   |   |   |   |   |   |   |--- class: 0\n",
      "|   |   |   |   |   |   |--- duration_ms >  141505.50\n",
      "|   |   |   |   |   |   |   |--- energy <= 0.40\n",
      "|   |   |   |   |   |   |   |   |--- class: 7\n",
      "|   |   |   |   |   |   |   |--- energy >  0.40\n",
      "|   |   |   |   |   |   |   |   |--- class: 4\n",
      "|   |   |   |   |--- duration_ms >  210165.00\n",
      "|   |   |   |   |   |--- instrumentalness <= 0.51\n",
      "|   |   |   |   |   |   |--- loudness <= -11.65\n",
      "|   |   |   |   |   |   |   |--- speechiness <= 0.04\n",
      "|   |   |   |   |   |   |   |   |--- liveness <= 0.11\n",
      "|   |   |   |   |   |   |   |   |   |--- class: 7\n",
      "|   |   |   |   |   |   |   |   |--- liveness >  0.11\n",
      "|   |   |   |   |   |   |   |   |   |--- class: 3\n",
      "|   |   |   |   |   |   |   |--- speechiness >  0.04\n",
      "|   |   |   |   |   |   |   |   |--- class: 7\n",
      "|   |   |   |   |   |   |--- loudness >  -11.65\n",
      "|   |   |   |   |   |   |   |--- valence <= 0.18\n",
      "|   |   |   |   |   |   |   |   |--- class: 0\n",
      "|   |   |   |   |   |   |   |--- valence >  0.18\n",
      "|   |   |   |   |   |   |   |   |--- valence <= 0.53\n",
      "|   |   |   |   |   |   |   |   |   |--- tempo <= 98.97\n",
      "|   |   |   |   |   |   |   |   |   |   |--- duration_ms <= 242062.00\n",
      "|   |   |   |   |   |   |   |   |   |   |   |--- class: 10\n",
      "|   |   |   |   |   |   |   |   |   |   |--- duration_ms >  242062.00\n",
      "|   |   |   |   |   |   |   |   |   |   |   |--- class: 9\n",
      "|   |   |   |   |   |   |   |   |   |--- tempo >  98.97\n",
      "|   |   |   |   |   |   |   |   |   |   |--- speechiness <= 0.04\n",
      "|   |   |   |   |   |   |   |   |   |   |   |--- class: 9\n",
      "|   |   |   |   |   |   |   |   |   |   |--- speechiness >  0.04\n",
      "|   |   |   |   |   |   |   |   |   |   |   |--- class: 9\n",
      "|   |   |   |   |   |   |   |   |--- valence >  0.53\n",
      "|   |   |   |   |   |   |   |   |   |--- class: 0\n",
      "|   |   |   |   |   |--- instrumentalness >  0.51\n",
      "|   |   |   |   |   |   |--- class: 0\n",
      "|   |--- danceability >  0.62\n",
      "|   |   |--- instrumentalness <= 0.16\n",
      "|   |   |   |--- speechiness <= 0.08\n",
      "|   |   |   |   |--- acousticness <= 0.27\n",
      "|   |   |   |   |   |--- valence <= 0.73\n",
      "|   |   |   |   |   |   |--- duration_ms <= 190779.50\n",
      "|   |   |   |   |   |   |   |--- energy <= 0.74\n",
      "|   |   |   |   |   |   |   |   |--- speechiness <= 0.03\n",
      "|   |   |   |   |   |   |   |   |   |--- class: 1\n",
      "|   |   |   |   |   |   |   |   |--- speechiness >  0.03\n",
      "|   |   |   |   |   |   |   |   |   |--- speechiness <= 0.07\n",
      "|   |   |   |   |   |   |   |   |   |   |--- loudness <= -4.74\n",
      "|   |   |   |   |   |   |   |   |   |   |   |--- truncated branch of depth 2\n",
      "|   |   |   |   |   |   |   |   |   |   |--- loudness >  -4.74\n",
      "|   |   |   |   |   |   |   |   |   |   |   |--- class: 2\n",
      "|   |   |   |   |   |   |   |   |   |--- speechiness >  0.07\n",
      "|   |   |   |   |   |   |   |   |   |   |--- energy <= 0.65\n",
      "|   |   |   |   |   |   |   |   |   |   |   |--- class: 9\n",
      "|   |   |   |   |   |   |   |   |   |   |--- energy >  0.65\n",
      "|   |   |   |   |   |   |   |   |   |   |   |--- class: 4\n",
      "|   |   |   |   |   |   |   |--- energy >  0.74\n",
      "|   |   |   |   |   |   |   |   |--- acousticness <= 0.00\n",
      "|   |   |   |   |   |   |   |   |   |--- class: 2\n",
      "|   |   |   |   |   |   |   |   |--- acousticness >  0.00\n",
      "|   |   |   |   |   |   |   |   |   |--- loudness <= -5.67\n",
      "|   |   |   |   |   |   |   |   |   |   |--- liveness <= 0.14\n",
      "|   |   |   |   |   |   |   |   |   |   |   |--- class: 6\n",
      "|   |   |   |   |   |   |   |   |   |   |--- liveness >  0.14\n",
      "|   |   |   |   |   |   |   |   |   |   |   |--- class: 6\n",
      "|   |   |   |   |   |   |   |   |   |--- loudness >  -5.67\n",
      "|   |   |   |   |   |   |   |   |   |   |--- valence <= 0.55\n",
      "|   |   |   |   |   |   |   |   |   |   |   |--- truncated branch of depth 2\n",
      "|   |   |   |   |   |   |   |   |   |   |--- valence >  0.55\n",
      "|   |   |   |   |   |   |   |   |   |   |   |--- truncated branch of depth 2\n",
      "|   |   |   |   |   |   |--- duration_ms >  190779.50\n",
      "|   |   |   |   |   |   |   |--- danceability <= 0.81\n",
      "|   |   |   |   |   |   |   |   |--- duration_ms <= 222739.50\n",
      "|   |   |   |   |   |   |   |   |   |--- energy <= 0.89\n",
      "|   |   |   |   |   |   |   |   |   |   |--- loudness <= -5.37\n",
      "|   |   |   |   |   |   |   |   |   |   |   |--- truncated branch of depth 2\n",
      "|   |   |   |   |   |   |   |   |   |   |--- loudness >  -5.37\n",
      "|   |   |   |   |   |   |   |   |   |   |   |--- truncated branch of depth 2\n",
      "|   |   |   |   |   |   |   |   |   |--- energy >  0.89\n",
      "|   |   |   |   |   |   |   |   |   |   |--- class: 3\n",
      "|   |   |   |   |   |   |   |   |--- duration_ms >  222739.50\n",
      "|   |   |   |   |   |   |   |   |   |--- loudness <= -4.53\n",
      "|   |   |   |   |   |   |   |   |   |   |--- valence <= 0.49\n",
      "|   |   |   |   |   |   |   |   |   |   |   |--- truncated branch of depth 2\n",
      "|   |   |   |   |   |   |   |   |   |   |--- valence >  0.49\n",
      "|   |   |   |   |   |   |   |   |   |   |   |--- truncated branch of depth 2\n",
      "|   |   |   |   |   |   |   |   |   |--- loudness >  -4.53\n",
      "|   |   |   |   |   |   |   |   |   |   |--- valence <= 0.64\n",
      "|   |   |   |   |   |   |   |   |   |   |   |--- class: 2\n",
      "|   |   |   |   |   |   |   |   |   |   |--- valence >  0.64\n",
      "|   |   |   |   |   |   |   |   |   |   |   |--- class: 2\n",
      "|   |   |   |   |   |   |   |--- danceability >  0.81\n",
      "|   |   |   |   |   |   |   |   |--- speechiness <= 0.05\n",
      "|   |   |   |   |   |   |   |   |   |--- class: 6\n",
      "|   |   |   |   |   |   |   |   |--- speechiness >  0.05\n",
      "|   |   |   |   |   |   |   |   |   |--- class: 5\n",
      "|   |   |   |   |   |--- valence >  0.73\n",
      "|   |   |   |   |   |   |--- duration_ms <= 179314.50\n",
      "|   |   |   |   |   |   |   |--- loudness <= -5.56\n",
      "|   |   |   |   |   |   |   |   |--- acousticness <= 0.08\n",
      "|   |   |   |   |   |   |   |   |   |--- class: 11\n",
      "|   |   |   |   |   |   |   |   |--- acousticness >  0.08\n",
      "|   |   |   |   |   |   |   |   |   |--- class: 1\n",
      "|   |   |   |   |   |   |   |--- loudness >  -5.56\n",
      "|   |   |   |   |   |   |   |   |--- tempo <= 124.98\n",
      "|   |   |   |   |   |   |   |   |   |--- tempo <= 101.49\n",
      "|   |   |   |   |   |   |   |   |   |   |--- class: 3\n",
      "|   |   |   |   |   |   |   |   |   |--- tempo >  101.49\n",
      "|   |   |   |   |   |   |   |   |   |   |--- danceability <= 0.69\n",
      "|   |   |   |   |   |   |   |   |   |   |   |--- class: 2\n",
      "|   |   |   |   |   |   |   |   |   |   |--- danceability >  0.69\n",
      "|   |   |   |   |   |   |   |   |   |   |   |--- class: 6\n",
      "|   |   |   |   |   |   |   |   |--- tempo >  124.98\n",
      "|   |   |   |   |   |   |   |   |   |--- class: 4\n",
      "|   |   |   |   |   |   |--- duration_ms >  179314.50\n",
      "|   |   |   |   |   |   |   |--- tempo <= 103.29\n",
      "|   |   |   |   |   |   |   |   |--- duration_ms <= 226066.50\n",
      "|   |   |   |   |   |   |   |   |   |--- instrumentalness <= 0.00\n",
      "|   |   |   |   |   |   |   |   |   |   |--- class: 2\n",
      "|   |   |   |   |   |   |   |   |   |--- instrumentalness >  0.00\n",
      "|   |   |   |   |   |   |   |   |   |   |--- class: 1\n",
      "|   |   |   |   |   |   |   |   |--- duration_ms >  226066.50\n",
      "|   |   |   |   |   |   |   |   |   |--- acousticness <= 0.14\n",
      "|   |   |   |   |   |   |   |   |   |   |--- class: 5\n",
      "|   |   |   |   |   |   |   |   |   |--- acousticness >  0.14\n",
      "|   |   |   |   |   |   |   |   |   |   |--- class: 3\n",
      "|   |   |   |   |   |   |   |--- tempo >  103.29\n",
      "|   |   |   |   |   |   |   |   |--- speechiness <= 0.03\n",
      "|   |   |   |   |   |   |   |   |   |--- energy <= 0.63\n",
      "|   |   |   |   |   |   |   |   |   |   |--- class: 2\n",
      "|   |   |   |   |   |   |   |   |   |--- energy >  0.63\n",
      "|   |   |   |   |   |   |   |   |   |   |--- loudness <= -5.73\n",
      "|   |   |   |   |   |   |   |   |   |   |   |--- truncated branch of depth 2\n",
      "|   |   |   |   |   |   |   |   |   |   |--- loudness >  -5.73\n",
      "|   |   |   |   |   |   |   |   |   |   |   |--- truncated branch of depth 2\n",
      "|   |   |   |   |   |   |   |   |--- speechiness >  0.03\n",
      "|   |   |   |   |   |   |   |   |   |--- valence <= 0.94\n",
      "|   |   |   |   |   |   |   |   |   |   |--- tempo <= 142.97\n",
      "|   |   |   |   |   |   |   |   |   |   |   |--- truncated branch of depth 2\n",
      "|   |   |   |   |   |   |   |   |   |   |--- tempo >  142.97\n",
      "|   |   |   |   |   |   |   |   |   |   |   |--- class: 10\n",
      "|   |   |   |   |   |   |   |   |   |--- valence >  0.94\n",
      "|   |   |   |   |   |   |   |   |   |   |--- loudness <= -6.82\n",
      "|   |   |   |   |   |   |   |   |   |   |   |--- class: 3\n",
      "|   |   |   |   |   |   |   |   |   |   |--- loudness >  -6.82\n",
      "|   |   |   |   |   |   |   |   |   |   |   |--- class: 3\n",
      "|   |   |   |   |--- acousticness >  0.27\n",
      "|   |   |   |   |   |--- valence <= 0.88\n",
      "|   |   |   |   |   |   |--- tempo <= 155.20\n",
      "|   |   |   |   |   |   |   |--- acousticness <= 0.75\n",
      "|   |   |   |   |   |   |   |   |--- danceability <= 0.87\n",
      "|   |   |   |   |   |   |   |   |   |--- duration_ms <= 156490.50\n",
      "|   |   |   |   |   |   |   |   |   |   |--- speechiness <= 0.04\n",
      "|   |   |   |   |   |   |   |   |   |   |   |--- class: 11\n",
      "|   |   |   |   |   |   |   |   |   |   |--- speechiness >  0.04\n",
      "|   |   |   |   |   |   |   |   |   |   |   |--- class: 5\n",
      "|   |   |   |   |   |   |   |   |   |--- duration_ms >  156490.50\n",
      "|   |   |   |   |   |   |   |   |   |   |--- duration_ms <= 255444.00\n",
      "|   |   |   |   |   |   |   |   |   |   |   |--- truncated branch of depth 2\n",
      "|   |   |   |   |   |   |   |   |   |   |--- duration_ms >  255444.00\n",
      "|   |   |   |   |   |   |   |   |   |   |   |--- truncated branch of depth 2\n",
      "|   |   |   |   |   |   |   |   |--- danceability >  0.87\n",
      "|   |   |   |   |   |   |   |   |   |--- class: 2\n",
      "|   |   |   |   |   |   |   |--- acousticness >  0.75\n",
      "|   |   |   |   |   |   |   |   |--- valence <= 0.50\n",
      "|   |   |   |   |   |   |   |   |   |--- class: 9\n",
      "|   |   |   |   |   |   |   |   |--- valence >  0.50\n",
      "|   |   |   |   |   |   |   |   |   |--- energy <= 0.29\n",
      "|   |   |   |   |   |   |   |   |   |   |--- class: 7\n",
      "|   |   |   |   |   |   |   |   |   |--- energy >  0.29\n",
      "|   |   |   |   |   |   |   |   |   |   |--- class: 7\n",
      "|   |   |   |   |   |   |--- tempo >  155.20\n",
      "|   |   |   |   |   |   |   |--- class: 9\n",
      "|   |   |   |   |   |--- valence >  0.88\n",
      "|   |   |   |   |   |   |--- duration_ms <= 77219.50\n",
      "|   |   |   |   |   |   |   |--- class: 7\n",
      "|   |   |   |   |   |   |--- duration_ms >  77219.50\n",
      "|   |   |   |   |   |   |   |--- energy <= 0.73\n",
      "|   |   |   |   |   |   |   |   |--- acousticness <= 0.39\n",
      "|   |   |   |   |   |   |   |   |   |--- class: 10\n",
      "|   |   |   |   |   |   |   |   |--- acousticness >  0.39\n",
      "|   |   |   |   |   |   |   |   |   |--- acousticness <= 0.61\n",
      "|   |   |   |   |   |   |   |   |   |   |--- acousticness <= 0.50\n",
      "|   |   |   |   |   |   |   |   |   |   |   |--- class: 10\n",
      "|   |   |   |   |   |   |   |   |   |   |--- acousticness >  0.50\n",
      "|   |   |   |   |   |   |   |   |   |   |   |--- class: 10\n",
      "|   |   |   |   |   |   |   |   |   |--- acousticness >  0.61\n",
      "|   |   |   |   |   |   |   |   |   |   |--- class: 10\n",
      "|   |   |   |   |   |   |   |--- energy >  0.73\n",
      "|   |   |   |   |   |   |   |   |--- loudness <= -6.28\n",
      "|   |   |   |   |   |   |   |   |   |--- class: 3\n",
      "|   |   |   |   |   |   |   |   |--- loudness >  -6.28\n",
      "|   |   |   |   |   |   |   |   |   |--- class: 2\n",
      "|   |   |   |--- speechiness >  0.08\n",
      "|   |   |   |   |--- acousticness <= 0.81\n",
      "|   |   |   |   |   |--- danceability <= 0.63\n",
      "|   |   |   |   |   |   |--- danceability <= 0.62\n",
      "|   |   |   |   |   |   |   |--- class: 6\n",
      "|   |   |   |   |   |   |--- danceability >  0.62\n",
      "|   |   |   |   |   |   |   |--- class: 6\n",
      "|   |   |   |   |   |--- danceability >  0.63\n",
      "|   |   |   |   |   |   |--- tempo <= 109.98\n",
      "|   |   |   |   |   |   |   |--- danceability <= 0.71\n",
      "|   |   |   |   |   |   |   |   |--- loudness <= -3.00\n",
      "|   |   |   |   |   |   |   |   |   |--- tempo <= 87.96\n",
      "|   |   |   |   |   |   |   |   |   |   |--- valence <= 0.59\n",
      "|   |   |   |   |   |   |   |   |   |   |   |--- class: 5\n",
      "|   |   |   |   |   |   |   |   |   |   |--- valence >  0.59\n",
      "|   |   |   |   |   |   |   |   |   |   |   |--- class: 10\n",
      "|   |   |   |   |   |   |   |   |   |--- tempo >  87.96\n",
      "|   |   |   |   |   |   |   |   |   |   |--- speechiness <= 0.09\n",
      "|   |   |   |   |   |   |   |   |   |   |   |--- class: 9\n",
      "|   |   |   |   |   |   |   |   |   |   |--- speechiness >  0.09\n",
      "|   |   |   |   |   |   |   |   |   |   |   |--- truncated branch of depth 2\n",
      "|   |   |   |   |   |   |   |   |--- loudness >  -3.00\n",
      "|   |   |   |   |   |   |   |   |   |--- class: 2\n",
      "|   |   |   |   |   |   |   |--- danceability >  0.71\n",
      "|   |   |   |   |   |   |   |   |--- acousticness <= 0.03\n",
      "|   |   |   |   |   |   |   |   |   |--- liveness <= 0.11\n",
      "|   |   |   |   |   |   |   |   |   |   |--- class: 5\n",
      "|   |   |   |   |   |   |   |   |   |--- liveness >  0.11\n",
      "|   |   |   |   |   |   |   |   |   |   |--- liveness <= 0.22\n",
      "|   |   |   |   |   |   |   |   |   |   |   |--- class: 5\n",
      "|   |   |   |   |   |   |   |   |   |   |--- liveness >  0.22\n",
      "|   |   |   |   |   |   |   |   |   |   |   |--- class: 5\n",
      "|   |   |   |   |   |   |   |   |--- acousticness >  0.03\n",
      "|   |   |   |   |   |   |   |   |   |--- acousticness <= 0.22\n",
      "|   |   |   |   |   |   |   |   |   |   |--- duration_ms <= 179236.00\n",
      "|   |   |   |   |   |   |   |   |   |   |   |--- truncated branch of depth 2\n",
      "|   |   |   |   |   |   |   |   |   |   |--- duration_ms >  179236.00\n",
      "|   |   |   |   |   |   |   |   |   |   |   |--- truncated branch of depth 2\n",
      "|   |   |   |   |   |   |   |   |   |--- acousticness >  0.22\n",
      "|   |   |   |   |   |   |   |   |   |   |--- speechiness <= 0.14\n",
      "|   |   |   |   |   |   |   |   |   |   |   |--- class: 9\n",
      "|   |   |   |   |   |   |   |   |   |   |--- speechiness >  0.14\n",
      "|   |   |   |   |   |   |   |   |   |   |   |--- truncated branch of depth 2\n",
      "|   |   |   |   |   |   |--- tempo >  109.98\n",
      "|   |   |   |   |   |   |   |--- tempo <= 154.99\n",
      "|   |   |   |   |   |   |   |   |--- tempo <= 128.57\n",
      "|   |   |   |   |   |   |   |   |   |--- duration_ms <= 181596.50\n",
      "|   |   |   |   |   |   |   |   |   |   |--- energy <= 0.58\n",
      "|   |   |   |   |   |   |   |   |   |   |   |--- class: 7\n",
      "|   |   |   |   |   |   |   |   |   |   |--- energy >  0.58\n",
      "|   |   |   |   |   |   |   |   |   |   |   |--- truncated branch of depth 2\n",
      "|   |   |   |   |   |   |   |   |   |--- duration_ms >  181596.50\n",
      "|   |   |   |   |   |   |   |   |   |   |--- acousticness <= 0.38\n",
      "|   |   |   |   |   |   |   |   |   |   |   |--- truncated branch of depth 2\n",
      "|   |   |   |   |   |   |   |   |   |   |--- acousticness >  0.38\n",
      "|   |   |   |   |   |   |   |   |   |   |   |--- class: 10\n",
      "|   |   |   |   |   |   |   |   |--- tempo >  128.57\n",
      "|   |   |   |   |   |   |   |   |   |--- energy <= 0.88\n",
      "|   |   |   |   |   |   |   |   |   |   |--- liveness <= 0.53\n",
      "|   |   |   |   |   |   |   |   |   |   |   |--- truncated branch of depth 2\n",
      "|   |   |   |   |   |   |   |   |   |   |--- liveness >  0.53\n",
      "|   |   |   |   |   |   |   |   |   |   |   |--- class: 1\n",
      "|   |   |   |   |   |   |   |   |   |--- energy >  0.88\n",
      "|   |   |   |   |   |   |   |   |   |   |--- liveness <= 0.15\n",
      "|   |   |   |   |   |   |   |   |   |   |   |--- class: 5\n",
      "|   |   |   |   |   |   |   |   |   |   |--- liveness >  0.15\n",
      "|   |   |   |   |   |   |   |   |   |   |   |--- class: 3\n",
      "|   |   |   |   |   |   |   |--- tempo >  154.99\n",
      "|   |   |   |   |   |   |   |   |--- tempo <= 167.96\n",
      "|   |   |   |   |   |   |   |   |   |--- liveness <= 0.14\n",
      "|   |   |   |   |   |   |   |   |   |   |--- instrumentalness <= 0.00\n",
      "|   |   |   |   |   |   |   |   |   |   |   |--- class: 5\n",
      "|   |   |   |   |   |   |   |   |   |   |--- instrumentalness >  0.00\n",
      "|   |   |   |   |   |   |   |   |   |   |   |--- class: 5\n",
      "|   |   |   |   |   |   |   |   |   |--- liveness >  0.14\n",
      "|   |   |   |   |   |   |   |   |   |   |--- class: 5\n",
      "|   |   |   |   |   |   |   |   |--- tempo >  167.96\n",
      "|   |   |   |   |   |   |   |   |   |--- instrumentalness <= 0.00\n",
      "|   |   |   |   |   |   |   |   |   |   |--- duration_ms <= 200456.50\n",
      "|   |   |   |   |   |   |   |   |   |   |   |--- class: 9\n",
      "|   |   |   |   |   |   |   |   |   |   |--- duration_ms >  200456.50\n",
      "|   |   |   |   |   |   |   |   |   |   |   |--- class: 5\n",
      "|   |   |   |   |   |   |   |   |   |--- instrumentalness >  0.00\n",
      "|   |   |   |   |   |   |   |   |   |   |--- class: 2\n",
      "|   |   |   |   |--- acousticness >  0.81\n",
      "|   |   |   |   |   |--- class: 10\n",
      "|   |   |--- instrumentalness >  0.16\n",
      "|   |   |   |--- valence <= 0.78\n",
      "|   |   |   |   |--- tempo <= 99.99\n",
      "|   |   |   |   |   |--- loudness <= -9.18\n",
      "|   |   |   |   |   |   |--- class: 7\n",
      "|   |   |   |   |   |--- loudness >  -9.18\n",
      "|   |   |   |   |   |   |--- class: 4\n",
      "|   |   |   |   |--- tempo >  99.99\n",
      "|   |   |   |   |   |--- energy <= 0.76\n",
      "|   |   |   |   |   |   |--- duration_ms <= 168624.50\n",
      "|   |   |   |   |   |   |   |--- class: 4\n",
      "|   |   |   |   |   |   |--- duration_ms >  168624.50\n",
      "|   |   |   |   |   |   |   |--- valence <= 0.20\n",
      "|   |   |   |   |   |   |   |   |--- instrumentalness <= 0.79\n",
      "|   |   |   |   |   |   |   |   |   |--- class: 4\n",
      "|   |   |   |   |   |   |   |   |--- instrumentalness >  0.79\n",
      "|   |   |   |   |   |   |   |   |   |--- class: 4\n",
      "|   |   |   |   |   |   |   |--- valence >  0.20\n",
      "|   |   |   |   |   |   |   |   |--- valence <= 0.31\n",
      "|   |   |   |   |   |   |   |   |   |--- class: 3\n",
      "|   |   |   |   |   |   |   |   |--- valence >  0.31\n",
      "|   |   |   |   |   |   |   |   |   |--- acousticness <= 0.12\n",
      "|   |   |   |   |   |   |   |   |   |   |--- danceability <= 0.73\n",
      "|   |   |   |   |   |   |   |   |   |   |   |--- class: 4\n",
      "|   |   |   |   |   |   |   |   |   |   |--- danceability >  0.73\n",
      "|   |   |   |   |   |   |   |   |   |   |   |--- class: 4\n",
      "|   |   |   |   |   |   |   |   |   |--- acousticness >  0.12\n",
      "|   |   |   |   |   |   |   |   |   |   |--- class: 4\n",
      "|   |   |   |   |   |--- energy >  0.76\n",
      "|   |   |   |   |   |   |--- duration_ms <= 252564.50\n",
      "|   |   |   |   |   |   |   |--- instrumentalness <= 0.71\n",
      "|   |   |   |   |   |   |   |   |--- class: 4\n",
      "|   |   |   |   |   |   |   |--- instrumentalness >  0.71\n",
      "|   |   |   |   |   |   |   |   |--- class: 4\n",
      "|   |   |   |   |   |   |--- duration_ms >  252564.50\n",
      "|   |   |   |   |   |   |   |--- danceability <= 0.72\n",
      "|   |   |   |   |   |   |   |   |--- class: 4\n",
      "|   |   |   |   |   |   |   |--- danceability >  0.72\n",
      "|   |   |   |   |   |   |   |   |--- class: 3\n",
      "|   |   |   |--- valence >  0.78\n",
      "|   |   |   |   |--- instrumentalness <= 0.56\n",
      "|   |   |   |   |   |--- class: 3\n",
      "|   |   |   |   |--- instrumentalness >  0.56\n",
      "|   |   |   |   |   |--- class: 3\n",
      "|--- acousticness >  0.90\n",
      "|   |--- instrumentalness <= 0.01\n",
      "|   |   |--- duration_ms <= 261906.00\n",
      "|   |   |   |--- duration_ms <= 110979.50\n",
      "|   |   |   |   |--- class: 0\n",
      "|   |   |   |--- duration_ms >  110979.50\n",
      "|   |   |   |   |--- loudness <= -14.48\n",
      "|   |   |   |   |   |--- speechiness <= 0.04\n",
      "|   |   |   |   |   |   |--- danceability <= 0.45\n",
      "|   |   |   |   |   |   |   |--- class: 7\n",
      "|   |   |   |   |   |   |--- danceability >  0.45\n",
      "|   |   |   |   |   |   |   |--- class: 7\n",
      "|   |   |   |   |   |--- speechiness >  0.04\n",
      "|   |   |   |   |   |   |--- class: 7\n",
      "|   |   |   |   |--- loudness >  -14.48\n",
      "|   |   |   |   |   |--- tempo <= 76.81\n",
      "|   |   |   |   |   |   |--- class: 9\n",
      "|   |   |   |   |   |--- tempo >  76.81\n",
      "|   |   |   |   |   |   |--- energy <= 0.21\n",
      "|   |   |   |   |   |   |   |--- class: 7\n",
      "|   |   |   |   |   |   |--- energy >  0.21\n",
      "|   |   |   |   |   |   |   |--- danceability <= 0.58\n",
      "|   |   |   |   |   |   |   |   |--- loudness <= -10.05\n",
      "|   |   |   |   |   |   |   |   |   |--- class: 0\n",
      "|   |   |   |   |   |   |   |   |--- loudness >  -10.05\n",
      "|   |   |   |   |   |   |   |   |   |--- class: 7\n",
      "|   |   |   |   |   |   |   |--- danceability >  0.58\n",
      "|   |   |   |   |   |   |   |   |--- class: 7\n",
      "|   |   |--- duration_ms >  261906.00\n",
      "|   |   |   |--- energy <= 0.14\n",
      "|   |   |   |   |--- class: 7\n",
      "|   |   |   |--- energy >  0.14\n",
      "|   |   |   |   |--- duration_ms <= 344921.00\n",
      "|   |   |   |   |   |--- class: 0\n",
      "|   |   |   |   |--- duration_ms >  344921.00\n",
      "|   |   |   |   |   |--- class: 0\n",
      "|   |--- instrumentalness >  0.01\n",
      "|   |   |--- loudness <= -17.18\n",
      "|   |   |   |--- speechiness <= 0.03\n",
      "|   |   |   |   |--- class: 0\n",
      "|   |   |   |--- speechiness >  0.03\n",
      "|   |   |   |   |--- danceability <= 0.51\n",
      "|   |   |   |   |   |--- danceability <= 0.35\n",
      "|   |   |   |   |   |   |--- class: 0\n",
      "|   |   |   |   |   |--- danceability >  0.35\n",
      "|   |   |   |   |   |   |--- valence <= 0.27\n",
      "|   |   |   |   |   |   |   |--- tempo <= 83.39\n",
      "|   |   |   |   |   |   |   |   |--- class: 0\n",
      "|   |   |   |   |   |   |   |--- tempo >  83.39\n",
      "|   |   |   |   |   |   |   |   |--- class: 0\n",
      "|   |   |   |   |   |   |--- valence >  0.27\n",
      "|   |   |   |   |   |   |   |--- class: 0\n",
      "|   |   |   |   |--- danceability >  0.51\n",
      "|   |   |   |   |   |--- duration_ms <= 98126.50\n",
      "|   |   |   |   |   |   |--- class: 0\n",
      "|   |   |   |   |   |--- duration_ms >  98126.50\n",
      "|   |   |   |   |   |   |--- class: 0\n",
      "|   |   |--- loudness >  -17.18\n",
      "|   |   |   |--- duration_ms <= 157499.00\n",
      "|   |   |   |   |--- class: 0\n",
      "|   |   |   |--- duration_ms >  157499.00\n",
      "|   |   |   |   |--- danceability <= 0.52\n",
      "|   |   |   |   |   |--- speechiness <= 0.04\n",
      "|   |   |   |   |   |   |--- class: 0\n",
      "|   |   |   |   |   |--- speechiness >  0.04\n",
      "|   |   |   |   |   |   |--- class: 0\n",
      "|   |   |   |   |--- danceability >  0.52\n",
      "|   |   |   |   |   |--- class: 7\n",
      "\n"
     ]
    }
   ],
   "source": [
    "print(export_text(dt, feature_names=list(dv.get_feature_names_out())))"
   ]
  },
  {
   "cell_type": "markdown",
   "id": "725f5b77",
   "metadata": {
    "papermill": {
     "duration": 0.025182,
     "end_time": "2023-12-12T16:54:22.438750",
     "exception": false,
     "start_time": "2023-12-12T16:54:22.413568",
     "status": "completed"
    },
    "tags": []
   },
   "source": [
    "## Random Forest Classifier"
   ]
  },
  {
   "cell_type": "code",
   "execution_count": 44,
   "id": "faf2b872",
   "metadata": {
    "execution": {
     "iopub.execute_input": "2023-12-12T16:54:22.492503Z",
     "iopub.status.busy": "2023-12-12T16:54:22.492048Z",
     "iopub.status.idle": "2023-12-12T16:54:24.834730Z",
     "shell.execute_reply": "2023-12-12T16:54:24.833018Z"
    },
    "papermill": {
     "duration": 2.371814,
     "end_time": "2023-12-12T16:54:24.837554",
     "exception": false,
     "start_time": "2023-12-12T16:54:22.465740",
     "status": "completed"
    },
    "tags": []
   },
   "outputs": [
    {
     "data": {
      "text/html": [
       "<style>#sk-container-id-6 {color: black;background-color: white;}#sk-container-id-6 pre{padding: 0;}#sk-container-id-6 div.sk-toggleable {background-color: white;}#sk-container-id-6 label.sk-toggleable__label {cursor: pointer;display: block;width: 100%;margin-bottom: 0;padding: 0.3em;box-sizing: border-box;text-align: center;}#sk-container-id-6 label.sk-toggleable__label-arrow:before {content: \"▸\";float: left;margin-right: 0.25em;color: #696969;}#sk-container-id-6 label.sk-toggleable__label-arrow:hover:before {color: black;}#sk-container-id-6 div.sk-estimator:hover label.sk-toggleable__label-arrow:before {color: black;}#sk-container-id-6 div.sk-toggleable__content {max-height: 0;max-width: 0;overflow: hidden;text-align: left;background-color: #f0f8ff;}#sk-container-id-6 div.sk-toggleable__content pre {margin: 0.2em;color: black;border-radius: 0.25em;background-color: #f0f8ff;}#sk-container-id-6 input.sk-toggleable__control:checked~div.sk-toggleable__content {max-height: 200px;max-width: 100%;overflow: auto;}#sk-container-id-6 input.sk-toggleable__control:checked~label.sk-toggleable__label-arrow:before {content: \"▾\";}#sk-container-id-6 div.sk-estimator input.sk-toggleable__control:checked~label.sk-toggleable__label {background-color: #d4ebff;}#sk-container-id-6 div.sk-label input.sk-toggleable__control:checked~label.sk-toggleable__label {background-color: #d4ebff;}#sk-container-id-6 input.sk-hidden--visually {border: 0;clip: rect(1px 1px 1px 1px);clip: rect(1px, 1px, 1px, 1px);height: 1px;margin: -1px;overflow: hidden;padding: 0;position: absolute;width: 1px;}#sk-container-id-6 div.sk-estimator {font-family: monospace;background-color: #f0f8ff;border: 1px dotted black;border-radius: 0.25em;box-sizing: border-box;margin-bottom: 0.5em;}#sk-container-id-6 div.sk-estimator:hover {background-color: #d4ebff;}#sk-container-id-6 div.sk-parallel-item::after {content: \"\";width: 100%;border-bottom: 1px solid gray;flex-grow: 1;}#sk-container-id-6 div.sk-label:hover label.sk-toggleable__label {background-color: #d4ebff;}#sk-container-id-6 div.sk-serial::before {content: \"\";position: absolute;border-left: 1px solid gray;box-sizing: border-box;top: 0;bottom: 0;left: 50%;z-index: 0;}#sk-container-id-6 div.sk-serial {display: flex;flex-direction: column;align-items: center;background-color: white;padding-right: 0.2em;padding-left: 0.2em;position: relative;}#sk-container-id-6 div.sk-item {position: relative;z-index: 1;}#sk-container-id-6 div.sk-parallel {display: flex;align-items: stretch;justify-content: center;background-color: white;position: relative;}#sk-container-id-6 div.sk-item::before, #sk-container-id-6 div.sk-parallel-item::before {content: \"\";position: absolute;border-left: 1px solid gray;box-sizing: border-box;top: 0;bottom: 0;left: 50%;z-index: -1;}#sk-container-id-6 div.sk-parallel-item {display: flex;flex-direction: column;z-index: 1;position: relative;background-color: white;}#sk-container-id-6 div.sk-parallel-item:first-child::after {align-self: flex-end;width: 50%;}#sk-container-id-6 div.sk-parallel-item:last-child::after {align-self: flex-start;width: 50%;}#sk-container-id-6 div.sk-parallel-item:only-child::after {width: 0;}#sk-container-id-6 div.sk-dashed-wrapped {border: 1px dashed gray;margin: 0 0.4em 0.5em 0.4em;box-sizing: border-box;padding-bottom: 0.4em;background-color: white;}#sk-container-id-6 div.sk-label label {font-family: monospace;font-weight: bold;display: inline-block;line-height: 1.2em;}#sk-container-id-6 div.sk-label-container {text-align: center;}#sk-container-id-6 div.sk-container {/* jupyter's `normalize.less` sets `[hidden] { display: none; }` but bootstrap.min.css set `[hidden] { display: none !important; }` so we also need the `!important` here to be able to override the default hidden behavior on the sphinx rendered scikit-learn.org. See: https://github.com/scikit-learn/scikit-learn/issues/21755 */display: inline-block !important;position: relative;}#sk-container-id-6 div.sk-text-repr-fallback {display: none;}</style><div id=\"sk-container-id-6\" class=\"sk-top-container\"><div class=\"sk-text-repr-fallback\"><pre>RandomForestClassifier(random_state=1)</pre><b>In a Jupyter environment, please rerun this cell to show the HTML representation or trust the notebook. <br />On GitHub, the HTML representation is unable to render, please try loading this page with nbviewer.org.</b></div><div class=\"sk-container\" hidden><div class=\"sk-item\"><div class=\"sk-estimator sk-toggleable\"><input class=\"sk-toggleable__control sk-hidden--visually\" id=\"sk-estimator-id-6\" type=\"checkbox\" checked><label for=\"sk-estimator-id-6\" class=\"sk-toggleable__label sk-toggleable__label-arrow\">RandomForestClassifier</label><div class=\"sk-toggleable__content\"><pre>RandomForestClassifier(random_state=1)</pre></div></div></div></div></div>"
      ],
      "text/plain": [
       "RandomForestClassifier(random_state=1)"
      ]
     },
     "execution_count": 44,
     "metadata": {},
     "output_type": "execute_result"
    }
   ],
   "source": [
    "rf = RandomForestClassifier(random_state=1)\n",
    "rf.fit(X_train, y_train)"
   ]
  },
  {
   "cell_type": "code",
   "execution_count": 45,
   "id": "1c1035b8",
   "metadata": {
    "execution": {
     "iopub.execute_input": "2023-12-12T16:54:24.892704Z",
     "iopub.status.busy": "2023-12-12T16:54:24.892330Z",
     "iopub.status.idle": "2023-12-12T16:54:24.981463Z",
     "shell.execute_reply": "2023-12-12T16:54:24.980729Z"
    },
    "papermill": {
     "duration": 0.119118,
     "end_time": "2023-12-12T16:54:24.983292",
     "exception": false,
     "start_time": "2023-12-12T16:54:24.864174",
     "status": "completed"
    },
    "scrolled": true,
    "tags": []
   },
   "outputs": [
    {
     "data": {
      "text/plain": [
       "0.912386985943401"
      ]
     },
     "execution_count": 45,
     "metadata": {},
     "output_type": "execute_result"
    }
   ],
   "source": [
    "y_pred = rf.predict_proba(X_val)\n",
    "roc_auc_score(y_val, y_pred, multi_class='ovr')"
   ]
  },
  {
   "cell_type": "markdown",
   "id": "1700410a",
   "metadata": {
    "papermill": {
     "duration": 0.029563,
     "end_time": "2023-12-12T16:54:25.038957",
     "exception": false,
     "start_time": "2023-12-12T16:54:25.009394",
     "status": "completed"
    },
    "tags": []
   },
   "source": [
    "**Tuning max_depth**"
   ]
  },
  {
   "cell_type": "code",
   "execution_count": 46,
   "id": "dcdb33e4",
   "metadata": {
    "execution": {
     "iopub.execute_input": "2023-12-12T16:54:25.099516Z",
     "iopub.status.busy": "2023-12-12T16:54:25.099131Z",
     "iopub.status.idle": "2023-12-12T16:57:00.099588Z",
     "shell.execute_reply": "2023-12-12T16:57:00.098276Z"
    },
    "papermill": {
     "duration": 155.060547,
     "end_time": "2023-12-12T16:57:00.128811",
     "exception": false,
     "start_time": "2023-12-12T16:54:25.068264",
     "status": "completed"
    },
    "tags": []
   },
   "outputs": [
    {
     "data": {
      "application/vnd.jupyter.widget-view+json": {
       "model_id": "f16e0bcc9f334e98a7c4a6e3a021cede",
       "version_major": 2,
       "version_minor": 0
      },
      "text/plain": [
       "  0%|          | 0/4 [00:00<?, ?it/s]"
      ]
     },
     "metadata": {},
     "output_type": "display_data"
    },
    {
     "data": {
      "application/vnd.jupyter.widget-view+json": {
       "model_id": "bd2d11bbe48840919db34a814865e3e4",
       "version_major": 2,
       "version_minor": 0
      },
      "text/plain": [
       "  0%|          | 0/20 [00:00<?, ?it/s]"
      ]
     },
     "metadata": {},
     "output_type": "display_data"
    },
    {
     "data": {
      "application/vnd.jupyter.widget-view+json": {
       "model_id": "671b0a21ae6f4e899be2374d0c103b4d",
       "version_major": 2,
       "version_minor": 0
      },
      "text/plain": [
       "  0%|          | 0/20 [00:00<?, ?it/s]"
      ]
     },
     "metadata": {},
     "output_type": "display_data"
    },
    {
     "data": {
      "application/vnd.jupyter.widget-view+json": {
       "model_id": "613454f1bee14059a4bae4022f5ca490",
       "version_major": 2,
       "version_minor": 0
      },
      "text/plain": [
       "  0%|          | 0/20 [00:00<?, ?it/s]"
      ]
     },
     "metadata": {},
     "output_type": "display_data"
    },
    {
     "data": {
      "application/vnd.jupyter.widget-view+json": {
       "model_id": "8d705262fca3462781705c35229ae9a9",
       "version_major": 2,
       "version_minor": 0
      },
      "text/plain": [
       "  0%|          | 0/20 [00:00<?, ?it/s]"
      ]
     },
     "metadata": {},
     "output_type": "display_data"
    }
   ],
   "source": [
    "scores = []\n",
    "\n",
    "for d in tqdm([5, 10, 15, 20]):\n",
    "    for n in trange(10, 201, 10):\n",
    "        rf = RandomForestClassifier(n_estimators=n,\n",
    "                                    max_depth=d,\n",
    "                                    random_state=1)\n",
    "        rf.fit(X_train, y_train)\n",
    "\n",
    "        y_pred = rf.predict_proba(X_val)\n",
    "        auc = roc_auc_score(y_val, y_pred, multi_class='ovr')\n",
    "\n",
    "        scores.append((d, n, auc))"
   ]
  },
  {
   "cell_type": "code",
   "execution_count": 47,
   "id": "27e405cd",
   "metadata": {
    "execution": {
     "iopub.execute_input": "2023-12-12T16:57:00.189979Z",
     "iopub.status.busy": "2023-12-12T16:57:00.189607Z",
     "iopub.status.idle": "2023-12-12T16:57:00.194468Z",
     "shell.execute_reply": "2023-12-12T16:57:00.193550Z"
    },
    "papermill": {
     "duration": 0.036388,
     "end_time": "2023-12-12T16:57:00.196913",
     "exception": false,
     "start_time": "2023-12-12T16:57:00.160525",
     "status": "completed"
    },
    "tags": []
   },
   "outputs": [],
   "source": [
    "columns = ['max_depth', 'n_estimators', 'auc']\n",
    "df_scores = pd.DataFrame(scores, columns=columns)"
   ]
  },
  {
   "cell_type": "code",
   "execution_count": 48,
   "id": "3ae17e1c",
   "metadata": {
    "execution": {
     "iopub.execute_input": "2023-12-12T16:57:00.251907Z",
     "iopub.status.busy": "2023-12-12T16:57:00.251170Z",
     "iopub.status.idle": "2023-12-12T16:57:00.510317Z",
     "shell.execute_reply": "2023-12-12T16:57:00.509235Z"
    },
    "papermill": {
     "duration": 0.289722,
     "end_time": "2023-12-12T16:57:00.512442",
     "exception": false,
     "start_time": "2023-12-12T16:57:00.222720",
     "status": "completed"
    },
    "tags": []
   },
   "outputs": [
    {
     "data": {
      "text/plain": [
       "<matplotlib.legend.Legend at 0x7a7e4a9e29b0>"
      ]
     },
     "execution_count": 48,
     "metadata": {},
     "output_type": "execute_result"
    },
    {
     "data": {
      "image/png": "[encoded data removed]",
      "text/plain": [
       "<Figure size 640x480 with 1 Axes>"
      ]
     },
     "metadata": {},
     "output_type": "display_data"
    }
   ],
   "source": [
    "for d in [5, 10, 15, 20]:\n",
    "    df_subset = df_scores[df_scores.max_depth == d]\n",
    "    \n",
    "    plt.plot(df_subset.n_estimators, df_subset.auc,\n",
    "             label='max_depth=%d' % d)\n",
    "\n",
    "plt.legend()"
   ]
  },
  {
   "cell_type": "markdown",
   "id": "64b3d962",
   "metadata": {
    "papermill": {
     "duration": 0.02597,
     "end_time": "2023-12-12T16:57:00.567552",
     "exception": false,
     "start_time": "2023-12-12T16:57:00.541582",
     "status": "completed"
    },
    "tags": []
   },
   "source": [
    "**Tuning min_samples_leaf**"
   ]
  },
  {
   "cell_type": "code",
   "execution_count": 49,
   "id": "c544a9cb",
   "metadata": {
    "execution": {
     "iopub.execute_input": "2023-12-12T16:57:00.623725Z",
     "iopub.status.busy": "2023-12-12T16:57:00.623339Z",
     "iopub.status.idle": "2023-12-12T16:57:00.627770Z",
     "shell.execute_reply": "2023-12-12T16:57:00.626772Z"
    },
    "papermill": {
     "duration": 0.035018,
     "end_time": "2023-12-12T16:57:00.630280",
     "exception": false,
     "start_time": "2023-12-12T16:57:00.595262",
     "status": "completed"
    },
    "tags": []
   },
   "outputs": [],
   "source": [
    "max_depth = 15"
   ]
  },
  {
   "cell_type": "code",
   "execution_count": 50,
   "id": "576492d0",
   "metadata": {
    "execution": {
     "iopub.execute_input": "2023-12-12T16:57:00.688791Z",
     "iopub.status.busy": "2023-12-12T16:57:00.687465Z",
     "iopub.status.idle": "2023-12-12T17:00:23.555320Z",
     "shell.execute_reply": "2023-12-12T17:00:23.553686Z"
    },
    "papermill": {
     "duration": 202.90091,
     "end_time": "2023-12-12T17:00:23.557979",
     "exception": false,
     "start_time": "2023-12-12T16:57:00.657069",
     "status": "completed"
    },
    "scrolled": true,
    "tags": []
   },
   "outputs": [
    {
     "data": {
      "application/vnd.jupyter.widget-view+json": {
       "model_id": "d10e8f42a210486cb6a7885fe24ae6da",
       "version_major": 2,
       "version_minor": 0
      },
      "text/plain": [
       "  0%|          | 0/5 [00:00<?, ?it/s]"
      ]
     },
     "metadata": {},
     "output_type": "display_data"
    },
    {
     "data": {
      "application/vnd.jupyter.widget-view+json": {
       "model_id": "5da046c8865a47348cf8f42736a0f980",
       "version_major": 2,
       "version_minor": 0
      },
      "text/plain": [
       "  0%|          | 0/20 [00:00<?, ?it/s]"
      ]
     },
     "metadata": {},
     "output_type": "display_data"
    },
    {
     "data": {
      "application/vnd.jupyter.widget-view+json": {
       "model_id": "448345aae4fb4365a71e71a411d8afbf",
       "version_major": 2,
       "version_minor": 0
      },
      "text/plain": [
       "  0%|          | 0/20 [00:00<?, ?it/s]"
      ]
     },
     "metadata": {},
     "output_type": "display_data"
    },
    {
     "data": {
      "application/vnd.jupyter.widget-view+json": {
       "model_id": "063eb9f5b2204f3d9259ccb2f35a59ac",
       "version_major": 2,
       "version_minor": 0
      },
      "text/plain": [
       "  0%|          | 0/20 [00:00<?, ?it/s]"
      ]
     },
     "metadata": {},
     "output_type": "display_data"
    },
    {
     "data": {
      "application/vnd.jupyter.widget-view+json": {
       "model_id": "fb38c67a97594aa39d14f28d8df6537b",
       "version_major": 2,
       "version_minor": 0
      },
      "text/plain": [
       "  0%|          | 0/20 [00:00<?, ?it/s]"
      ]
     },
     "metadata": {},
     "output_type": "display_data"
    },
    {
     "data": {
      "application/vnd.jupyter.widget-view+json": {
       "model_id": "39408e770c1a4d24a194c29d753b2d62",
       "version_major": 2,
       "version_minor": 0
      },
      "text/plain": [
       "  0%|          | 0/20 [00:00<?, ?it/s]"
      ]
     },
     "metadata": {},
     "output_type": "display_data"
    }
   ],
   "source": [
    "scores = []\n",
    "\n",
    "for s in tqdm([1, 3, 5, 10, 50]):\n",
    "    for n in trange(10, 201, 10):\n",
    "        rf = RandomForestClassifier(n_estimators=n,\n",
    "                                    max_depth=max_depth,\n",
    "                                    min_samples_leaf=s,\n",
    "                                    random_state=1)\n",
    "        rf.fit(X_train, y_train)\n",
    "\n",
    "        y_pred = rf.predict_proba(X_val)\n",
    "        auc = roc_auc_score(y_val, y_pred, multi_class='ovr')\n",
    "\n",
    "        scores.append((s, n, auc))"
   ]
  },
  {
   "cell_type": "code",
   "execution_count": 51,
   "id": "a80b97e0",
   "metadata": {
    "execution": {
     "iopub.execute_input": "2023-12-12T17:00:23.623237Z",
     "iopub.status.busy": "2023-12-12T17:00:23.622511Z",
     "iopub.status.idle": "2023-12-12T17:00:23.629610Z",
     "shell.execute_reply": "2023-12-12T17:00:23.627865Z"
    },
    "papermill": {
     "duration": 0.040982,
     "end_time": "2023-12-12T17:00:23.632393",
     "exception": false,
     "start_time": "2023-12-12T17:00:23.591411",
     "status": "completed"
    },
    "tags": []
   },
   "outputs": [],
   "source": [
    "columns = ['min_samples_leaf', 'n_estimators', 'auc']\n",
    "df_scores = pd.DataFrame(scores, columns=columns)"
   ]
  },
  {
   "cell_type": "code",
   "execution_count": 52,
   "id": "5d75f214",
   "metadata": {
    "execution": {
     "iopub.execute_input": "2023-12-12T17:00:23.694353Z",
     "iopub.status.busy": "2023-12-12T17:00:23.693968Z",
     "iopub.status.idle": "2023-12-12T17:00:24.014186Z",
     "shell.execute_reply": "2023-12-12T17:00:24.013059Z"
    },
    "papermill": {
     "duration": 0.353384,
     "end_time": "2023-12-12T17:00:24.016676",
     "exception": false,
     "start_time": "2023-12-12T17:00:23.663292",
     "status": "completed"
    },
    "tags": []
   },
   "outputs": [
    {
     "data": {
      "text/plain": [
       "<matplotlib.legend.Legend at 0x7a7e4aafb3d0>"
      ]
     },
     "execution_count": 52,
     "metadata": {},
     "output_type": "execute_result"
    },
    {
     "data": {
      "image/png": "[encoded data removed]",
      "text/plain": [
       "<Figure size 640x480 with 1 Axes>"
      ]
     },
     "metadata": {},
     "output_type": "display_data"
    }
   ],
   "source": [
    "values = [1, 3, 5, 10, 50]\n",
    "\n",
    "for s in values:\n",
    "    df_subset = df_scores[df_scores.min_samples_leaf == s]\n",
    "    \n",
    "    plt.plot(df_subset.n_estimators, df_subset.auc,\n",
    "             label='min_samples_leaf=%d' % s)\n",
    "\n",
    "plt.legend()"
   ]
  },
  {
   "cell_type": "code",
   "execution_count": 53,
   "id": "59ae422e",
   "metadata": {
    "execution": {
     "iopub.execute_input": "2023-12-12T17:00:24.081545Z",
     "iopub.status.busy": "2023-12-12T17:00:24.081111Z",
     "iopub.status.idle": "2023-12-12T17:00:24.088689Z",
     "shell.execute_reply": "2023-12-12T17:00:24.086788Z"
    },
    "papermill": {
     "duration": 0.046805,
     "end_time": "2023-12-12T17:00:24.091369",
     "exception": false,
     "start_time": "2023-12-12T17:00:24.044564",
     "status": "completed"
    },
    "tags": []
   },
   "outputs": [],
   "source": [
    "min_samples_leaf = 3"
   ]
  },
  {
   "cell_type": "code",
   "execution_count": 54,
   "id": "605668ff",
   "metadata": {
    "execution": {
     "iopub.execute_input": "2023-12-12T17:00:24.161021Z",
     "iopub.status.busy": "2023-12-12T17:00:24.160600Z",
     "iopub.status.idle": "2023-12-12T17:00:26.833770Z",
     "shell.execute_reply": "2023-12-12T17:00:26.832514Z"
    },
    "papermill": {
     "duration": 2.71198,
     "end_time": "2023-12-12T17:00:26.835960",
     "exception": false,
     "start_time": "2023-12-12T17:00:24.123980",
     "status": "completed"
    },
    "tags": []
   },
   "outputs": [
    {
     "data": {
      "text/html": [
       "<style>#sk-container-id-7 {color: black;background-color: white;}#sk-container-id-7 pre{padding: 0;}#sk-container-id-7 div.sk-toggleable {background-color: white;}#sk-container-id-7 label.sk-toggleable__label {cursor: pointer;display: block;width: 100%;margin-bottom: 0;padding: 0.3em;box-sizing: border-box;text-align: center;}#sk-container-id-7 label.sk-toggleable__label-arrow:before {content: \"▸\";float: left;margin-right: 0.25em;color: #696969;}#sk-container-id-7 label.sk-toggleable__label-arrow:hover:before {color: black;}#sk-container-id-7 div.sk-estimator:hover label.sk-toggleable__label-arrow:before {color: black;}#sk-container-id-7 div.sk-toggleable__content {max-height: 0;max-width: 0;overflow: hidden;text-align: left;background-color: #f0f8ff;}#sk-container-id-7 div.sk-toggleable__content pre {margin: 0.2em;color: black;border-radius: 0.25em;background-color: #f0f8ff;}#sk-container-id-7 input.sk-toggleable__control:checked~div.sk-toggleable__content {max-height: 200px;max-width: 100%;overflow: auto;}#sk-container-id-7 input.sk-toggleable__control:checked~label.sk-toggleable__label-arrow:before {content: \"▾\";}#sk-container-id-7 div.sk-estimator input.sk-toggleable__control:checked~label.sk-toggleable__label {background-color: #d4ebff;}#sk-container-id-7 div.sk-label input.sk-toggleable__control:checked~label.sk-toggleable__label {background-color: #d4ebff;}#sk-container-id-7 input.sk-hidden--visually {border: 0;clip: rect(1px 1px 1px 1px);clip: rect(1px, 1px, 1px, 1px);height: 1px;margin: -1px;overflow: hidden;padding: 0;position: absolute;width: 1px;}#sk-container-id-7 div.sk-estimator {font-family: monospace;background-color: #f0f8ff;border: 1px dotted black;border-radius: 0.25em;box-sizing: border-box;margin-bottom: 0.5em;}#sk-container-id-7 div.sk-estimator:hover {background-color: #d4ebff;}#sk-container-id-7 div.sk-parallel-item::after {content: \"\";width: 100%;border-bottom: 1px solid gray;flex-grow: 1;}#sk-container-id-7 div.sk-label:hover label.sk-toggleable__label {background-color: #d4ebff;}#sk-container-id-7 div.sk-serial::before {content: \"\";position: absolute;border-left: 1px solid gray;box-sizing: border-box;top: 0;bottom: 0;left: 50%;z-index: 0;}#sk-container-id-7 div.sk-serial {display: flex;flex-direction: column;align-items: center;background-color: white;padding-right: 0.2em;padding-left: 0.2em;position: relative;}#sk-container-id-7 div.sk-item {position: relative;z-index: 1;}#sk-container-id-7 div.sk-parallel {display: flex;align-items: stretch;justify-content: center;background-color: white;position: relative;}#sk-container-id-7 div.sk-item::before, #sk-container-id-7 div.sk-parallel-item::before {content: \"\";position: absolute;border-left: 1px solid gray;box-sizing: border-box;top: 0;bottom: 0;left: 50%;z-index: -1;}#sk-container-id-7 div.sk-parallel-item {display: flex;flex-direction: column;z-index: 1;position: relative;background-color: white;}#sk-container-id-7 div.sk-parallel-item:first-child::after {align-self: flex-end;width: 50%;}#sk-container-id-7 div.sk-parallel-item:last-child::after {align-self: flex-start;width: 50%;}#sk-container-id-7 div.sk-parallel-item:only-child::after {width: 0;}#sk-container-id-7 div.sk-dashed-wrapped {border: 1px dashed gray;margin: 0 0.4em 0.5em 0.4em;box-sizing: border-box;padding-bottom: 0.4em;background-color: white;}#sk-container-id-7 div.sk-label label {font-family: monospace;font-weight: bold;display: inline-block;line-height: 1.2em;}#sk-container-id-7 div.sk-label-container {text-align: center;}#sk-container-id-7 div.sk-container {/* jupyter's `normalize.less` sets `[hidden] { display: none; }` but bootstrap.min.css set `[hidden] { display: none !important; }` so we also need the `!important` here to be able to override the default hidden behavior on the sphinx rendered scikit-learn.org. See: https://github.com/scikit-learn/scikit-learn/issues/21755 */display: inline-block !important;position: relative;}#sk-container-id-7 div.sk-text-repr-fallback {display: none;}</style><div id=\"sk-container-id-7\" class=\"sk-top-container\"><div class=\"sk-text-repr-fallback\"><pre>RandomForestClassifier(max_depth=15, min_samples_leaf=3, n_estimators=125,\n",
       "                       random_state=1)</pre><b>In a Jupyter environment, please rerun this cell to show the HTML representation or trust the notebook. <br />On GitHub, the HTML representation is unable to render, please try loading this page with nbviewer.org.</b></div><div class=\"sk-container\" hidden><div class=\"sk-item\"><div class=\"sk-estimator sk-toggleable\"><input class=\"sk-toggleable__control sk-hidden--visually\" id=\"sk-estimator-id-7\" type=\"checkbox\" checked><label for=\"sk-estimator-id-7\" class=\"sk-toggleable__label sk-toggleable__label-arrow\">RandomForestClassifier</label><div class=\"sk-toggleable__content\"><pre>RandomForestClassifier(max_depth=15, min_samples_leaf=3, n_estimators=125,\n",
       "                       random_state=1)</pre></div></div></div></div></div>"
      ],
      "text/plain": [
       "RandomForestClassifier(max_depth=15, min_samples_leaf=3, n_estimators=125,\n",
       "                       random_state=1)"
      ]
     },
     "execution_count": 54,
     "metadata": {},
     "output_type": "execute_result"
    }
   ],
   "source": [
    "rf = RandomForestClassifier(n_estimators=125,\n",
    "                            max_depth=max_depth,\n",
    "                            min_samples_leaf=min_samples_leaf,\n",
    "                            random_state=1)\n",
    "rf.fit(X_train, y_train)"
   ]
  },
  {
   "cell_type": "markdown",
   "id": "acb9af44",
   "metadata": {
    "papermill": {
     "duration": 0.030719,
     "end_time": "2023-12-12T17:00:26.895097",
     "exception": false,
     "start_time": "2023-12-12T17:00:26.864378",
     "status": "completed"
    },
    "tags": []
   },
   "source": [
    "**Looks like the best parameters for Random Forest are:**\n",
    "\n",
    "* max_depth = 15\n",
    "* min_samples_leaf = 3\n",
    "* n_estimators = 125"
   ]
  },
  {
   "cell_type": "markdown",
   "id": "8430dbfb",
   "metadata": {
    "papermill": {
     "duration": 0.030177,
     "end_time": "2023-12-12T17:00:26.957210",
     "exception": false,
     "start_time": "2023-12-12T17:00:26.927033",
     "status": "completed"
    },
    "tags": []
   },
   "source": [
    "# Selecting a Model"
   ]
  },
  {
   "cell_type": "markdown",
   "id": "8f871833",
   "metadata": {
    "papermill": {
     "duration": 0.027229,
     "end_time": "2023-12-12T17:00:27.015510",
     "exception": false,
     "start_time": "2023-12-12T17:00:26.988281",
     "status": "completed"
    },
    "tags": []
   },
   "source": [
    "## Logistic Regression"
   ]
  },
  {
   "cell_type": "code",
   "execution_count": 55,
   "id": "1bfcbeaf",
   "metadata": {
    "execution": {
     "iopub.execute_input": "2023-12-12T17:00:27.077166Z",
     "iopub.status.busy": "2023-12-12T17:00:27.076214Z",
     "iopub.status.idle": "2023-12-12T17:00:27.418435Z",
     "shell.execute_reply": "2023-12-12T17:00:27.417728Z"
    },
    "papermill": {
     "duration": 0.375824,
     "end_time": "2023-12-12T17:00:27.420255",
     "exception": false,
     "start_time": "2023-12-12T17:00:27.044431",
     "status": "completed"
    },
    "tags": []
   },
   "outputs": [
    {
     "data": {
      "text/html": [
       "<style>#sk-container-id-8 {color: black;background-color: white;}#sk-container-id-8 pre{padding: 0;}#sk-container-id-8 div.sk-toggleable {background-color: white;}#sk-container-id-8 label.sk-toggleable__label {cursor: pointer;display: block;width: 100%;margin-bottom: 0;padding: 0.3em;box-sizing: border-box;text-align: center;}#sk-container-id-8 label.sk-toggleable__label-arrow:before {content: \"▸\";float: left;margin-right: 0.25em;color: #696969;}#sk-container-id-8 label.sk-toggleable__label-arrow:hover:before {color: black;}#sk-container-id-8 div.sk-estimator:hover label.sk-toggleable__label-arrow:before {color: black;}#sk-container-id-8 div.sk-toggleable__content {max-height: 0;max-width: 0;overflow: hidden;text-align: left;background-color: #f0f8ff;}#sk-container-id-8 div.sk-toggleable__content pre {margin: 0.2em;color: black;border-radius: 0.25em;background-color: #f0f8ff;}#sk-container-id-8 input.sk-toggleable__control:checked~div.sk-toggleable__content {max-height: 200px;max-width: 100%;overflow: auto;}#sk-container-id-8 input.sk-toggleable__control:checked~label.sk-toggleable__label-arrow:before {content: \"▾\";}#sk-container-id-8 div.sk-estimator input.sk-toggleable__control:checked~label.sk-toggleable__label {background-color: #d4ebff;}#sk-container-id-8 div.sk-label input.sk-toggleable__control:checked~label.sk-toggleable__label {background-color: #d4ebff;}#sk-container-id-8 input.sk-hidden--visually {border: 0;clip: rect(1px 1px 1px 1px);clip: rect(1px, 1px, 1px, 1px);height: 1px;margin: -1px;overflow: hidden;padding: 0;position: absolute;width: 1px;}#sk-container-id-8 div.sk-estimator {font-family: monospace;background-color: #f0f8ff;border: 1px dotted black;border-radius: 0.25em;box-sizing: border-box;margin-bottom: 0.5em;}#sk-container-id-8 div.sk-estimator:hover {background-color: #d4ebff;}#sk-container-id-8 div.sk-parallel-item::after {content: \"\";width: 100%;border-bottom: 1px solid gray;flex-grow: 1;}#sk-container-id-8 div.sk-label:hover label.sk-toggleable__label {background-color: #d4ebff;}#sk-container-id-8 div.sk-serial::before {content: \"\";position: absolute;border-left: 1px solid gray;box-sizing: border-box;top: 0;bottom: 0;left: 50%;z-index: 0;}#sk-container-id-8 div.sk-serial {display: flex;flex-direction: column;align-items: center;background-color: white;padding-right: 0.2em;padding-left: 0.2em;position: relative;}#sk-container-id-8 div.sk-item {position: relative;z-index: 1;}#sk-container-id-8 div.sk-parallel {display: flex;align-items: stretch;justify-content: center;background-color: white;position: relative;}#sk-container-id-8 div.sk-item::before, #sk-container-id-8 div.sk-parallel-item::before {content: \"\";position: absolute;border-left: 1px solid gray;box-sizing: border-box;top: 0;bottom: 0;left: 50%;z-index: -1;}#sk-container-id-8 div.sk-parallel-item {display: flex;flex-direction: column;z-index: 1;position: relative;background-color: white;}#sk-container-id-8 div.sk-parallel-item:first-child::after {align-self: flex-end;width: 50%;}#sk-container-id-8 div.sk-parallel-item:last-child::after {align-self: flex-start;width: 50%;}#sk-container-id-8 div.sk-parallel-item:only-child::after {width: 0;}#sk-container-id-8 div.sk-dashed-wrapped {border: 1px dashed gray;margin: 0 0.4em 0.5em 0.4em;box-sizing: border-box;padding-bottom: 0.4em;background-color: white;}#sk-container-id-8 div.sk-label label {font-family: monospace;font-weight: bold;display: inline-block;line-height: 1.2em;}#sk-container-id-8 div.sk-label-container {text-align: center;}#sk-container-id-8 div.sk-container {/* jupyter's `normalize.less` sets `[hidden] { display: none; }` but bootstrap.min.css set `[hidden] { display: none !important; }` so we also need the `!important` here to be able to override the default hidden behavior on the sphinx rendered scikit-learn.org. See: https://github.com/scikit-learn/scikit-learn/issues/21755 */display: inline-block !important;position: relative;}#sk-container-id-8 div.sk-text-repr-fallback {display: none;}</style><div id=\"sk-container-id-8\" class=\"sk-top-container\"><div class=\"sk-text-repr-fallback\"><pre>LogisticRegression(multi_class=&#x27;ovr&#x27;, random_state=1)</pre><b>In a Jupyter environment, please rerun this cell to show the HTML representation or trust the notebook. <br />On GitHub, the HTML representation is unable to render, please try loading this page with nbviewer.org.</b></div><div class=\"sk-container\" hidden><div class=\"sk-item\"><div class=\"sk-estimator sk-toggleable\"><input class=\"sk-toggleable__control sk-hidden--visually\" id=\"sk-estimator-id-8\" type=\"checkbox\" checked><label for=\"sk-estimator-id-8\" class=\"sk-toggleable__label sk-toggleable__label-arrow\">LogisticRegression</label><div class=\"sk-toggleable__content\"><pre>LogisticRegression(multi_class=&#x27;ovr&#x27;, random_state=1)</pre></div></div></div></div></div>"
      ],
      "text/plain": [
       "LogisticRegression(multi_class='ovr', random_state=1)"
      ]
     },
     "execution_count": 55,
     "metadata": {},
     "output_type": "execute_result"
    }
   ],
   "source": [
    "model_lr = LogisticRegression(multi_class='ovr', solver='lbfgs', random_state=1)\n",
    "model_lr.fit(X_train, y_train)"
   ]
  },
  {
   "cell_type": "code",
   "execution_count": 56,
   "id": "105fed3d",
   "metadata": {
    "execution": {
     "iopub.execute_input": "2023-12-12T17:00:27.498211Z",
     "iopub.status.busy": "2023-12-12T17:00:27.497046Z",
     "iopub.status.idle": "2023-12-12T17:00:27.525600Z",
     "shell.execute_reply": "2023-12-12T17:00:27.524845Z"
    },
    "papermill": {
     "duration": 0.069704,
     "end_time": "2023-12-12T17:00:27.527576",
     "exception": false,
     "start_time": "2023-12-12T17:00:27.457872",
     "status": "completed"
    },
    "tags": []
   },
   "outputs": [
    {
     "data": {
      "text/plain": [
       "0.626932539481431"
      ]
     },
     "execution_count": 56,
     "metadata": {},
     "output_type": "execute_result"
    }
   ],
   "source": [
    "y_pred = model_lr.predict_proba(X_val)\n",
    "roc_auc_score(y_val, y_pred, multi_class='ovr')"
   ]
  },
  {
   "cell_type": "markdown",
   "id": "d625e5a8",
   "metadata": {
    "papermill": {
     "duration": 0.038271,
     "end_time": "2023-12-12T17:00:27.604487",
     "exception": false,
     "start_time": "2023-12-12T17:00:27.566216",
     "status": "completed"
    },
    "tags": []
   },
   "source": [
    "## Decision Tree"
   ]
  },
  {
   "cell_type": "code",
   "execution_count": 57,
   "id": "6b36ffed",
   "metadata": {
    "execution": {
     "iopub.execute_input": "2023-12-12T17:00:27.670071Z",
     "iopub.status.busy": "2023-12-12T17:00:27.669620Z",
     "iopub.status.idle": "2023-12-12T17:00:27.750154Z",
     "shell.execute_reply": "2023-12-12T17:00:27.748759Z"
    },
    "papermill": {
     "duration": 0.114385,
     "end_time": "2023-12-12T17:00:27.752643",
     "exception": false,
     "start_time": "2023-12-12T17:00:27.638258",
     "status": "completed"
    },
    "tags": []
   },
   "outputs": [
    {
     "data": {
      "text/html": [
       "<style>#sk-container-id-9 {color: black;background-color: white;}#sk-container-id-9 pre{padding: 0;}#sk-container-id-9 div.sk-toggleable {background-color: white;}#sk-container-id-9 label.sk-toggleable__label {cursor: pointer;display: block;width: 100%;margin-bottom: 0;padding: 0.3em;box-sizing: border-box;text-align: center;}#sk-container-id-9 label.sk-toggleable__label-arrow:before {content: \"▸\";float: left;margin-right: 0.25em;color: #696969;}#sk-container-id-9 label.sk-toggleable__label-arrow:hover:before {color: black;}#sk-container-id-9 div.sk-estimator:hover label.sk-toggleable__label-arrow:before {color: black;}#sk-container-id-9 div.sk-toggleable__content {max-height: 0;max-width: 0;overflow: hidden;text-align: left;background-color: #f0f8ff;}#sk-container-id-9 div.sk-toggleable__content pre {margin: 0.2em;color: black;border-radius: 0.25em;background-color: #f0f8ff;}#sk-container-id-9 input.sk-toggleable__control:checked~div.sk-toggleable__content {max-height: 200px;max-width: 100%;overflow: auto;}#sk-container-id-9 input.sk-toggleable__control:checked~label.sk-toggleable__label-arrow:before {content: \"▾\";}#sk-container-id-9 div.sk-estimator input.sk-toggleable__control:checked~label.sk-toggleable__label {background-color: #d4ebff;}#sk-container-id-9 div.sk-label input.sk-toggleable__control:checked~label.sk-toggleable__label {background-color: #d4ebff;}#sk-container-id-9 input.sk-hidden--visually {border: 0;clip: rect(1px 1px 1px 1px);clip: rect(1px, 1px, 1px, 1px);height: 1px;margin: -1px;overflow: hidden;padding: 0;position: absolute;width: 1px;}#sk-container-id-9 div.sk-estimator {font-family: monospace;background-color: #f0f8ff;border: 1px dotted black;border-radius: 0.25em;box-sizing: border-box;margin-bottom: 0.5em;}#sk-container-id-9 div.sk-estimator:hover {background-color: #d4ebff;}#sk-container-id-9 div.sk-parallel-item::after {content: \"\";width: 100%;border-bottom: 1px solid gray;flex-grow: 1;}#sk-container-id-9 div.sk-label:hover label.sk-toggleable__label {background-color: #d4ebff;}#sk-container-id-9 div.sk-serial::before {content: \"\";position: absolute;border-left: 1px solid gray;box-sizing: border-box;top: 0;bottom: 0;left: 50%;z-index: 0;}#sk-container-id-9 div.sk-serial {display: flex;flex-direction: column;align-items: center;background-color: white;padding-right: 0.2em;padding-left: 0.2em;position: relative;}#sk-container-id-9 div.sk-item {position: relative;z-index: 1;}#sk-container-id-9 div.sk-parallel {display: flex;align-items: stretch;justify-content: center;background-color: white;position: relative;}#sk-container-id-9 div.sk-item::before, #sk-container-id-9 div.sk-parallel-item::before {content: \"\";position: absolute;border-left: 1px solid gray;box-sizing: border-box;top: 0;bottom: 0;left: 50%;z-index: -1;}#sk-container-id-9 div.sk-parallel-item {display: flex;flex-direction: column;z-index: 1;position: relative;background-color: white;}#sk-container-id-9 div.sk-parallel-item:first-child::after {align-self: flex-end;width: 50%;}#sk-container-id-9 div.sk-parallel-item:last-child::after {align-self: flex-start;width: 50%;}#sk-container-id-9 div.sk-parallel-item:only-child::after {width: 0;}#sk-container-id-9 div.sk-dashed-wrapped {border: 1px dashed gray;margin: 0 0.4em 0.5em 0.4em;box-sizing: border-box;padding-bottom: 0.4em;background-color: white;}#sk-container-id-9 div.sk-label label {font-family: monospace;font-weight: bold;display: inline-block;line-height: 1.2em;}#sk-container-id-9 div.sk-label-container {text-align: center;}#sk-container-id-9 div.sk-container {/* jupyter's `normalize.less` sets `[hidden] { display: none; }` but bootstrap.min.css set `[hidden] { display: none !important; }` so we also need the `!important` here to be able to override the default hidden behavior on the sphinx rendered scikit-learn.org. See: https://github.com/scikit-learn/scikit-learn/issues/21755 */display: inline-block !important;position: relative;}#sk-container-id-9 div.sk-text-repr-fallback {display: none;}</style><div id=\"sk-container-id-9\" class=\"sk-top-container\"><div class=\"sk-text-repr-fallback\"><pre>DecisionTreeClassifier(max_depth=12, min_samples_leaf=15)</pre><b>In a Jupyter environment, please rerun this cell to show the HTML representation or trust the notebook. <br />On GitHub, the HTML representation is unable to render, please try loading this page with nbviewer.org.</b></div><div class=\"sk-container\" hidden><div class=\"sk-item\"><div class=\"sk-estimator sk-toggleable\"><input class=\"sk-toggleable__control sk-hidden--visually\" id=\"sk-estimator-id-9\" type=\"checkbox\" checked><label for=\"sk-estimator-id-9\" class=\"sk-toggleable__label sk-toggleable__label-arrow\">DecisionTreeClassifier</label><div class=\"sk-toggleable__content\"><pre>DecisionTreeClassifier(max_depth=12, min_samples_leaf=15)</pre></div></div></div></div></div>"
      ],
      "text/plain": [
       "DecisionTreeClassifier(max_depth=12, min_samples_leaf=15)"
      ]
     },
     "execution_count": 57,
     "metadata": {},
     "output_type": "execute_result"
    }
   ],
   "source": [
    "dt = DecisionTreeClassifier(max_depth=12, min_samples_leaf=15)\n",
    "dt.fit(X_train, y_train)"
   ]
  },
  {
   "cell_type": "code",
   "execution_count": 58,
   "id": "d477e3ad",
   "metadata": {
    "execution": {
     "iopub.execute_input": "2023-12-12T17:00:27.816033Z",
     "iopub.status.busy": "2023-12-12T17:00:27.815606Z",
     "iopub.status.idle": "2023-12-12T17:00:27.834508Z",
     "shell.execute_reply": "2023-12-12T17:00:27.833058Z"
    },
    "papermill": {
     "duration": 0.055361,
     "end_time": "2023-12-12T17:00:27.837064",
     "exception": false,
     "start_time": "2023-12-12T17:00:27.781703",
     "status": "completed"
    },
    "tags": []
   },
   "outputs": [
    {
     "data": {
      "text/plain": [
       "0.8267771575016983"
      ]
     },
     "execution_count": 58,
     "metadata": {},
     "output_type": "execute_result"
    }
   ],
   "source": [
    "y_pred = dt.predict_proba(X_val)\n",
    "roc_auc_score(y_val, y_pred, multi_class='ovr')"
   ]
  },
  {
   "cell_type": "markdown",
   "id": "45e97541",
   "metadata": {
    "papermill": {
     "duration": 0.032167,
     "end_time": "2023-12-12T17:00:27.898512",
     "exception": false,
     "start_time": "2023-12-12T17:00:27.866345",
     "status": "completed"
    },
    "tags": []
   },
   "source": [
    "## Random Forest"
   ]
  },
  {
   "cell_type": "code",
   "execution_count": 59,
   "id": "56bc5f85",
   "metadata": {
    "execution": {
     "iopub.execute_input": "2023-12-12T17:00:27.965566Z",
     "iopub.status.busy": "2023-12-12T17:00:27.965165Z",
     "iopub.status.idle": "2023-12-12T17:00:30.529343Z",
     "shell.execute_reply": "2023-12-12T17:00:30.527826Z"
    },
    "papermill": {
     "duration": 2.600087,
     "end_time": "2023-12-12T17:00:30.531551",
     "exception": false,
     "start_time": "2023-12-12T17:00:27.931464",
     "status": "completed"
    },
    "tags": []
   },
   "outputs": [
    {
     "data": {
      "text/html": [
       "<style>#sk-container-id-10 {color: black;background-color: white;}#sk-container-id-10 pre{padding: 0;}#sk-container-id-10 div.sk-toggleable {background-color: white;}#sk-container-id-10 label.sk-toggleable__label {cursor: pointer;display: block;width: 100%;margin-bottom: 0;padding: 0.3em;box-sizing: border-box;text-align: center;}#sk-container-id-10 label.sk-toggleable__label-arrow:before {content: \"▸\";float: left;margin-right: 0.25em;color: #696969;}#sk-container-id-10 label.sk-toggleable__label-arrow:hover:before {color: black;}#sk-container-id-10 div.sk-estimator:hover label.sk-toggleable__label-arrow:before {color: black;}#sk-container-id-10 div.sk-toggleable__content {max-height: 0;max-width: 0;overflow: hidden;text-align: left;background-color: #f0f8ff;}#sk-container-id-10 div.sk-toggleable__content pre {margin: 0.2em;color: black;border-radius: 0.25em;background-color: #f0f8ff;}#sk-container-id-10 input.sk-toggleable__control:checked~div.sk-toggleable__content {max-height: 200px;max-width: 100%;overflow: auto;}#sk-container-id-10 input.sk-toggleable__control:checked~label.sk-toggleable__label-arrow:before {content: \"▾\";}#sk-container-id-10 div.sk-estimator input.sk-toggleable__control:checked~label.sk-toggleable__label {background-color: #d4ebff;}#sk-container-id-10 div.sk-label input.sk-toggleable__control:checked~label.sk-toggleable__label {background-color: #d4ebff;}#sk-container-id-10 input.sk-hidden--visually {border: 0;clip: rect(1px 1px 1px 1px);clip: rect(1px, 1px, 1px, 1px);height: 1px;margin: -1px;overflow: hidden;padding: 0;position: absolute;width: 1px;}#sk-container-id-10 div.sk-estimator {font-family: monospace;background-color: #f0f8ff;border: 1px dotted black;border-radius: 0.25em;box-sizing: border-box;margin-bottom: 0.5em;}#sk-container-id-10 div.sk-estimator:hover {background-color: #d4ebff;}#sk-container-id-10 div.sk-parallel-item::after {content: \"\";width: 100%;border-bottom: 1px solid gray;flex-grow: 1;}#sk-container-id-10 div.sk-label:hover label.sk-toggleable__label {background-color: #d4ebff;}#sk-container-id-10 div.sk-serial::before {content: \"\";position: absolute;border-left: 1px solid gray;box-sizing: border-box;top: 0;bottom: 0;left: 50%;z-index: 0;}#sk-container-id-10 div.sk-serial {display: flex;flex-direction: column;align-items: center;background-color: white;padding-right: 0.2em;padding-left: 0.2em;position: relative;}#sk-container-id-10 div.sk-item {position: relative;z-index: 1;}#sk-container-id-10 div.sk-parallel {display: flex;align-items: stretch;justify-content: center;background-color: white;position: relative;}#sk-container-id-10 div.sk-item::before, #sk-container-id-10 div.sk-parallel-item::before {content: \"\";position: absolute;border-left: 1px solid gray;box-sizing: border-box;top: 0;bottom: 0;left: 50%;z-index: -1;}#sk-container-id-10 div.sk-parallel-item {display: flex;flex-direction: column;z-index: 1;position: relative;background-color: white;}#sk-container-id-10 div.sk-parallel-item:first-child::after {align-self: flex-end;width: 50%;}#sk-container-id-10 div.sk-parallel-item:last-child::after {align-self: flex-start;width: 50%;}#sk-container-id-10 div.sk-parallel-item:only-child::after {width: 0;}#sk-container-id-10 div.sk-dashed-wrapped {border: 1px dashed gray;margin: 0 0.4em 0.5em 0.4em;box-sizing: border-box;padding-bottom: 0.4em;background-color: white;}#sk-container-id-10 div.sk-label label {font-family: monospace;font-weight: bold;display: inline-block;line-height: 1.2em;}#sk-container-id-10 div.sk-label-container {text-align: center;}#sk-container-id-10 div.sk-container {/* jupyter's `normalize.less` sets `[hidden] { display: none; }` but bootstrap.min.css set `[hidden] { display: none !important; }` so we also need the `!important` here to be able to override the default hidden behavior on the sphinx rendered scikit-learn.org. See: https://github.com/scikit-learn/scikit-learn/issues/21755 */display: inline-block !important;position: relative;}#sk-container-id-10 div.sk-text-repr-fallback {display: none;}</style><div id=\"sk-container-id-10\" class=\"sk-top-container\"><div class=\"sk-text-repr-fallback\"><pre>RandomForestClassifier(max_depth=15, min_samples_leaf=3, n_estimators=125,\n",
       "                       random_state=1)</pre><b>In a Jupyter environment, please rerun this cell to show the HTML representation or trust the notebook. <br />On GitHub, the HTML representation is unable to render, please try loading this page with nbviewer.org.</b></div><div class=\"sk-container\" hidden><div class=\"sk-item\"><div class=\"sk-estimator sk-toggleable\"><input class=\"sk-toggleable__control sk-hidden--visually\" id=\"sk-estimator-id-10\" type=\"checkbox\" checked><label for=\"sk-estimator-id-10\" class=\"sk-toggleable__label sk-toggleable__label-arrow\">RandomForestClassifier</label><div class=\"sk-toggleable__content\"><pre>RandomForestClassifier(max_depth=15, min_samples_leaf=3, n_estimators=125,\n",
       "                       random_state=1)</pre></div></div></div></div></div>"
      ],
      "text/plain": [
       "RandomForestClassifier(max_depth=15, min_samples_leaf=3, n_estimators=125,\n",
       "                       random_state=1)"
      ]
     },
     "execution_count": 59,
     "metadata": {},
     "output_type": "execute_result"
    }
   ],
   "source": [
    "rf = RandomForestClassifier(n_estimators=125,\n",
    "                            max_depth=15,\n",
    "                            min_samples_leaf=3,\n",
    "                            random_state=1)\n",
    "rf.fit(X_train, y_train)"
   ]
  },
  {
   "cell_type": "code",
   "execution_count": 60,
   "id": "902260d8",
   "metadata": {
    "execution": {
     "iopub.execute_input": "2023-12-12T17:00:30.595058Z",
     "iopub.status.busy": "2023-12-12T17:00:30.594707Z",
     "iopub.status.idle": "2023-12-12T17:00:30.681848Z",
     "shell.execute_reply": "2023-12-12T17:00:30.680001Z"
    },
    "papermill": {
     "duration": 0.122502,
     "end_time": "2023-12-12T17:00:30.685303",
     "exception": false,
     "start_time": "2023-12-12T17:00:30.562801",
     "status": "completed"
    },
    "tags": []
   },
   "outputs": [
    {
     "data": {
      "text/plain": [
       "0.9151372593981607"
      ]
     },
     "execution_count": 60,
     "metadata": {},
     "output_type": "execute_result"
    }
   ],
   "source": [
    "y_pred = rf.predict_proba(X_val)\n",
    "roc_auc_score(y_val, y_pred, multi_class='ovr')"
   ]
  },
  {
   "cell_type": "markdown",
   "id": "aa834d6a",
   "metadata": {
    "papermill": {
     "duration": 0.033051,
     "end_time": "2023-12-12T17:00:30.758591",
     "exception": false,
     "start_time": "2023-12-12T17:00:30.725540",
     "status": "completed"
    },
    "tags": []
   },
   "source": [
    "**Random Forest has the best accuracy**"
   ]
  },
  {
   "cell_type": "markdown",
   "id": "32a74e9c",
   "metadata": {
    "papermill": {
     "duration": 0.034419,
     "end_time": "2023-12-12T17:00:30.825109",
     "exception": false,
     "start_time": "2023-12-12T17:00:30.790690",
     "status": "completed"
    },
    "tags": []
   },
   "source": [
    "## Training the model on the full dataset"
   ]
  },
  {
   "cell_type": "code",
   "execution_count": 61,
   "id": "f62e2508",
   "metadata": {
    "execution": {
     "iopub.execute_input": "2023-12-12T17:00:30.893065Z",
     "iopub.status.busy": "2023-12-12T17:00:30.892717Z",
     "iopub.status.idle": "2023-12-12T17:00:30.910956Z",
     "shell.execute_reply": "2023-12-12T17:00:30.909466Z"
    },
    "papermill": {
     "duration": 0.054803,
     "end_time": "2023-12-12T17:00:30.913093",
     "exception": false,
     "start_time": "2023-12-12T17:00:30.858290",
     "status": "completed"
    },
    "tags": []
   },
   "outputs": [
    {
     "data": {
      "text/html": [
       "<div>\n",
       "<style scoped>\n",
       "    .dataframe tbody tr th:only-of-type {\n",
       "        vertical-align: middle;\n",
       "    }\n",
       "\n",
       "    .dataframe tbody tr th {\n",
       "        vertical-align: top;\n",
       "    }\n",
       "\n",
       "    .dataframe thead th {\n",
       "        text-align: right;\n",
       "    }\n",
       "</style>\n",
       "<table border=\"1\" class=\"dataframe\">\n",
       "  <thead>\n",
       "    <tr style=\"text-align: right;\">\n",
       "      <th></th>\n",
       "      <th>duration_ms</th>\n",
       "      <th>danceability</th>\n",
       "      <th>energy</th>\n",
       "      <th>loudness</th>\n",
       "      <th>speechiness</th>\n",
       "      <th>acousticness</th>\n",
       "      <th>instrumentalness</th>\n",
       "      <th>liveness</th>\n",
       "      <th>valence</th>\n",
       "      <th>tempo</th>\n",
       "      <th>genre</th>\n",
       "    </tr>\n",
       "  </thead>\n",
       "  <tbody>\n",
       "    <tr>\n",
       "      <th>64590</th>\n",
       "      <td>150412</td>\n",
       "      <td>0.569</td>\n",
       "      <td>0.489</td>\n",
       "      <td>-5.594</td>\n",
       "      <td>0.0400</td>\n",
       "      <td>0.238</td>\n",
       "      <td>0.000</td>\n",
       "      <td>0.290</td>\n",
       "      <td>0.543</td>\n",
       "      <td>123.573</td>\n",
       "      <td>jazz</td>\n",
       "    </tr>\n",
       "    <tr>\n",
       "      <th>20901</th>\n",
       "      <td>180000</td>\n",
       "      <td>0.638</td>\n",
       "      <td>0.717</td>\n",
       "      <td>-4.722</td>\n",
       "      <td>0.0337</td>\n",
       "      <td>0.346</td>\n",
       "      <td>0.000</td>\n",
       "      <td>0.105</td>\n",
       "      <td>0.249</td>\n",
       "      <td>100.027</td>\n",
       "      <td>dance</td>\n",
       "    </tr>\n",
       "    <tr>\n",
       "      <th>25461</th>\n",
       "      <td>208840</td>\n",
       "      <td>0.595</td>\n",
       "      <td>0.921</td>\n",
       "      <td>-7.329</td>\n",
       "      <td>0.0987</td>\n",
       "      <td>0.179</td>\n",
       "      <td>0.000</td>\n",
       "      <td>0.812</td>\n",
       "      <td>0.937</td>\n",
       "      <td>102.350</td>\n",
       "      <td>disco</td>\n",
       "    </tr>\n",
       "    <tr>\n",
       "      <th>64895</th>\n",
       "      <td>227920</td>\n",
       "      <td>0.334</td>\n",
       "      <td>0.470</td>\n",
       "      <td>-12.588</td>\n",
       "      <td>0.0322</td>\n",
       "      <td>0.941</td>\n",
       "      <td>0.967</td>\n",
       "      <td>0.127</td>\n",
       "      <td>0.623</td>\n",
       "      <td>51.206</td>\n",
       "      <td>jazz</td>\n",
       "    </tr>\n",
       "    <tr>\n",
       "      <th>16043</th>\n",
       "      <td>311786</td>\n",
       "      <td>0.164</td>\n",
       "      <td>0.167</td>\n",
       "      <td>-17.032</td>\n",
       "      <td>0.0440</td>\n",
       "      <td>0.594</td>\n",
       "      <td>0.368</td>\n",
       "      <td>0.224</td>\n",
       "      <td>0.154</td>\n",
       "      <td>87.069</td>\n",
       "      <td>classical</td>\n",
       "    </tr>\n",
       "  </tbody>\n",
       "</table>\n",
       "</div>"
      ],
      "text/plain": [
       "       duration_ms  danceability  energy  loudness  speechiness  acousticness  \\\n",
       "64590       150412         0.569   0.489    -5.594       0.0400         0.238   \n",
       "20901       180000         0.638   0.717    -4.722       0.0337         0.346   \n",
       "25461       208840         0.595   0.921    -7.329       0.0987         0.179   \n",
       "64895       227920         0.334   0.470   -12.588       0.0322         0.941   \n",
       "16043       311786         0.164   0.167   -17.032       0.0440         0.594   \n",
       "\n",
       "       instrumentalness  liveness  valence    tempo      genre  \n",
       "64590             0.000     0.290    0.543  123.573       jazz  \n",
       "20901             0.000     0.105    0.249  100.027      dance  \n",
       "25461             0.000     0.812    0.937  102.350      disco  \n",
       "64895             0.967     0.127    0.623   51.206       jazz  \n",
       "16043             0.368     0.224    0.154   87.069  classical  "
      ]
     },
     "execution_count": 61,
     "metadata": {},
     "output_type": "execute_result"
    }
   ],
   "source": [
    "df_train_full.head()"
   ]
  },
  {
   "cell_type": "code",
   "execution_count": 62,
   "id": "1e47e869",
   "metadata": {
    "execution": {
     "iopub.execute_input": "2023-12-12T17:00:30.972072Z",
     "iopub.status.busy": "2023-12-12T17:00:30.971642Z",
     "iopub.status.idle": "2023-12-12T17:00:30.977593Z",
     "shell.execute_reply": "2023-12-12T17:00:30.976207Z"
    },
    "papermill": {
     "duration": 0.037622,
     "end_time": "2023-12-12T17:00:30.980197",
     "exception": false,
     "start_time": "2023-12-12T17:00:30.942575",
     "status": "completed"
    },
    "tags": []
   },
   "outputs": [],
   "source": [
    "df_train_full = df_train_full.reset_index(drop=True)"
   ]
  },
  {
   "cell_type": "code",
   "execution_count": 63,
   "id": "4467c213",
   "metadata": {
    "execution": {
     "iopub.execute_input": "2023-12-12T17:00:31.038356Z",
     "iopub.status.busy": "2023-12-12T17:00:31.037731Z",
     "iopub.status.idle": "2023-12-12T17:00:31.053196Z",
     "shell.execute_reply": "2023-12-12T17:00:31.052421Z"
    },
    "papermill": {
     "duration": 0.047627,
     "end_time": "2023-12-12T17:00:31.055608",
     "exception": false,
     "start_time": "2023-12-12T17:00:31.007981",
     "status": "completed"
    },
    "scrolled": true,
    "tags": []
   },
   "outputs": [
    {
     "data": {
      "text/html": [
       "<div>\n",
       "<style scoped>\n",
       "    .dataframe tbody tr th:only-of-type {\n",
       "        vertical-align: middle;\n",
       "    }\n",
       "\n",
       "    .dataframe tbody tr th {\n",
       "        vertical-align: top;\n",
       "    }\n",
       "\n",
       "    .dataframe thead th {\n",
       "        text-align: right;\n",
       "    }\n",
       "</style>\n",
       "<table border=\"1\" class=\"dataframe\">\n",
       "  <thead>\n",
       "    <tr style=\"text-align: right;\">\n",
       "      <th></th>\n",
       "      <th>duration_ms</th>\n",
       "      <th>danceability</th>\n",
       "      <th>energy</th>\n",
       "      <th>loudness</th>\n",
       "      <th>speechiness</th>\n",
       "      <th>acousticness</th>\n",
       "      <th>instrumentalness</th>\n",
       "      <th>liveness</th>\n",
       "      <th>valence</th>\n",
       "      <th>tempo</th>\n",
       "      <th>genre</th>\n",
       "    </tr>\n",
       "  </thead>\n",
       "  <tbody>\n",
       "    <tr>\n",
       "      <th>0</th>\n",
       "      <td>150412</td>\n",
       "      <td>0.569</td>\n",
       "      <td>0.489</td>\n",
       "      <td>-5.594</td>\n",
       "      <td>0.0400</td>\n",
       "      <td>0.238</td>\n",
       "      <td>0.000</td>\n",
       "      <td>0.290</td>\n",
       "      <td>0.543</td>\n",
       "      <td>123.573</td>\n",
       "      <td>jazz</td>\n",
       "    </tr>\n",
       "    <tr>\n",
       "      <th>1</th>\n",
       "      <td>180000</td>\n",
       "      <td>0.638</td>\n",
       "      <td>0.717</td>\n",
       "      <td>-4.722</td>\n",
       "      <td>0.0337</td>\n",
       "      <td>0.346</td>\n",
       "      <td>0.000</td>\n",
       "      <td>0.105</td>\n",
       "      <td>0.249</td>\n",
       "      <td>100.027</td>\n",
       "      <td>dance</td>\n",
       "    </tr>\n",
       "    <tr>\n",
       "      <th>2</th>\n",
       "      <td>208840</td>\n",
       "      <td>0.595</td>\n",
       "      <td>0.921</td>\n",
       "      <td>-7.329</td>\n",
       "      <td>0.0987</td>\n",
       "      <td>0.179</td>\n",
       "      <td>0.000</td>\n",
       "      <td>0.812</td>\n",
       "      <td>0.937</td>\n",
       "      <td>102.350</td>\n",
       "      <td>disco</td>\n",
       "    </tr>\n",
       "    <tr>\n",
       "      <th>3</th>\n",
       "      <td>227920</td>\n",
       "      <td>0.334</td>\n",
       "      <td>0.470</td>\n",
       "      <td>-12.588</td>\n",
       "      <td>0.0322</td>\n",
       "      <td>0.941</td>\n",
       "      <td>0.967</td>\n",
       "      <td>0.127</td>\n",
       "      <td>0.623</td>\n",
       "      <td>51.206</td>\n",
       "      <td>jazz</td>\n",
       "    </tr>\n",
       "    <tr>\n",
       "      <th>4</th>\n",
       "      <td>311786</td>\n",
       "      <td>0.164</td>\n",
       "      <td>0.167</td>\n",
       "      <td>-17.032</td>\n",
       "      <td>0.0440</td>\n",
       "      <td>0.594</td>\n",
       "      <td>0.368</td>\n",
       "      <td>0.224</td>\n",
       "      <td>0.154</td>\n",
       "      <td>87.069</td>\n",
       "      <td>classical</td>\n",
       "    </tr>\n",
       "  </tbody>\n",
       "</table>\n",
       "</div>"
      ],
      "text/plain": [
       "   duration_ms  danceability  energy  loudness  speechiness  acousticness  \\\n",
       "0       150412         0.569   0.489    -5.594       0.0400         0.238   \n",
       "1       180000         0.638   0.717    -4.722       0.0337         0.346   \n",
       "2       208840         0.595   0.921    -7.329       0.0987         0.179   \n",
       "3       227920         0.334   0.470   -12.588       0.0322         0.941   \n",
       "4       311786         0.164   0.167   -17.032       0.0440         0.594   \n",
       "\n",
       "   instrumentalness  liveness  valence    tempo      genre  \n",
       "0             0.000     0.290    0.543  123.573       jazz  \n",
       "1             0.000     0.105    0.249  100.027      dance  \n",
       "2             0.000     0.812    0.937  102.350      disco  \n",
       "3             0.967     0.127    0.623   51.206       jazz  \n",
       "4             0.368     0.224    0.154   87.069  classical  "
      ]
     },
     "execution_count": 63,
     "metadata": {},
     "output_type": "execute_result"
    }
   ],
   "source": [
    "df_train_full.head()"
   ]
  },
  {
   "cell_type": "code",
   "execution_count": 64,
   "id": "94c15d81",
   "metadata": {
    "execution": {
     "iopub.execute_input": "2023-12-12T17:00:31.117641Z",
     "iopub.status.busy": "2023-12-12T17:00:31.117006Z",
     "iopub.status.idle": "2023-12-12T17:00:31.121083Z",
     "shell.execute_reply": "2023-12-12T17:00:31.120377Z"
    },
    "papermill": {
     "duration": 0.038552,
     "end_time": "2023-12-12T17:00:31.124000",
     "exception": false,
     "start_time": "2023-12-12T17:00:31.085448",
     "status": "completed"
    },
    "tags": []
   },
   "outputs": [],
   "source": [
    "y_train_full = df_train_full.genre.values"
   ]
  },
  {
   "cell_type": "code",
   "execution_count": 65,
   "id": "806b09c6",
   "metadata": {
    "execution": {
     "iopub.execute_input": "2023-12-12T17:00:31.188471Z",
     "iopub.status.busy": "2023-12-12T17:00:31.187528Z",
     "iopub.status.idle": "2023-12-12T17:00:31.194573Z",
     "shell.execute_reply": "2023-12-12T17:00:31.192684Z"
    },
    "papermill": {
     "duration": 0.043045,
     "end_time": "2023-12-12T17:00:31.197247",
     "exception": false,
     "start_time": "2023-12-12T17:00:31.154202",
     "status": "completed"
    },
    "tags": []
   },
   "outputs": [],
   "source": [
    "del df_train_full['genre']"
   ]
  },
  {
   "cell_type": "code",
   "execution_count": 66,
   "id": "1160a848",
   "metadata": {
    "execution": {
     "iopub.execute_input": "2023-12-12T17:00:31.260642Z",
     "iopub.status.busy": "2023-12-12T17:00:31.260283Z",
     "iopub.status.idle": "2023-12-12T17:00:31.588834Z",
     "shell.execute_reply": "2023-12-12T17:00:31.587275Z"
    },
    "papermill": {
     "duration": 0.362893,
     "end_time": "2023-12-12T17:00:31.591583",
     "exception": false,
     "start_time": "2023-12-12T17:00:31.228690",
     "status": "completed"
    },
    "tags": []
   },
   "outputs": [],
   "source": [
    "dicts_train_full = df_train_full.to_dict(orient='records')\n",
    "\n",
    "dv = DictVectorizer(sparse=False)\n",
    "X_train_full = dv.fit_transform(dicts_train_full)\n",
    "\n",
    "dicts_test = df_test.to_dict(orient='records')\n",
    "X_test = dv.transform(dicts_test)"
   ]
  },
  {
   "cell_type": "code",
   "execution_count": 67,
   "id": "7f579de5",
   "metadata": {
    "execution": {
     "iopub.execute_input": "2023-12-12T17:00:31.660637Z",
     "iopub.status.busy": "2023-12-12T17:00:31.660263Z",
     "iopub.status.idle": "2023-12-12T17:00:31.666187Z",
     "shell.execute_reply": "2023-12-12T17:00:31.665478Z"
    },
    "papermill": {
     "duration": 0.04404,
     "end_time": "2023-12-12T17:00:31.667959",
     "exception": false,
     "start_time": "2023-12-12T17:00:31.623919",
     "status": "completed"
    },
    "tags": []
   },
   "outputs": [],
   "source": [
    "le = LabelEncoder()\n",
    "y_train_full = le.fit_transform(y_train_full)"
   ]
  },
  {
   "cell_type": "code",
   "execution_count": 68,
   "id": "e0682069",
   "metadata": {
    "execution": {
     "iopub.execute_input": "2023-12-12T17:00:31.731365Z",
     "iopub.status.busy": "2023-12-12T17:00:31.730950Z",
     "iopub.status.idle": "2023-12-12T17:00:35.377506Z",
     "shell.execute_reply": "2023-12-12T17:00:35.376418Z"
    },
    "papermill": {
     "duration": 3.682013,
     "end_time": "2023-12-12T17:00:35.380205",
     "exception": false,
     "start_time": "2023-12-12T17:00:31.698192",
     "status": "completed"
    },
    "tags": []
   },
   "outputs": [
    {
     "data": {
      "text/html": [
       "<style>#sk-container-id-11 {color: black;background-color: white;}#sk-container-id-11 pre{padding: 0;}#sk-container-id-11 div.sk-toggleable {background-color: white;}#sk-container-id-11 label.sk-toggleable__label {cursor: pointer;display: block;width: 100%;margin-bottom: 0;padding: 0.3em;box-sizing: border-box;text-align: center;}#sk-container-id-11 label.sk-toggleable__label-arrow:before {content: \"▸\";float: left;margin-right: 0.25em;color: #696969;}#sk-container-id-11 label.sk-toggleable__label-arrow:hover:before {color: black;}#sk-container-id-11 div.sk-estimator:hover label.sk-toggleable__label-arrow:before {color: black;}#sk-container-id-11 div.sk-toggleable__content {max-height: 0;max-width: 0;overflow: hidden;text-align: left;background-color: #f0f8ff;}#sk-container-id-11 div.sk-toggleable__content pre {margin: 0.2em;color: black;border-radius: 0.25em;background-color: #f0f8ff;}#sk-container-id-11 input.sk-toggleable__control:checked~div.sk-toggleable__content {max-height: 200px;max-width: 100%;overflow: auto;}#sk-container-id-11 input.sk-toggleable__control:checked~label.sk-toggleable__label-arrow:before {content: \"▾\";}#sk-container-id-11 div.sk-estimator input.sk-toggleable__control:checked~label.sk-toggleable__label {background-color: #d4ebff;}#sk-container-id-11 div.sk-label input.sk-toggleable__control:checked~label.sk-toggleable__label {background-color: #d4ebff;}#sk-container-id-11 input.sk-hidden--visually {border: 0;clip: rect(1px 1px 1px 1px);clip: rect(1px, 1px, 1px, 1px);height: 1px;margin: -1px;overflow: hidden;padding: 0;position: absolute;width: 1px;}#sk-container-id-11 div.sk-estimator {font-family: monospace;background-color: #f0f8ff;border: 1px dotted black;border-radius: 0.25em;box-sizing: border-box;margin-bottom: 0.5em;}#sk-container-id-11 div.sk-estimator:hover {background-color: #d4ebff;}#sk-container-id-11 div.sk-parallel-item::after {content: \"\";width: 100%;border-bottom: 1px solid gray;flex-grow: 1;}#sk-container-id-11 div.sk-label:hover label.sk-toggleable__label {background-color: #d4ebff;}#sk-container-id-11 div.sk-serial::before {content: \"\";position: absolute;border-left: 1px solid gray;box-sizing: border-box;top: 0;bottom: 0;left: 50%;z-index: 0;}#sk-container-id-11 div.sk-serial {display: flex;flex-direction: column;align-items: center;background-color: white;padding-right: 0.2em;padding-left: 0.2em;position: relative;}#sk-container-id-11 div.sk-item {position: relative;z-index: 1;}#sk-container-id-11 div.sk-parallel {display: flex;align-items: stretch;justify-content: center;background-color: white;position: relative;}#sk-container-id-11 div.sk-item::before, #sk-container-id-11 div.sk-parallel-item::before {content: \"\";position: absolute;border-left: 1px solid gray;box-sizing: border-box;top: 0;bottom: 0;left: 50%;z-index: -1;}#sk-container-id-11 div.sk-parallel-item {display: flex;flex-direction: column;z-index: 1;position: relative;background-color: white;}#sk-container-id-11 div.sk-parallel-item:first-child::after {align-self: flex-end;width: 50%;}#sk-container-id-11 div.sk-parallel-item:last-child::after {align-self: flex-start;width: 50%;}#sk-container-id-11 div.sk-parallel-item:only-child::after {width: 0;}#sk-container-id-11 div.sk-dashed-wrapped {border: 1px dashed gray;margin: 0 0.4em 0.5em 0.4em;box-sizing: border-box;padding-bottom: 0.4em;background-color: white;}#sk-container-id-11 div.sk-label label {font-family: monospace;font-weight: bold;display: inline-block;line-height: 1.2em;}#sk-container-id-11 div.sk-label-container {text-align: center;}#sk-container-id-11 div.sk-container {/* jupyter's `normalize.less` sets `[hidden] { display: none; }` but bootstrap.min.css set `[hidden] { display: none !important; }` so we also need the `!important` here to be able to override the default hidden behavior on the sphinx rendered scikit-learn.org. See: https://github.com/scikit-learn/scikit-learn/issues/21755 */display: inline-block !important;position: relative;}#sk-container-id-11 div.sk-text-repr-fallback {display: none;}</style><div id=\"sk-container-id-11\" class=\"sk-top-container\"><div class=\"sk-text-repr-fallback\"><pre>RandomForestClassifier(max_depth=15, min_samples_leaf=3, n_estimators=125,\n",
       "                       random_state=1)</pre><b>In a Jupyter environment, please rerun this cell to show the HTML representation or trust the notebook. <br />On GitHub, the HTML representation is unable to render, please try loading this page with nbviewer.org.</b></div><div class=\"sk-container\" hidden><div class=\"sk-item\"><div class=\"sk-estimator sk-toggleable\"><input class=\"sk-toggleable__control sk-hidden--visually\" id=\"sk-estimator-id-11\" type=\"checkbox\" checked><label for=\"sk-estimator-id-11\" class=\"sk-toggleable__label sk-toggleable__label-arrow\">RandomForestClassifier</label><div class=\"sk-toggleable__content\"><pre>RandomForestClassifier(max_depth=15, min_samples_leaf=3, n_estimators=125,\n",
       "                       random_state=1)</pre></div></div></div></div></div>"
      ],
      "text/plain": [
       "RandomForestClassifier(max_depth=15, min_samples_leaf=3, n_estimators=125,\n",
       "                       random_state=1)"
      ]
     },
     "execution_count": 68,
     "metadata": {},
     "output_type": "execute_result"
    }
   ],
   "source": [
    "rf = RandomForestClassifier(n_estimators=125,\n",
    "                            max_depth=15,\n",
    "                            min_samples_leaf=3,\n",
    "                            random_state=1)\n",
    "rf.fit(X_train_full, y_train_full)"
   ]
  },
  {
   "cell_type": "code",
   "execution_count": 69,
   "id": "56f2c00c",
   "metadata": {
    "execution": {
     "iopub.execute_input": "2023-12-12T17:00:35.441611Z",
     "iopub.status.busy": "2023-12-12T17:00:35.441217Z",
     "iopub.status.idle": "2023-12-12T17:00:35.524679Z",
     "shell.execute_reply": "2023-12-12T17:00:35.523644Z"
    },
    "papermill": {
     "duration": 0.116972,
     "end_time": "2023-12-12T17:00:35.527253",
     "exception": false,
     "start_time": "2023-12-12T17:00:35.410281",
     "status": "completed"
    },
    "tags": []
   },
   "outputs": [
    {
     "data": {
      "text/plain": [
       "0.9190911734222412"
      ]
     },
     "execution_count": 69,
     "metadata": {},
     "output_type": "execute_result"
    }
   ],
   "source": [
    "y_pred = rf.predict_proba(X_test)\n",
    "roc_auc_score(y_test, y_pred, multi_class='ovr')"
   ]
  },
  {
   "cell_type": "code",
   "execution_count": 70,
   "id": "312e48cd",
   "metadata": {
    "execution": {
     "iopub.execute_input": "2023-12-12T17:00:35.594215Z",
     "iopub.status.busy": "2023-12-12T17:00:35.593824Z",
     "iopub.status.idle": "2023-12-12T17:00:35.601033Z",
     "shell.execute_reply": "2023-12-12T17:00:35.599823Z"
    },
    "papermill": {
     "duration": 0.044088,
     "end_time": "2023-12-12T17:00:35.603725",
     "exception": false,
     "start_time": "2023-12-12T17:00:35.559637",
     "status": "completed"
    },
    "tags": []
   },
   "outputs": [
    {
     "data": {
      "text/plain": [
       "{'duration_ms': 227920.0,\n",
       " 'danceability': 0.334,\n",
       " 'energy': 0.47,\n",
       " 'loudness': -12.588,\n",
       " 'speechiness': 0.0322,\n",
       " 'acousticness': 0.941,\n",
       " 'instrumentalness': 0.967,\n",
       " 'liveness': 0.127,\n",
       " 'valence': 0.623,\n",
       " 'tempo': 51.206}"
      ]
     },
     "execution_count": 70,
     "metadata": {},
     "output_type": "execute_result"
    }
   ],
   "source": [
    "df_train_full.iloc[3].to_dict()"
   ]
  },
  {
   "cell_type": "code",
   "execution_count": 71,
   "id": "aedbfca1",
   "metadata": {
    "execution": {
     "iopub.execute_input": "2023-12-12T17:00:35.673040Z",
     "iopub.status.busy": "2023-12-12T17:00:35.672347Z",
     "iopub.status.idle": "2023-12-12T17:00:35.677441Z",
     "shell.execute_reply": "2023-12-12T17:00:35.676319Z"
    },
    "papermill": {
     "duration": 0.041302,
     "end_time": "2023-12-12T17:00:35.680073",
     "exception": false,
     "start_time": "2023-12-12T17:00:35.638771",
     "status": "completed"
    },
    "tags": []
   },
   "outputs": [
    {
     "name": "stdout",
     "output_type": "stream",
     "text": [
      "jazz\n"
     ]
    }
   ],
   "source": [
    "print(classes[y_train_full[3]])"
   ]
  },
  {
   "cell_type": "markdown",
   "id": "3b25f88b",
   "metadata": {
    "papermill": {
     "duration": 0.032722,
     "end_time": "2023-12-12T17:00:35.744324",
     "exception": false,
     "start_time": "2023-12-12T17:00:35.711602",
     "status": "completed"
    },
    "tags": []
   },
   "source": [
    "# Exporting Model"
   ]
  },
  {
   "cell_type": "code",
   "execution_count": 72,
   "id": "287c7634",
   "metadata": {
    "execution": {
     "iopub.execute_input": "2023-12-12T17:00:35.811408Z",
     "iopub.status.busy": "2023-12-12T17:00:35.810498Z",
     "iopub.status.idle": "2023-12-12T17:00:35.815035Z",
     "shell.execute_reply": "2023-12-12T17:00:35.813888Z"
    },
    "papermill": {
     "duration": 0.04098,
     "end_time": "2023-12-12T17:00:35.817179",
     "exception": false,
     "start_time": "2023-12-12T17:00:35.776199",
     "status": "completed"
    },
    "tags": []
   },
   "outputs": [],
   "source": [
    "output_file = 'model.bin'"
   ]
  },
  {
   "cell_type": "code",
   "execution_count": 73,
   "id": "6c90bd11",
   "metadata": {
    "execution": {
     "iopub.execute_input": "2023-12-12T17:00:35.883895Z",
     "iopub.status.busy": "2023-12-12T17:00:35.883092Z",
     "iopub.status.idle": "2023-12-12T17:00:35.934357Z",
     "shell.execute_reply": "2023-12-12T17:00:35.933200Z"
    },
    "papermill": {
     "duration": 0.089364,
     "end_time": "2023-12-12T17:00:35.936873",
     "exception": false,
     "start_time": "2023-12-12T17:00:35.847509",
     "status": "completed"
    },
    "tags": []
   },
   "outputs": [],
   "source": [
    "f_out = open(output_file, 'wb') \n",
    "pickle.dump((dv, rf), f_out)\n",
    "f_out.close()"
   ]
  }
 ],
 "metadata": {
  "kaggle": {
   "accelerator": "none",
   "dataSources": [
    {
     "datasetId": 4083552,
     "sourceId": 7087301,
     "sourceType": "datasetVersion"
    }
   ],
   "dockerImageVersionId": 30615,
   "isGpuEnabled": false,
   "isInternetEnabled": false,
   "language": "python",
   "sourceType": "notebook"
  },
  "kernelspec": {
   "display_name": "Python 3",
   "language": "python",
   "name": "python3"
  },
  "language_info": {
   "codemirror_mode": {
    "name": "ipython",
    "version": 3
   },
   "file_extension": ".py",
   "mimetype": "text/x-python",
   "name": "python",
   "nbconvert_exporter": "python",
   "pygments_lexer": "ipython3",
   "version": "3.10.12"
  },
  "papermill": {
   "default_parameters": {},
   "duration": 397.735504,
   "end_time": "2023-12-12T17:00:37.096911",
   "environment_variables": {},
   "exception": null,
   "input_path": "__notebook__.ipynb",
   "output_path": "__notebook__.ipynb",
   "parameters": {},
   "start_time": "2023-12-12T16:53:59.361407",
   "version": "2.4.0"
  },
  "widgets": {
   "application/vnd.jupyter.widget-state+json": {
    "state": {
     "0563af08d432408ba7e9c3de94c24b7c": {
      "model_module": "@jupyter-widgets/controls",
      "model_module_version": "1.5.0",
      "model_name": "FloatProgressModel",
      "state": {
       "_dom_classes": [],
       "_model_module": "@jupyter-widgets/controls",
       "_model_module_version": "1.5.0",
       "_model_name": "FloatProgressModel",
       "_view_count": null,
       "_view_module": "@jupyter-widgets/controls",
       "_view_module_version": "1.5.0",
       "_view_name": "ProgressView",
       "bar_style": "success",
       "description": "",
       "description_tooltip": null,
       "layout": "IPY_MODEL_6f4e89b068fc4b26a24a43741fdef3c9",
       "max": 20,
       "min": 0,
       "orientation": "horizontal",
       "style": "IPY_MODEL_df8bdc0124e5442ab15c28744c0e5af1",
       "value": 20
      }
     },
     "063eb9f5b2204f3d9259ccb2f35a59ac": {
      "model_module": "@jupyter-widgets/controls",
      "model_module_version": "1.5.0",
      "model_name": "HBoxModel",
      "state": {
       "_dom_classes": [],
       "_model_module": "@jupyter-widgets/controls",
       "_model_module_version": "1.5.0",
       "_model_name": "HBoxModel",
       "_view_count": null,
       "_view_module": "@jupyter-widgets/controls",
       "_view_module_version": "1.5.0",
       "_view_name": "HBoxView",
       "box_style": "",
       "children": [
        "IPY_MODEL_a1ab31b8a1e3445fbd0ee31d4f1c19ba",
        "IPY_MODEL_0b6618638cf748f88c73ea49f9829abd",
        "IPY_MODEL_fd6e5938320e4594b92158abdde7b558"
       ],
       "layout": "IPY_MODEL_aced1b5c87d74ce1a4a62d808da740bb"
      }
     },
     "0789b53368074d63b86bfb80c341911d": {
      "model_module": "@jupyter-widgets/controls",
      "model_module_version": "1.5.0",
      "model_name": "DescriptionStyleModel",
      "state": {
       "_model_module": "@jupyter-widgets/controls",
       "_model_module_version": "1.5.0",
       "_model_name": "DescriptionStyleModel",
       "_view_count": null,
       "_view_module": "@jupyter-widgets/base",
       "_view_module_version": "1.2.0",
       "_view_name": "StyleView",
       "description_width": ""
      }
     },
     "09170c5f5f9b43509a54e2ffbef84ae5": {
      "model_module": "@jupyter-widgets/controls",
      "model_module_version": "1.5.0",
      "model_name": "HTMLModel",
      "state": {
       "_dom_classes": [],
       "_model_module": "@jupyter-widgets/controls",
       "_model_module_version": "1.5.0",
       "_model_name": "HTMLModel",
       "_view_count": null,
       "_view_module": "@jupyter-widgets/controls",
       "_view_module_version": "1.5.0",
       "_view_name": "HTMLView",
       "description": "",
       "description_tooltip": null,
       "layout": "IPY_MODEL_4370a86558e24b808f7ae515c4bac9c3",
       "placeholder": "​",
       "style": "IPY_MODEL_fce3b6788af24c32bf1b017e47d223fa",
       "value": "100%"
      }
     },
     "0b6618638cf748f88c73ea49f9829abd": {
      "model_module": "@jupyter-widgets/controls",
      "model_module_version": "1.5.0",
      "model_name": "FloatProgressModel",
      "state": {
       "_dom_classes": [],
       "_model_module": "@jupyter-widgets/controls",
       "_model_module_version": "1.5.0",
       "_model_name": "FloatProgressModel",
       "_view_count": null,
       "_view_module": "@jupyter-widgets/controls",
       "_view_module_version": "1.5.0",
       "_view_name": "ProgressView",
       "bar_style": "success",
       "description": "",
       "description_tooltip": null,
       "layout": "IPY_MODEL_28368174c04b456b8c75c8947cdf2c81",
       "max": 20,
       "min": 0,
       "orientation": "horizontal",
       "style": "IPY_MODEL_36bb6bab957e46a3bea098f4b95a67e3",
       "value": 20
      }
     },
     "0bb5ebf625eb4d9095f224f71c9f3762": {
      "model_module": "@jupyter-widgets/controls",
      "model_module_version": "1.5.0",
      "model_name": "DescriptionStyleModel",
      "state": {
       "_model_module": "@jupyter-widgets/controls",
       "_model_module_version": "1.5.0",
       "_model_name": "DescriptionStyleModel",
       "_view_count": null,
       "_view_module": "@jupyter-widgets/base",
       "_view_module_version": "1.2.0",
       "_view_name": "StyleView",
       "description_width": ""
      }
     },
     "0f195877f23343f98fad2db2c8bcc754": {
      "model_module": "@jupyter-widgets/controls",
      "model_module_version": "1.5.0",
      "model_name": "HTMLModel",
      "state": {
       "_dom_classes": [],
       "_model_module": "@jupyter-widgets/controls",
       "_model_module_version": "1.5.0",
       "_model_name": "HTMLModel",
       "_view_count": null,
       "_view_module": "@jupyter-widgets/controls",
       "_view_module_version": "1.5.0",
       "_view_name": "HTMLView",
       "description": "",
       "description_tooltip": null,
       "layout": "IPY_MODEL_a25842988bb9467d973ea791b0614a5e",
       "placeholder": "​",
       "style": "IPY_MODEL_e641b2b17b024324a5401a4b3066de4c",
       "value": "100%"
      }
     },
     "1483a544af8042e7991705dc8921cd64": {
      "model_module": "@jupyter-widgets/base",
      "model_module_version": "1.2.0",
      "model_name": "LayoutModel",
      "state": {
       "_model_module": "@jupyter-widgets/base",
       "_model_module_version": "1.2.0",
       "_model_name": "LayoutModel",
       "_view_count": null,
       "_view_module": "@jupyter-widgets/base",
       "_view_module_version": "1.2.0",
       "_view_name": "LayoutView",
       "align_content": null,
       "align_items": null,
       "align_self": null,
       "border": null,
       "bottom": null,
       "display": null,
       "flex": null,
       "flex_flow": null,
       "grid_area": null,
       "grid_auto_columns": null,
       "grid_auto_flow": null,
       "grid_auto_rows": null,
       "grid_column": null,
       "grid_gap": null,
       "grid_row": null,
       "grid_template_areas": null,
       "grid_template_columns": null,
       "grid_template_rows": null,
       "height": null,
       "justify_content": null,
       "justify_items": null,
       "left": null,
       "margin": null,
       "max_height": null,
       "max_width": null,
       "min_height": null,
       "min_width": null,
       "object_fit": null,
       "object_position": null,
       "order": null,
       "overflow": null,
       "overflow_x": null,
       "overflow_y": null,
       "padding": null,
       "right": null,
       "top": null,
       "visibility": null,
       "width": null
      }
     },
     "1529af755978437683d90d42161f2d3f": {
      "model_module": "@jupyter-widgets/controls",
      "model_module_version": "1.5.0",
      "model_name": "FloatProgressModel",
      "state": {
       "_dom_classes": [],
       "_model_module": "@jupyter-widgets/controls",
       "_model_module_version": "1.5.0",
       "_model_name": "FloatProgressModel",
       "_view_count": null,
       "_view_module": "@jupyter-widgets/controls",
       "_view_module_version": "1.5.0",
       "_view_name": "ProgressView",
       "bar_style": "success",
       "description": "",
       "description_tooltip": null,
       "layout": "IPY_MODEL_b48305260a0340f2bdc8831413603206",
       "max": 20,
       "min": 0,
       "orientation": "horizontal",
       "style": "IPY_MODEL_1dd96ec936b34342ab45aa49c3bcade4",
       "value": 20
      }
     },
     "16ea89ee6a1b4946ab649c031a853d24": {
      "model_module": "@jupyter-widgets/base",
      "model_module_version": "1.2.0",
      "model_name": "LayoutModel",
      "state": {
       "_model_module": "@jupyter-widgets/base",
       "_model_module_version": "1.2.0",
       "_model_name": "LayoutModel",
       "_view_count": null,
       "_view_module": "@jupyter-widgets/base",
       "_view_module_version": "1.2.0",
       "_view_name": "LayoutView",
       "align_content": null,
       "align_items": null,
       "align_self": null,
       "border": null,
       "bottom": null,
       "display": null,
       "flex": null,
       "flex_flow": null,
       "grid_area": null,
       "grid_auto_columns": null,
       "grid_auto_flow": null,
       "grid_auto_rows": null,
       "grid_column": null,
       "grid_gap": null,
       "grid_row": null,
       "grid_template_areas": null,
       "grid_template_columns": null,
       "grid_template_rows": null,
       "height": null,
       "justify_content": null,
       "justify_items": null,
       "left": null,
       "margin": null,
       "max_height": null,
       "max_width": null,
       "min_height": null,
       "min_width": null,
       "object_fit": null,
       "object_position": null,
       "order": null,
       "overflow": null,
       "overflow_x": null,
       "overflow_y": null,
       "padding": null,
       "right": null,
       "top": null,
       "visibility": null,
       "width": null
      }
     },
     "1a7f94f0624d45929d7a1c06d78667e0": {
      "model_module": "@jupyter-widgets/controls",
      "model_module_version": "1.5.0",
      "model_name": "HTMLModel",
      "state": {
       "_dom_classes": [],
       "_model_module": "@jupyter-widgets/controls",
       "_model_module_version": "1.5.0",
       "_model_name": "HTMLModel",
       "_view_count": null,
       "_view_module": "@jupyter-widgets/controls",
       "_view_module_version": "1.5.0",
       "_view_name": "HTMLView",
       "description": "",
       "description_tooltip": null,
       "layout": "IPY_MODEL_c1f623ff703c4b93ba028b34f6ba0b13",
       "placeholder": "​",
       "style": "IPY_MODEL_398c12cb25a64a47b0a48f6a1d68d7f0",
       "value": " 20/20 [00:31&lt;00:00,  2.63s/it]"
      }
     },
     "1dd96ec936b34342ab45aa49c3bcade4": {
      "model_module": "@jupyter-widgets/controls",
      "model_module_version": "1.5.0",
      "model_name": "ProgressStyleModel",
      "state": {
       "_model_module": "@jupyter-widgets/controls",
       "_model_module_version": "1.5.0",
       "_model_name": "ProgressStyleModel",
       "_view_count": null,
       "_view_module": "@jupyter-widgets/base",
       "_view_module_version": "1.2.0",
       "_view_name": "StyleView",
       "bar_color": null,
       "description_width": ""
      }
     },
     "1e4b43d5acc842c09deb844d261c1a1b": {
      "model_module": "@jupyter-widgets/base",
      "model_module_version": "1.2.0",
      "model_name": "LayoutModel",
      "state": {
       "_model_module": "@jupyter-widgets/base",
       "_model_module_version": "1.2.0",
       "_model_name": "LayoutModel",
       "_view_count": null,
       "_view_module": "@jupyter-widgets/base",
       "_view_module_version": "1.2.0",
       "_view_name": "LayoutView",
       "align_content": null,
       "align_items": null,
       "align_self": null,
       "border": null,
       "bottom": null,
       "display": null,
       "flex": null,
       "flex_flow": null,
       "grid_area": null,
       "grid_auto_columns": null,
       "grid_auto_flow": null,
       "grid_auto_rows": null,
       "grid_column": null,
       "grid_gap": null,
       "grid_row": null,
       "grid_template_areas": null,
       "grid_template_columns": null,
       "grid_template_rows": null,
       "height": null,
       "justify_content": null,
       "justify_items": null,
       "left": null,
       "margin": null,
       "max_height": null,
       "max_width": null,
       "min_height": null,
       "min_width": null,
       "object_fit": null,
       "object_position": null,
       "order": null,
       "overflow": null,
       "overflow_x": null,
       "overflow_y": null,
       "padding": null,
       "right": null,
       "top": null,
       "visibility": null,
       "width": null
      }
     },
     "20088368f7c445cb87cdd2d38769b810": {
      "model_module": "@jupyter-widgets/controls",
      "model_module_version": "1.5.0",
      "model_name": "DescriptionStyleModel",
      "state": {
       "_model_module": "@jupyter-widgets/controls",
       "_model_module_version": "1.5.0",
       "_model_name": "DescriptionStyleModel",
       "_view_count": null,
       "_view_module": "@jupyter-widgets/base",
       "_view_module_version": "1.2.0",
       "_view_name": "StyleView",
       "description_width": ""
      }
     },
     "21df01fbdfa945158c0034d73caae316": {
      "model_module": "@jupyter-widgets/controls",
      "model_module_version": "1.5.0",
      "model_name": "HTMLModel",
      "state": {
       "_dom_classes": [],
       "_model_module": "@jupyter-widgets/controls",
       "_model_module_version": "1.5.0",
       "_model_name": "HTMLModel",
       "_view_count": null,
       "_view_module": "@jupyter-widgets/controls",
       "_view_module_version": "1.5.0",
       "_view_name": "HTMLView",
       "description": "",
       "description_tooltip": null,
       "layout": "IPY_MODEL_c724fb1c4fbb45fda149af97f62a0dc0",
       "placeholder": "​",
       "style": "IPY_MODEL_3bb521ce052643689b158de06b800b5b",
       "value": "100%"
      }
     },
     "2441c8897c4e4c5d9be80d172dde09da": {
      "model_module": "@jupyter-widgets/controls",
      "model_module_version": "1.5.0",
      "model_name": "DescriptionStyleModel",
      "state": {
       "_model_module": "@jupyter-widgets/controls",
       "_model_module_version": "1.5.0",
       "_model_name": "DescriptionStyleModel",
       "_view_count": null,
       "_view_module": "@jupyter-widgets/base",
       "_view_module_version": "1.2.0",
       "_view_name": "StyleView",
       "description_width": ""
      }
     },
     "26d04e4c37ca49b0b842ef98803bbc61": {
      "model_module": "@jupyter-widgets/base",
      "model_module_version": "1.2.0",
      "model_name": "LayoutModel",
      "state": {
       "_model_module": "@jupyter-widgets/base",
       "_model_module_version": "1.2.0",
       "_model_name": "LayoutModel",
       "_view_count": null,
       "_view_module": "@jupyter-widgets/base",
       "_view_module_version": "1.2.0",
       "_view_name": "LayoutView",
       "align_content": null,
       "align_items": null,
       "align_self": null,
       "border": null,
       "bottom": null,
       "display": null,
       "flex": null,
       "flex_flow": null,
       "grid_area": null,
       "grid_auto_columns": null,
       "grid_auto_flow": null,
       "grid_auto_rows": null,
       "grid_column": null,
       "grid_gap": null,
       "grid_row": null,
       "grid_template_areas": null,
       "grid_template_columns": null,
       "grid_template_rows": null,
       "height": null,
       "justify_content": null,
       "justify_items": null,
       "left": null,
       "margin": null,
       "max_height": null,
       "max_width": null,
       "min_height": null,
       "min_width": null,
       "object_fit": null,
       "object_position": null,
       "order": null,
       "overflow": null,
       "overflow_x": null,
       "overflow_y": null,
       "padding": null,
       "right": null,
       "top": null,
       "visibility": null,
       "width": null
      }
     },
     "28368174c04b456b8c75c8947cdf2c81": {
      "model_module": "@jupyter-widgets/base",
      "model_module_version": "1.2.0",
      "model_name": "LayoutModel",
      "state": {
       "_model_module": "@jupyter-widgets/base",
       "_model_module_version": "1.2.0",
       "_model_name": "LayoutModel",
       "_view_count": null,
       "_view_module": "@jupyter-widgets/base",
       "_view_module_version": "1.2.0",
       "_view_name": "LayoutView",
       "align_content": null,
       "align_items": null,
       "align_self": null,
       "border": null,
       "bottom": null,
       "display": null,
       "flex": null,
       "flex_flow": null,
       "grid_area": null,
       "grid_auto_columns": null,
       "grid_auto_flow": null,
       "grid_auto_rows": null,
       "grid_column": null,
       "grid_gap": null,
       "grid_row": null,
       "grid_template_areas": null,
       "grid_template_columns": null,
       "grid_template_rows": null,
       "height": null,
       "justify_content": null,
       "justify_items": null,
       "left": null,
       "margin": null,
       "max_height": null,
       "max_width": null,
       "min_height": null,
       "min_width": null,
       "object_fit": null,
       "object_position": null,
       "order": null,
       "overflow": null,
       "overflow_x": null,
       "overflow_y": null,
       "padding": null,
       "right": null,
       "top": null,
       "visibility": null,
       "width": null
      }
     },
     "28c0adc5ecf34386a01c34e45c15a278": {
      "model_module": "@jupyter-widgets/controls",
      "model_module_version": "1.5.0",
      "model_name": "HTMLModel",
      "state": {
       "_dom_classes": [],
       "_model_module": "@jupyter-widgets/controls",
       "_model_module_version": "1.5.0",
       "_model_name": "HTMLModel",
       "_view_count": null,
       "_view_module": "@jupyter-widgets/controls",
       "_view_module_version": "1.5.0",
       "_view_name": "HTMLView",
       "description": "",
       "description_tooltip": null,
       "layout": "IPY_MODEL_af388741e4f74c6c8d63013a40c4567c",
       "placeholder": "​",
       "style": "IPY_MODEL_85f41de485a44b1caa74c01bf23076e0",
       "value": " 4/4 [02:34&lt;00:00, 42.37s/it]"
      }
     },
     "2944e85d1cd7452ba51d421d36f47032": {
      "model_module": "@jupyter-widgets/base",
      "model_module_version": "1.2.0",
      "model_name": "LayoutModel",
      "state": {
       "_model_module": "@jupyter-widgets/base",
       "_model_module_version": "1.2.0",
       "_model_name": "LayoutModel",
       "_view_count": null,
       "_view_module": "@jupyter-widgets/base",
       "_view_module_version": "1.2.0",
       "_view_name": "LayoutView",
       "align_content": null,
       "align_items": null,
       "align_self": null,
       "border": null,
       "bottom": null,
       "display": null,
       "flex": null,
       "flex_flow": null,
       "grid_area": null,
       "grid_auto_columns": null,
       "grid_auto_flow": null,
       "grid_auto_rows": null,
       "grid_column": null,
       "grid_gap": null,
       "grid_row": null,
       "grid_template_areas": null,
       "grid_template_columns": null,
       "grid_template_rows": null,
       "height": null,
       "justify_content": null,
       "justify_items": null,
       "left": null,
       "margin": null,
       "max_height": null,
       "max_width": null,
       "min_height": null,
       "min_width": null,
       "object_fit": null,
       "object_position": null,
       "order": null,
       "overflow": null,
       "overflow_x": null,
       "overflow_y": null,
       "padding": null,
       "right": null,
       "top": null,
       "visibility": null,
       "width": null
      }
     },
     "2edcc686670c450288342175f17729ed": {
      "model_module": "@jupyter-widgets/base",
      "model_module_version": "1.2.0",
      "model_name": "LayoutModel",
      "state": {
       "_model_module": "@jupyter-widgets/base",
       "_model_module_version": "1.2.0",
       "_model_name": "LayoutModel",
       "_view_count": null,
       "_view_module": "@jupyter-widgets/base",
       "_view_module_version": "1.2.0",
       "_view_name": "LayoutView",
       "align_content": null,
       "align_items": null,
       "align_self": null,
       "border": null,
       "bottom": null,
       "display": null,
       "flex": null,
       "flex_flow": null,
       "grid_area": null,
       "grid_auto_columns": null,
       "grid_auto_flow": null,
       "grid_auto_rows": null,
       "grid_column": null,
       "grid_gap": null,
       "grid_row": null,
       "grid_template_areas": null,
       "grid_template_columns": null,
       "grid_template_rows": null,
       "height": null,
       "justify_content": null,
       "justify_items": null,
       "left": null,
       "margin": null,
       "max_height": null,
       "max_width": null,
       "min_height": null,
       "min_width": null,
       "object_fit": null,
       "object_position": null,
       "order": null,
       "overflow": null,
       "overflow_x": null,
       "overflow_y": null,
       "padding": null,
       "right": null,
       "top": null,
       "visibility": null,
       "width": null
      }
     },
     "36721f2ae828462ea16b620d8620c4ee": {
      "model_module": "@jupyter-widgets/controls",
      "model_module_version": "1.5.0",
      "model_name": "FloatProgressModel",
      "state": {
       "_dom_classes": [],
       "_model_module": "@jupyter-widgets/controls",
       "_model_module_version": "1.5.0",
       "_model_name": "FloatProgressModel",
       "_view_count": null,
       "_view_module": "@jupyter-widgets/controls",
       "_view_module_version": "1.5.0",
       "_view_name": "ProgressView",
       "bar_style": "success",
       "description": "",
       "description_tooltip": null,
       "layout": "IPY_MODEL_c2262eba93c543be8c8512e906da3d2a",
       "max": 5,
       "min": 0,
       "orientation": "horizontal",
       "style": "IPY_MODEL_f41eb228df0046c58f1000de3d8255ad",
       "value": 5
      }
     },
     "36bb6bab957e46a3bea098f4b95a67e3": {
      "model_module": "@jupyter-widgets/controls",
      "model_module_version": "1.5.0",
      "model_name": "ProgressStyleModel",
      "state": {
       "_model_module": "@jupyter-widgets/controls",
       "_model_module_version": "1.5.0",
       "_model_name": "ProgressStyleModel",
       "_view_count": null,
       "_view_module": "@jupyter-widgets/base",
       "_view_module_version": "1.2.0",
       "_view_name": "StyleView",
       "bar_color": null,
       "description_width": ""
      }
     },
     "37d37a63d51a4bf49dab97ea81ed656f": {
      "model_module": "@jupyter-widgets/controls",
      "model_module_version": "1.5.0",
      "model_name": "HTMLModel",
      "state": {
       "_dom_classes": [],
       "_model_module": "@jupyter-widgets/controls",
       "_model_module_version": "1.5.0",
       "_model_name": "HTMLModel",
       "_view_count": null,
       "_view_module": "@jupyter-widgets/controls",
       "_view_module_version": "1.5.0",
       "_view_name": "HTMLView",
       "description": "",
       "description_tooltip": null,
       "layout": "IPY_MODEL_b8f8caac78a545bf8e51bb72f505f91c",
       "placeholder": "​",
       "style": "IPY_MODEL_b9315977c5bb468c924abd766e4591ec",
       "value": "100%"
      }
     },
     "3931d614f217450e9fddaf28bddd1283": {
      "model_module": "@jupyter-widgets/controls",
      "model_module_version": "1.5.0",
      "model_name": "FloatProgressModel",
      "state": {
       "_dom_classes": [],
       "_model_module": "@jupyter-widgets/controls",
       "_model_module_version": "1.5.0",
       "_model_name": "FloatProgressModel",
       "_view_count": null,
       "_view_module": "@jupyter-widgets/controls",
       "_view_module_version": "1.5.0",
       "_view_name": "ProgressView",
       "bar_style": "success",
       "description": "",
       "description_tooltip": null,
       "layout": "IPY_MODEL_f7d37ee41f1144ea86ac7eabf7b503d4",
       "max": 20,
       "min": 0,
       "orientation": "horizontal",
       "style": "IPY_MODEL_a6f4386aa134400d983f39c38603c72d",
       "value": 20
      }
     },
     "39408e770c1a4d24a194c29d753b2d62": {
      "model_module": "@jupyter-widgets/controls",
      "model_module_version": "1.5.0",
      "model_name": "HBoxModel",
      "state": {
       "_dom_classes": [],
       "_model_module": "@jupyter-widgets/controls",
       "_model_module_version": "1.5.0",
       "_model_name": "HBoxModel",
       "_view_count": null,
       "_view_module": "@jupyter-widgets/controls",
       "_view_module_version": "1.5.0",
       "_view_name": "HBoxView",
       "box_style": "",
       "children": [
        "IPY_MODEL_e50ceb09ab07457894570d2c7b7c25c5",
        "IPY_MODEL_53b6f5b305404660bb3d62096751331f",
        "IPY_MODEL_1a7f94f0624d45929d7a1c06d78667e0"
       ],
       "layout": "IPY_MODEL_2edcc686670c450288342175f17729ed"
      }
     },
     "398c12cb25a64a47b0a48f6a1d68d7f0": {
      "model_module": "@jupyter-widgets/controls",
      "model_module_version": "1.5.0",
      "model_name": "DescriptionStyleModel",
      "state": {
       "_model_module": "@jupyter-widgets/controls",
       "_model_module_version": "1.5.0",
       "_model_name": "DescriptionStyleModel",
       "_view_count": null,
       "_view_module": "@jupyter-widgets/base",
       "_view_module_version": "1.2.0",
       "_view_name": "StyleView",
       "description_width": ""
      }
     },
     "3bb521ce052643689b158de06b800b5b": {
      "model_module": "@jupyter-widgets/controls",
      "model_module_version": "1.5.0",
      "model_name": "DescriptionStyleModel",
      "state": {
       "_model_module": "@jupyter-widgets/controls",
       "_model_module_version": "1.5.0",
       "_model_name": "DescriptionStyleModel",
       "_view_count": null,
       "_view_module": "@jupyter-widgets/base",
       "_view_module_version": "1.2.0",
       "_view_name": "StyleView",
       "description_width": ""
      }
     },
     "3d112c223d904aef819daffa4613e068": {
      "model_module": "@jupyter-widgets/base",
      "model_module_version": "1.2.0",
      "model_name": "LayoutModel",
      "state": {
       "_model_module": "@jupyter-widgets/base",
       "_model_module_version": "1.2.0",
       "_model_name": "LayoutModel",
       "_view_count": null,
       "_view_module": "@jupyter-widgets/base",
       "_view_module_version": "1.2.0",
       "_view_name": "LayoutView",
       "align_content": null,
       "align_items": null,
       "align_self": null,
       "border": null,
       "bottom": null,
       "display": null,
       "flex": null,
       "flex_flow": null,
       "grid_area": null,
       "grid_auto_columns": null,
       "grid_auto_flow": null,
       "grid_auto_rows": null,
       "grid_column": null,
       "grid_gap": null,
       "grid_row": null,
       "grid_template_areas": null,
       "grid_template_columns": null,
       "grid_template_rows": null,
       "height": null,
       "justify_content": null,
       "justify_items": null,
       "left": null,
       "margin": null,
       "max_height": null,
       "max_width": null,
       "min_height": null,
       "min_width": null,
       "object_fit": null,
       "object_position": null,
       "order": null,
       "overflow": null,
       "overflow_x": null,
       "overflow_y": null,
       "padding": null,
       "right": null,
       "top": null,
       "visibility": null,
       "width": null
      }
     },
     "3da7a717e7ee46d29f0eb4b97a554525": {
      "model_module": "@jupyter-widgets/controls",
      "model_module_version": "1.5.0",
      "model_name": "ProgressStyleModel",
      "state": {
       "_model_module": "@jupyter-widgets/controls",
       "_model_module_version": "1.5.0",
       "_model_name": "ProgressStyleModel",
       "_view_count": null,
       "_view_module": "@jupyter-widgets/base",
       "_view_module_version": "1.2.0",
       "_view_name": "StyleView",
       "bar_color": null,
       "description_width": ""
      }
     },
     "40ee62a6400e4269985260d040c3f88d": {
      "model_module": "@jupyter-widgets/controls",
      "model_module_version": "1.5.0",
      "model_name": "DescriptionStyleModel",
      "state": {
       "_model_module": "@jupyter-widgets/controls",
       "_model_module_version": "1.5.0",
       "_model_name": "DescriptionStyleModel",
       "_view_count": null,
       "_view_module": "@jupyter-widgets/base",
       "_view_module_version": "1.2.0",
       "_view_name": "StyleView",
       "description_width": ""
      }
     },
     "42c67adfbfe94c73ad7eacf150c93f1d": {
      "model_module": "@jupyter-widgets/base",
      "model_module_version": "1.2.0",
      "model_name": "LayoutModel",
      "state": {
       "_model_module": "@jupyter-widgets/base",
       "_model_module_version": "1.2.0",
       "_model_name": "LayoutModel",
       "_view_count": null,
       "_view_module": "@jupyter-widgets/base",
       "_view_module_version": "1.2.0",
       "_view_name": "LayoutView",
       "align_content": null,
       "align_items": null,
       "align_self": null,
       "border": null,
       "bottom": null,
       "display": null,
       "flex": null,
       "flex_flow": null,
       "grid_area": null,
       "grid_auto_columns": null,
       "grid_auto_flow": null,
       "grid_auto_rows": null,
       "grid_column": null,
       "grid_gap": null,
       "grid_row": null,
       "grid_template_areas": null,
       "grid_template_columns": null,
       "grid_template_rows": null,
       "height": null,
       "justify_content": null,
       "justify_items": null,
       "left": null,
       "margin": null,
       "max_height": null,
       "max_width": null,
       "min_height": null,
       "min_width": null,
       "object_fit": null,
       "object_position": null,
       "order": null,
       "overflow": null,
       "overflow_x": null,
       "overflow_y": null,
       "padding": null,
       "right": null,
       "top": null,
       "visibility": null,
       "width": null
      }
     },
     "4314c44117714503bc6fe74d4fd9ffc4": {
      "model_module": "@jupyter-widgets/base",
      "model_module_version": "1.2.0",
      "model_name": "LayoutModel",
      "state": {
       "_model_module": "@jupyter-widgets/base",
       "_model_module_version": "1.2.0",
       "_model_name": "LayoutModel",
       "_view_count": null,
       "_view_module": "@jupyter-widgets/base",
       "_view_module_version": "1.2.0",
       "_view_name": "LayoutView",
       "align_content": null,
       "align_items": null,
       "align_self": null,
       "border": null,
       "bottom": null,
       "display": null,
       "flex": null,
       "flex_flow": null,
       "grid_area": null,
       "grid_auto_columns": null,
       "grid_auto_flow": null,
       "grid_auto_rows": null,
       "grid_column": null,
       "grid_gap": null,
       "grid_row": null,
       "grid_template_areas": null,
       "grid_template_columns": null,
       "grid_template_rows": null,
       "height": null,
       "justify_content": null,
       "justify_items": null,
       "left": null,
       "margin": null,
       "max_height": null,
       "max_width": null,
       "min_height": null,
       "min_width": null,
       "object_fit": null,
       "object_position": null,
       "order": null,
       "overflow": null,
       "overflow_x": null,
       "overflow_y": null,
       "padding": null,
       "right": null,
       "top": null,
       "visibility": null,
       "width": null
      }
     },
     "4370a86558e24b808f7ae515c4bac9c3": {
      "model_module": "@jupyter-widgets/base",
      "model_module_version": "1.2.0",
      "model_name": "LayoutModel",
      "state": {
       "_model_module": "@jupyter-widgets/base",
       "_model_module_version": "1.2.0",
       "_model_name": "LayoutModel",
       "_view_count": null,
       "_view_module": "@jupyter-widgets/base",
       "_view_module_version": "1.2.0",
       "_view_name": "LayoutView",
       "align_content": null,
       "align_items": null,
       "align_self": null,
       "border": null,
       "bottom": null,
       "display": null,
       "flex": null,
       "flex_flow": null,
       "grid_area": null,
       "grid_auto_columns": null,
       "grid_auto_flow": null,
       "grid_auto_rows": null,
       "grid_column": null,
       "grid_gap": null,
       "grid_row": null,
       "grid_template_areas": null,
       "grid_template_columns": null,
       "grid_template_rows": null,
       "height": null,
       "justify_content": null,
       "justify_items": null,
       "left": null,
       "margin": null,
       "max_height": null,
       "max_width": null,
       "min_height": null,
       "min_width": null,
       "object_fit": null,
       "object_position": null,
       "order": null,
       "overflow": null,
       "overflow_x": null,
       "overflow_y": null,
       "padding": null,
       "right": null,
       "top": null,
       "visibility": null,
       "width": null
      }
     },
     "448345aae4fb4365a71e71a411d8afbf": {
      "model_module": "@jupyter-widgets/controls",
      "model_module_version": "1.5.0",
      "model_name": "HBoxModel",
      "state": {
       "_dom_classes": [],
       "_model_module": "@jupyter-widgets/controls",
       "_model_module_version": "1.5.0",
       "_model_name": "HBoxModel",
       "_view_count": null,
       "_view_module": "@jupyter-widgets/controls",
       "_view_module_version": "1.5.0",
       "_view_name": "HBoxView",
       "box_style": "",
       "children": [
        "IPY_MODEL_09170c5f5f9b43509a54e2ffbef84ae5",
        "IPY_MODEL_92d6628a6b4f4a48bddfb2ae6db8ccf2",
        "IPY_MODEL_789566dabbe942e380d261af5ee2ff13"
       ],
       "layout": "IPY_MODEL_df377fe7809d45f1af4b47cc64b61445"
      }
     },
     "4862503a25ab470ebcb39802641e8739": {
      "model_module": "@jupyter-widgets/controls",
      "model_module_version": "1.5.0",
      "model_name": "DescriptionStyleModel",
      "state": {
       "_model_module": "@jupyter-widgets/controls",
       "_model_module_version": "1.5.0",
       "_model_name": "DescriptionStyleModel",
       "_view_count": null,
       "_view_module": "@jupyter-widgets/base",
       "_view_module_version": "1.2.0",
       "_view_name": "StyleView",
       "description_width": ""
      }
     },
     "4be28c43fd434e4aa4dfe5ff3dd508df": {
      "model_module": "@jupyter-widgets/base",
      "model_module_version": "1.2.0",
      "model_name": "LayoutModel",
      "state": {
       "_model_module": "@jupyter-widgets/base",
       "_model_module_version": "1.2.0",
       "_model_name": "LayoutModel",
       "_view_count": null,
       "_view_module": "@jupyter-widgets/base",
       "_view_module_version": "1.2.0",
       "_view_name": "LayoutView",
       "align_content": null,
       "align_items": null,
       "align_self": null,
       "border": null,
       "bottom": null,
       "display": null,
       "flex": null,
       "flex_flow": null,
       "grid_area": null,
       "grid_auto_columns": null,
       "grid_auto_flow": null,
       "grid_auto_rows": null,
       "grid_column": null,
       "grid_gap": null,
       "grid_row": null,
       "grid_template_areas": null,
       "grid_template_columns": null,
       "grid_template_rows": null,
       "height": null,
       "justify_content": null,
       "justify_items": null,
       "left": null,
       "margin": null,
       "max_height": null,
       "max_width": null,
       "min_height": null,
       "min_width": null,
       "object_fit": null,
       "object_position": null,
       "order": null,
       "overflow": null,
       "overflow_x": null,
       "overflow_y": null,
       "padding": null,
       "right": null,
       "top": null,
       "visibility": null,
       "width": null
      }
     },
     "4c4148d6b76e46c1a497e100bf7cb60b": {
      "model_module": "@jupyter-widgets/controls",
      "model_module_version": "1.5.0",
      "model_name": "HTMLModel",
      "state": {
       "_dom_classes": [],
       "_model_module": "@jupyter-widgets/controls",
       "_model_module_version": "1.5.0",
       "_model_name": "HTMLModel",
       "_view_count": null,
       "_view_module": "@jupyter-widgets/controls",
       "_view_module_version": "1.5.0",
       "_view_name": "HTMLView",
       "description": "",
       "description_tooltip": null,
       "layout": "IPY_MODEL_62f8b065a1894313b14e4e1caeed1b92",
       "placeholder": "​",
       "style": "IPY_MODEL_2441c8897c4e4c5d9be80d172dde09da",
       "value": " 5/5 [03:22&lt;00:00, 38.21s/it]"
      }
     },
     "50c8fb173dec4377bbe4bd9204a4877e": {
      "model_module": "@jupyter-widgets/base",
      "model_module_version": "1.2.0",
      "model_name": "LayoutModel",
      "state": {
       "_model_module": "@jupyter-widgets/base",
       "_model_module_version": "1.2.0",
       "_model_name": "LayoutModel",
       "_view_count": null,
       "_view_module": "@jupyter-widgets/base",
       "_view_module_version": "1.2.0",
       "_view_name": "LayoutView",
       "align_content": null,
       "align_items": null,
       "align_self": null,
       "border": null,
       "bottom": null,
       "display": null,
       "flex": null,
       "flex_flow": null,
       "grid_area": null,
       "grid_auto_columns": null,
       "grid_auto_flow": null,
       "grid_auto_rows": null,
       "grid_column": null,
       "grid_gap": null,
       "grid_row": null,
       "grid_template_areas": null,
       "grid_template_columns": null,
       "grid_template_rows": null,
       "height": null,
       "justify_content": null,
       "justify_items": null,
       "left": null,
       "margin": null,
       "max_height": null,
       "max_width": null,
       "min_height": null,
       "min_width": null,
       "object_fit": null,
       "object_position": null,
       "order": null,
       "overflow": null,
       "overflow_x": null,
       "overflow_y": null,
       "padding": null,
       "right": null,
       "top": null,
       "visibility": null,
       "width": null
      }
     },
     "520c0987d23746f2bc631c66dd84abbb": {
      "model_module": "@jupyter-widgets/base",
      "model_module_version": "1.2.0",
      "model_name": "LayoutModel",
      "state": {
       "_model_module": "@jupyter-widgets/base",
       "_model_module_version": "1.2.0",
       "_model_name": "LayoutModel",
       "_view_count": null,
       "_view_module": "@jupyter-widgets/base",
       "_view_module_version": "1.2.0",
       "_view_name": "LayoutView",
       "align_content": null,
       "align_items": null,
       "align_self": null,
       "border": null,
       "bottom": null,
       "display": null,
       "flex": null,
       "flex_flow": null,
       "grid_area": null,
       "grid_auto_columns": null,
       "grid_auto_flow": null,
       "grid_auto_rows": null,
       "grid_column": null,
       "grid_gap": null,
       "grid_row": null,
       "grid_template_areas": null,
       "grid_template_columns": null,
       "grid_template_rows": null,
       "height": null,
       "justify_content": null,
       "justify_items": null,
       "left": null,
       "margin": null,
       "max_height": null,
       "max_width": null,
       "min_height": null,
       "min_width": null,
       "object_fit": null,
       "object_position": null,
       "order": null,
       "overflow": null,
       "overflow_x": null,
       "overflow_y": null,
       "padding": null,
       "right": null,
       "top": null,
       "visibility": null,
       "width": null
      }
     },
     "53b6f5b305404660bb3d62096751331f": {
      "model_module": "@jupyter-widgets/controls",
      "model_module_version": "1.5.0",
      "model_name": "FloatProgressModel",
      "state": {
       "_dom_classes": [],
       "_model_module": "@jupyter-widgets/controls",
       "_model_module_version": "1.5.0",
       "_model_name": "FloatProgressModel",
       "_view_count": null,
       "_view_module": "@jupyter-widgets/controls",
       "_view_module_version": "1.5.0",
       "_view_name": "ProgressView",
       "bar_style": "success",
       "description": "",
       "description_tooltip": null,
       "layout": "IPY_MODEL_82fc1dd51f5f4b79a2d961854537588c",
       "max": 20,
       "min": 0,
       "orientation": "horizontal",
       "style": "IPY_MODEL_8fe590aa826b4c5a816ca4d220d6e895",
       "value": 20
      }
     },
     "5da046c8865a47348cf8f42736a0f980": {
      "model_module": "@jupyter-widgets/controls",
      "model_module_version": "1.5.0",
      "model_name": "HBoxModel",
      "state": {
       "_dom_classes": [],
       "_model_module": "@jupyter-widgets/controls",
       "_model_module_version": "1.5.0",
       "_model_name": "HBoxModel",
       "_view_count": null,
       "_view_module": "@jupyter-widgets/controls",
       "_view_module_version": "1.5.0",
       "_view_name": "HBoxView",
       "box_style": "",
       "children": [
        "IPY_MODEL_662a62afa3bf4293bbb951b250c47b3f",
        "IPY_MODEL_3931d614f217450e9fddaf28bddd1283",
        "IPY_MODEL_a550af0b07fe407daa78d644308d98b0"
       ],
       "layout": "IPY_MODEL_4be28c43fd434e4aa4dfe5ff3dd508df"
      }
     },
     "5e48ce85b141409697666529031e879f": {
      "model_module": "@jupyter-widgets/controls",
      "model_module_version": "1.5.0",
      "model_name": "DescriptionStyleModel",
      "state": {
       "_model_module": "@jupyter-widgets/controls",
       "_model_module_version": "1.5.0",
       "_model_name": "DescriptionStyleModel",
       "_view_count": null,
       "_view_module": "@jupyter-widgets/base",
       "_view_module_version": "1.2.0",
       "_view_name": "StyleView",
       "description_width": ""
      }
     },
     "613454f1bee14059a4bae4022f5ca490": {
      "model_module": "@jupyter-widgets/controls",
      "model_module_version": "1.5.0",
      "model_name": "HBoxModel",
      "state": {
       "_dom_classes": [],
       "_model_module": "@jupyter-widgets/controls",
       "_model_module_version": "1.5.0",
       "_model_name": "HBoxModel",
       "_view_count": null,
       "_view_module": "@jupyter-widgets/controls",
       "_view_module_version": "1.5.0",
       "_view_name": "HBoxView",
       "box_style": "",
       "children": [
        "IPY_MODEL_21df01fbdfa945158c0034d73caae316",
        "IPY_MODEL_1529af755978437683d90d42161f2d3f",
        "IPY_MODEL_ef563ad78d8a401996461526d7332f91"
       ],
       "layout": "IPY_MODEL_4314c44117714503bc6fe74d4fd9ffc4"
      }
     },
     "6173ed84753e4fc2abe6c875c0bcd165": {
      "model_module": "@jupyter-widgets/base",
      "model_module_version": "1.2.0",
      "model_name": "LayoutModel",
      "state": {
       "_model_module": "@jupyter-widgets/base",
       "_model_module_version": "1.2.0",
       "_model_name": "LayoutModel",
       "_view_count": null,
       "_view_module": "@jupyter-widgets/base",
       "_view_module_version": "1.2.0",
       "_view_name": "LayoutView",
       "align_content": null,
       "align_items": null,
       "align_self": null,
       "border": null,
       "bottom": null,
       "display": null,
       "flex": null,
       "flex_flow": null,
       "grid_area": null,
       "grid_auto_columns": null,
       "grid_auto_flow": null,
       "grid_auto_rows": null,
       "grid_column": null,
       "grid_gap": null,
       "grid_row": null,
       "grid_template_areas": null,
       "grid_template_columns": null,
       "grid_template_rows": null,
       "height": null,
       "justify_content": null,
       "justify_items": null,
       "left": null,
       "margin": null,
       "max_height": null,
       "max_width": null,
       "min_height": null,
       "min_width": null,
       "object_fit": null,
       "object_position": null,
       "order": null,
       "overflow": null,
       "overflow_x": null,
       "overflow_y": null,
       "padding": null,
       "right": null,
       "top": null,
       "visibility": null,
       "width": null
      }
     },
     "62f8b065a1894313b14e4e1caeed1b92": {
      "model_module": "@jupyter-widgets/base",
      "model_module_version": "1.2.0",
      "model_name": "LayoutModel",
      "state": {
       "_model_module": "@jupyter-widgets/base",
       "_model_module_version": "1.2.0",
       "_model_name": "LayoutModel",
       "_view_count": null,
       "_view_module": "@jupyter-widgets/base",
       "_view_module_version": "1.2.0",
       "_view_name": "LayoutView",
       "align_content": null,
       "align_items": null,
       "align_self": null,
       "border": null,
       "bottom": null,
       "display": null,
       "flex": null,
       "flex_flow": null,
       "grid_area": null,
       "grid_auto_columns": null,
       "grid_auto_flow": null,
       "grid_auto_rows": null,
       "grid_column": null,
       "grid_gap": null,
       "grid_row": null,
       "grid_template_areas": null,
       "grid_template_columns": null,
       "grid_template_rows": null,
       "height": null,
       "justify_content": null,
       "justify_items": null,
       "left": null,
       "margin": null,
       "max_height": null,
       "max_width": null,
       "min_height": null,
       "min_width": null,
       "object_fit": null,
       "object_position": null,
       "order": null,
       "overflow": null,
       "overflow_x": null,
       "overflow_y": null,
       "padding": null,
       "right": null,
       "top": null,
       "visibility": null,
       "width": null
      }
     },
     "65b8c1aabb4244ecb771046b081adbed": {
      "model_module": "@jupyter-widgets/base",
      "model_module_version": "1.2.0",
      "model_name": "LayoutModel",
      "state": {
       "_model_module": "@jupyter-widgets/base",
       "_model_module_version": "1.2.0",
       "_model_name": "LayoutModel",
       "_view_count": null,
       "_view_module": "@jupyter-widgets/base",
       "_view_module_version": "1.2.0",
       "_view_name": "LayoutView",
       "align_content": null,
       "align_items": null,
       "align_self": null,
       "border": null,
       "bottom": null,
       "display": null,
       "flex": null,
       "flex_flow": null,
       "grid_area": null,
       "grid_auto_columns": null,
       "grid_auto_flow": null,
       "grid_auto_rows": null,
       "grid_column": null,
       "grid_gap": null,
       "grid_row": null,
       "grid_template_areas": null,
       "grid_template_columns": null,
       "grid_template_rows": null,
       "height": null,
       "justify_content": null,
       "justify_items": null,
       "left": null,
       "margin": null,
       "max_height": null,
       "max_width": null,
       "min_height": null,
       "min_width": null,
       "object_fit": null,
       "object_position": null,
       "order": null,
       "overflow": null,
       "overflow_x": null,
       "overflow_y": null,
       "padding": null,
       "right": null,
       "top": null,
       "visibility": null,
       "width": null
      }
     },
     "662a62afa3bf4293bbb951b250c47b3f": {
      "model_module": "@jupyter-widgets/controls",
      "model_module_version": "1.5.0",
      "model_name": "HTMLModel",
      "state": {
       "_dom_classes": [],
       "_model_module": "@jupyter-widgets/controls",
       "_model_module_version": "1.5.0",
       "_model_name": "HTMLModel",
       "_view_count": null,
       "_view_module": "@jupyter-widgets/controls",
       "_view_module_version": "1.5.0",
       "_view_name": "HTMLView",
       "description": "",
       "description_tooltip": null,
       "layout": "IPY_MODEL_d52fba2bad884f518e917821af85ab9d",
       "placeholder": "​",
       "style": "IPY_MODEL_e755c1657da341638a2b6a3665da477a",
       "value": "100%"
      }
     },
     "671b0a21ae6f4e899be2374d0c103b4d": {
      "model_module": "@jupyter-widgets/controls",
      "model_module_version": "1.5.0",
      "model_name": "HBoxModel",
      "state": {
       "_dom_classes": [],
       "_model_module": "@jupyter-widgets/controls",
       "_model_module_version": "1.5.0",
       "_model_name": "HBoxModel",
       "_view_count": null,
       "_view_module": "@jupyter-widgets/controls",
       "_view_module_version": "1.5.0",
       "_view_name": "HBoxView",
       "box_style": "",
       "children": [
        "IPY_MODEL_37d37a63d51a4bf49dab97ea81ed656f",
        "IPY_MODEL_b0989e8f289f466690fbfd4a10b4e431",
        "IPY_MODEL_c6b3f1c534d443b8ba5dfc94f378567a"
       ],
       "layout": "IPY_MODEL_6173ed84753e4fc2abe6c875c0bcd165"
      }
     },
     "680dce0d873a4429a51531402cd16f3d": {
      "model_module": "@jupyter-widgets/controls",
      "model_module_version": "1.5.0",
      "model_name": "DescriptionStyleModel",
      "state": {
       "_model_module": "@jupyter-widgets/controls",
       "_model_module_version": "1.5.0",
       "_model_name": "DescriptionStyleModel",
       "_view_count": null,
       "_view_module": "@jupyter-widgets/base",
       "_view_module_version": "1.2.0",
       "_view_name": "StyleView",
       "description_width": ""
      }
     },
     "6b30de9e48084ca19c104eb2d94bd7b3": {
      "model_module": "@jupyter-widgets/base",
      "model_module_version": "1.2.0",
      "model_name": "LayoutModel",
      "state": {
       "_model_module": "@jupyter-widgets/base",
       "_model_module_version": "1.2.0",
       "_model_name": "LayoutModel",
       "_view_count": null,
       "_view_module": "@jupyter-widgets/base",
       "_view_module_version": "1.2.0",
       "_view_name": "LayoutView",
       "align_content": null,
       "align_items": null,
       "align_self": null,
       "border": null,
       "bottom": null,
       "display": null,
       "flex": null,
       "flex_flow": null,
       "grid_area": null,
       "grid_auto_columns": null,
       "grid_auto_flow": null,
       "grid_auto_rows": null,
       "grid_column": null,
       "grid_gap": null,
       "grid_row": null,
       "grid_template_areas": null,
       "grid_template_columns": null,
       "grid_template_rows": null,
       "height": null,
       "justify_content": null,
       "justify_items": null,
       "left": null,
       "margin": null,
       "max_height": null,
       "max_width": null,
       "min_height": null,
       "min_width": null,
       "object_fit": null,
       "object_position": null,
       "order": null,
       "overflow": null,
       "overflow_x": null,
       "overflow_y": null,
       "padding": null,
       "right": null,
       "top": null,
       "visibility": null,
       "width": null
      }
     },
     "6eda82af5b354482a3d7cce86487dbe3": {
      "model_module": "@jupyter-widgets/controls",
      "model_module_version": "1.5.0",
      "model_name": "DescriptionStyleModel",
      "state": {
       "_model_module": "@jupyter-widgets/controls",
       "_model_module_version": "1.5.0",
       "_model_name": "DescriptionStyleModel",
       "_view_count": null,
       "_view_module": "@jupyter-widgets/base",
       "_view_module_version": "1.2.0",
       "_view_name": "StyleView",
       "description_width": ""
      }
     },
     "6f4e89b068fc4b26a24a43741fdef3c9": {
      "model_module": "@jupyter-widgets/base",
      "model_module_version": "1.2.0",
      "model_name": "LayoutModel",
      "state": {
       "_model_module": "@jupyter-widgets/base",
       "_model_module_version": "1.2.0",
       "_model_name": "LayoutModel",
       "_view_count": null,
       "_view_module": "@jupyter-widgets/base",
       "_view_module_version": "1.2.0",
       "_view_name": "LayoutView",
       "align_content": null,
       "align_items": null,
       "align_self": null,
       "border": null,
       "bottom": null,
       "display": null,
       "flex": null,
       "flex_flow": null,
       "grid_area": null,
       "grid_auto_columns": null,
       "grid_auto_flow": null,
       "grid_auto_rows": null,
       "grid_column": null,
       "grid_gap": null,
       "grid_row": null,
       "grid_template_areas": null,
       "grid_template_columns": null,
       "grid_template_rows": null,
       "height": null,
       "justify_content": null,
       "justify_items": null,
       "left": null,
       "margin": null,
       "max_height": null,
       "max_width": null,
       "min_height": null,
       "min_width": null,
       "object_fit": null,
       "object_position": null,
       "order": null,
       "overflow": null,
       "overflow_x": null,
       "overflow_y": null,
       "padding": null,
       "right": null,
       "top": null,
       "visibility": null,
       "width": null
      }
     },
     "6f560aadb5374ab0848140c266762a95": {
      "model_module": "@jupyter-widgets/base",
      "model_module_version": "1.2.0",
      "model_name": "LayoutModel",
      "state": {
       "_model_module": "@jupyter-widgets/base",
       "_model_module_version": "1.2.0",
       "_model_name": "LayoutModel",
       "_view_count": null,
       "_view_module": "@jupyter-widgets/base",
       "_view_module_version": "1.2.0",
       "_view_name": "LayoutView",
       "align_content": null,
       "align_items": null,
       "align_self": null,
       "border": null,
       "bottom": null,
       "display": null,
       "flex": null,
       "flex_flow": null,
       "grid_area": null,
       "grid_auto_columns": null,
       "grid_auto_flow": null,
       "grid_auto_rows": null,
       "grid_column": null,
       "grid_gap": null,
       "grid_row": null,
       "grid_template_areas": null,
       "grid_template_columns": null,
       "grid_template_rows": null,
       "height": null,
       "justify_content": null,
       "justify_items": null,
       "left": null,
       "margin": null,
       "max_height": null,
       "max_width": null,
       "min_height": null,
       "min_width": null,
       "object_fit": null,
       "object_position": null,
       "order": null,
       "overflow": null,
       "overflow_x": null,
       "overflow_y": null,
       "padding": null,
       "right": null,
       "top": null,
       "visibility": null,
       "width": null
      }
     },
     "6f8d58dab27a4d9f95da9cf358b23da5": {
      "model_module": "@jupyter-widgets/controls",
      "model_module_version": "1.5.0",
      "model_name": "HTMLModel",
      "state": {
       "_dom_classes": [],
       "_model_module": "@jupyter-widgets/controls",
       "_model_module_version": "1.5.0",
       "_model_name": "HTMLModel",
       "_view_count": null,
       "_view_module": "@jupyter-widgets/controls",
       "_view_module_version": "1.5.0",
       "_view_name": "HTMLView",
       "description": "",
       "description_tooltip": null,
       "layout": "IPY_MODEL_42c67adfbfe94c73ad7eacf150c93f1d",
       "placeholder": "​",
       "style": "IPY_MODEL_0bb5ebf625eb4d9095f224f71c9f3762",
       "value": " 20/20 [00:40&lt;00:00,  3.28s/it]"
      }
     },
     "789566dabbe942e380d261af5ee2ff13": {
      "model_module": "@jupyter-widgets/controls",
      "model_module_version": "1.5.0",
      "model_name": "HTMLModel",
      "state": {
       "_dom_classes": [],
       "_model_module": "@jupyter-widgets/controls",
       "_model_module_version": "1.5.0",
       "_model_name": "HTMLModel",
       "_view_count": null,
       "_view_module": "@jupyter-widgets/controls",
       "_view_module_version": "1.5.0",
       "_view_name": "HTMLView",
       "description": "",
       "description_tooltip": null,
       "layout": "IPY_MODEL_3d112c223d904aef819daffa4613e068",
       "placeholder": "​",
       "style": "IPY_MODEL_20088368f7c445cb87cdd2d38769b810",
       "value": " 20/20 [00:42&lt;00:00,  3.63s/it]"
      }
     },
     "7d67743292dc492791356ce125409a36": {
      "model_module": "@jupyter-widgets/controls",
      "model_module_version": "1.5.0",
      "model_name": "DescriptionStyleModel",
      "state": {
       "_model_module": "@jupyter-widgets/controls",
       "_model_module_version": "1.5.0",
       "_model_name": "DescriptionStyleModel",
       "_view_count": null,
       "_view_module": "@jupyter-widgets/base",
       "_view_module_version": "1.2.0",
       "_view_name": "StyleView",
       "description_width": ""
      }
     },
     "826972af0a2a4a4482835a6b588c0aaa": {
      "model_module": "@jupyter-widgets/controls",
      "model_module_version": "1.5.0",
      "model_name": "DescriptionStyleModel",
      "state": {
       "_model_module": "@jupyter-widgets/controls",
       "_model_module_version": "1.5.0",
       "_model_name": "DescriptionStyleModel",
       "_view_count": null,
       "_view_module": "@jupyter-widgets/base",
       "_view_module_version": "1.2.0",
       "_view_name": "StyleView",
       "description_width": ""
      }
     },
     "82fc1dd51f5f4b79a2d961854537588c": {
      "model_module": "@jupyter-widgets/base",
      "model_module_version": "1.2.0",
      "model_name": "LayoutModel",
      "state": {
       "_model_module": "@jupyter-widgets/base",
       "_model_module_version": "1.2.0",
       "_model_name": "LayoutModel",
       "_view_count": null,
       "_view_module": "@jupyter-widgets/base",
       "_view_module_version": "1.2.0",
       "_view_name": "LayoutView",
       "align_content": null,
       "align_items": null,
       "align_self": null,
       "border": null,
       "bottom": null,
       "display": null,
       "flex": null,
       "flex_flow": null,
       "grid_area": null,
       "grid_auto_columns": null,
       "grid_auto_flow": null,
       "grid_auto_rows": null,
       "grid_column": null,
       "grid_gap": null,
       "grid_row": null,
       "grid_template_areas": null,
       "grid_template_columns": null,
       "grid_template_rows": null,
       "height": null,
       "justify_content": null,
       "justify_items": null,
       "left": null,
       "margin": null,
       "max_height": null,
       "max_width": null,
       "min_height": null,
       "min_width": null,
       "object_fit": null,
       "object_position": null,
       "order": null,
       "overflow": null,
       "overflow_x": null,
       "overflow_y": null,
       "padding": null,
       "right": null,
       "top": null,
       "visibility": null,
       "width": null
      }
     },
     "85f41de485a44b1caa74c01bf23076e0": {
      "model_module": "@jupyter-widgets/controls",
      "model_module_version": "1.5.0",
      "model_name": "DescriptionStyleModel",
      "state": {
       "_model_module": "@jupyter-widgets/controls",
       "_model_module_version": "1.5.0",
       "_model_name": "DescriptionStyleModel",
       "_view_count": null,
       "_view_module": "@jupyter-widgets/base",
       "_view_module_version": "1.2.0",
       "_view_name": "StyleView",
       "description_width": ""
      }
     },
     "876e1aa3941e4c8d91f0648d77aa9ab6": {
      "model_module": "@jupyter-widgets/base",
      "model_module_version": "1.2.0",
      "model_name": "LayoutModel",
      "state": {
       "_model_module": "@jupyter-widgets/base",
       "_model_module_version": "1.2.0",
       "_model_name": "LayoutModel",
       "_view_count": null,
       "_view_module": "@jupyter-widgets/base",
       "_view_module_version": "1.2.0",
       "_view_name": "LayoutView",
       "align_content": null,
       "align_items": null,
       "align_self": null,
       "border": null,
       "bottom": null,
       "display": null,
       "flex": null,
       "flex_flow": null,
       "grid_area": null,
       "grid_auto_columns": null,
       "grid_auto_flow": null,
       "grid_auto_rows": null,
       "grid_column": null,
       "grid_gap": null,
       "grid_row": null,
       "grid_template_areas": null,
       "grid_template_columns": null,
       "grid_template_rows": null,
       "height": null,
       "justify_content": null,
       "justify_items": null,
       "left": null,
       "margin": null,
       "max_height": null,
       "max_width": null,
       "min_height": null,
       "min_width": null,
       "object_fit": null,
       "object_position": null,
       "order": null,
       "overflow": null,
       "overflow_x": null,
       "overflow_y": null,
       "padding": null,
       "right": null,
       "top": null,
       "visibility": null,
       "width": null
      }
     },
     "8d705262fca3462781705c35229ae9a9": {
      "model_module": "@jupyter-widgets/controls",
      "model_module_version": "1.5.0",
      "model_name": "HBoxModel",
      "state": {
       "_dom_classes": [],
       "_model_module": "@jupyter-widgets/controls",
       "_model_module_version": "1.5.0",
       "_model_name": "HBoxModel",
       "_view_count": null,
       "_view_module": "@jupyter-widgets/controls",
       "_view_module_version": "1.5.0",
       "_view_name": "HBoxView",
       "box_style": "",
       "children": [
        "IPY_MODEL_0f195877f23343f98fad2db2c8bcc754",
        "IPY_MODEL_0563af08d432408ba7e9c3de94c24b7c",
        "IPY_MODEL_b2087f2e7e9842aa9e1bbbd52748e95b"
       ],
       "layout": "IPY_MODEL_ee18c312e6dd421d92a79fc80dabab9c"
      }
     },
     "8df10a23377143ad8c44fcd44f4d6113": {
      "model_module": "@jupyter-widgets/controls",
      "model_module_version": "1.5.0",
      "model_name": "HTMLModel",
      "state": {
       "_dom_classes": [],
       "_model_module": "@jupyter-widgets/controls",
       "_model_module_version": "1.5.0",
       "_model_name": "HTMLModel",
       "_view_count": null,
       "_view_module": "@jupyter-widgets/controls",
       "_view_module_version": "1.5.0",
       "_view_name": "HTMLView",
       "description": "",
       "description_tooltip": null,
       "layout": "IPY_MODEL_f22d8684c43544229dc2df7b8269197a",
       "placeholder": "​",
       "style": "IPY_MODEL_ed5f7c393c1f4f2e86890a6a27f7ce96",
       "value": "100%"
      }
     },
     "8f739a981a6d4182843ea6bada94139d": {
      "model_module": "@jupyter-widgets/base",
      "model_module_version": "1.2.0",
      "model_name": "LayoutModel",
      "state": {
       "_model_module": "@jupyter-widgets/base",
       "_model_module_version": "1.2.0",
       "_model_name": "LayoutModel",
       "_view_count": null,
       "_view_module": "@jupyter-widgets/base",
       "_view_module_version": "1.2.0",
       "_view_name": "LayoutView",
       "align_content": null,
       "align_items": null,
       "align_self": null,
       "border": null,
       "bottom": null,
       "display": null,
       "flex": null,
       "flex_flow": null,
       "grid_area": null,
       "grid_auto_columns": null,
       "grid_auto_flow": null,
       "grid_auto_rows": null,
       "grid_column": null,
       "grid_gap": null,
       "grid_row": null,
       "grid_template_areas": null,
       "grid_template_columns": null,
       "grid_template_rows": null,
       "height": null,
       "justify_content": null,
       "justify_items": null,
       "left": null,
       "margin": null,
       "max_height": null,
       "max_width": null,
       "min_height": null,
       "min_width": null,
       "object_fit": null,
       "object_position": null,
       "order": null,
       "overflow": null,
       "overflow_x": null,
       "overflow_y": null,
       "padding": null,
       "right": null,
       "top": null,
       "visibility": null,
       "width": null
      }
     },
     "8fe590aa826b4c5a816ca4d220d6e895": {
      "model_module": "@jupyter-widgets/controls",
      "model_module_version": "1.5.0",
      "model_name": "ProgressStyleModel",
      "state": {
       "_model_module": "@jupyter-widgets/controls",
       "_model_module_version": "1.5.0",
       "_model_name": "ProgressStyleModel",
       "_view_count": null,
       "_view_module": "@jupyter-widgets/base",
       "_view_module_version": "1.2.0",
       "_view_name": "StyleView",
       "bar_color": null,
       "description_width": ""
      }
     },
     "92d6628a6b4f4a48bddfb2ae6db8ccf2": {
      "model_module": "@jupyter-widgets/controls",
      "model_module_version": "1.5.0",
      "model_name": "FloatProgressModel",
      "state": {
       "_dom_classes": [],
       "_model_module": "@jupyter-widgets/controls",
       "_model_module_version": "1.5.0",
       "_model_name": "FloatProgressModel",
       "_view_count": null,
       "_view_module": "@jupyter-widgets/controls",
       "_view_module_version": "1.5.0",
       "_view_name": "ProgressView",
       "bar_style": "success",
       "description": "",
       "description_tooltip": null,
       "layout": "IPY_MODEL_d3e0073d15204de19d9196b49d7e57a3",
       "max": 20,
       "min": 0,
       "orientation": "horizontal",
       "style": "IPY_MODEL_e6f5c1ad94404457b06967f08d4f6c59",
       "value": 20
      }
     },
     "988ecb70f7ab4ff9ad89795f8d7b1f3f": {
      "model_module": "@jupyter-widgets/controls",
      "model_module_version": "1.5.0",
      "model_name": "HTMLModel",
      "state": {
       "_dom_classes": [],
       "_model_module": "@jupyter-widgets/controls",
       "_model_module_version": "1.5.0",
       "_model_name": "HTMLModel",
       "_view_count": null,
       "_view_module": "@jupyter-widgets/controls",
       "_view_module_version": "1.5.0",
       "_view_name": "HTMLView",
       "description": "",
       "description_tooltip": null,
       "layout": "IPY_MODEL_1e4b43d5acc842c09deb844d261c1a1b",
       "placeholder": "​",
       "style": "IPY_MODEL_5e48ce85b141409697666529031e879f",
       "value": "100%"
      }
     },
     "a067774f5ed2481b858f5ba6990c3177": {
      "model_module": "@jupyter-widgets/controls",
      "model_module_version": "1.5.0",
      "model_name": "FloatProgressModel",
      "state": {
       "_dom_classes": [],
       "_model_module": "@jupyter-widgets/controls",
       "_model_module_version": "1.5.0",
       "_model_name": "FloatProgressModel",
       "_view_count": null,
       "_view_module": "@jupyter-widgets/controls",
       "_view_module_version": "1.5.0",
       "_view_name": "ProgressView",
       "bar_style": "success",
       "description": "",
       "description_tooltip": null,
       "layout": "IPY_MODEL_e6277bc2bd2c4f80bc766e3699aee80d",
       "max": 20,
       "min": 0,
       "orientation": "horizontal",
       "style": "IPY_MODEL_ca1e3dc989214a71a1e9ea469b477b62",
       "value": 20
      }
     },
     "a116f134de1a4b61810941884cd4ed8a": {
      "model_module": "@jupyter-widgets/controls",
      "model_module_version": "1.5.0",
      "model_name": "DescriptionStyleModel",
      "state": {
       "_model_module": "@jupyter-widgets/controls",
       "_model_module_version": "1.5.0",
       "_model_name": "DescriptionStyleModel",
       "_view_count": null,
       "_view_module": "@jupyter-widgets/base",
       "_view_module_version": "1.2.0",
       "_view_name": "StyleView",
       "description_width": ""
      }
     },
     "a1ab31b8a1e3445fbd0ee31d4f1c19ba": {
      "model_module": "@jupyter-widgets/controls",
      "model_module_version": "1.5.0",
      "model_name": "HTMLModel",
      "state": {
       "_dom_classes": [],
       "_model_module": "@jupyter-widgets/controls",
       "_model_module_version": "1.5.0",
       "_model_name": "HTMLModel",
       "_view_count": null,
       "_view_module": "@jupyter-widgets/controls",
       "_view_module_version": "1.5.0",
       "_view_name": "HTMLView",
       "description": "",
       "description_tooltip": null,
       "layout": "IPY_MODEL_65b8c1aabb4244ecb771046b081adbed",
       "placeholder": "​",
       "style": "IPY_MODEL_826972af0a2a4a4482835a6b588c0aaa",
       "value": "100%"
      }
     },
     "a1cc1f5f8d0c4c0b9bf5cf33a5ec9e30": {
      "model_module": "@jupyter-widgets/controls",
      "model_module_version": "1.5.0",
      "model_name": "DescriptionStyleModel",
      "state": {
       "_model_module": "@jupyter-widgets/controls",
       "_model_module_version": "1.5.0",
       "_model_name": "DescriptionStyleModel",
       "_view_count": null,
       "_view_module": "@jupyter-widgets/base",
       "_view_module_version": "1.2.0",
       "_view_name": "StyleView",
       "description_width": ""
      }
     },
     "a25842988bb9467d973ea791b0614a5e": {
      "model_module": "@jupyter-widgets/base",
      "model_module_version": "1.2.0",
      "model_name": "LayoutModel",
      "state": {
       "_model_module": "@jupyter-widgets/base",
       "_model_module_version": "1.2.0",
       "_model_name": "LayoutModel",
       "_view_count": null,
       "_view_module": "@jupyter-widgets/base",
       "_view_module_version": "1.2.0",
       "_view_name": "LayoutView",
       "align_content": null,
       "align_items": null,
       "align_self": null,
       "border": null,
       "bottom": null,
       "display": null,
       "flex": null,
       "flex_flow": null,
       "grid_area": null,
       "grid_auto_columns": null,
       "grid_auto_flow": null,
       "grid_auto_rows": null,
       "grid_column": null,
       "grid_gap": null,
       "grid_row": null,
       "grid_template_areas": null,
       "grid_template_columns": null,
       "grid_template_rows": null,
       "height": null,
       "justify_content": null,
       "justify_items": null,
       "left": null,
       "margin": null,
       "max_height": null,
       "max_width": null,
       "min_height": null,
       "min_width": null,
       "object_fit": null,
       "object_position": null,
       "order": null,
       "overflow": null,
       "overflow_x": null,
       "overflow_y": null,
       "padding": null,
       "right": null,
       "top": null,
       "visibility": null,
       "width": null
      }
     },
     "a2eb2b488c1549d49052853c569a383b": {
      "model_module": "@jupyter-widgets/base",
      "model_module_version": "1.2.0",
      "model_name": "LayoutModel",
      "state": {
       "_model_module": "@jupyter-widgets/base",
       "_model_module_version": "1.2.0",
       "_model_name": "LayoutModel",
       "_view_count": null,
       "_view_module": "@jupyter-widgets/base",
       "_view_module_version": "1.2.0",
       "_view_name": "LayoutView",
       "align_content": null,
       "align_items": null,
       "align_self": null,
       "border": null,
       "bottom": null,
       "display": null,
       "flex": null,
       "flex_flow": null,
       "grid_area": null,
       "grid_auto_columns": null,
       "grid_auto_flow": null,
       "grid_auto_rows": null,
       "grid_column": null,
       "grid_gap": null,
       "grid_row": null,
       "grid_template_areas": null,
       "grid_template_columns": null,
       "grid_template_rows": null,
       "height": null,
       "justify_content": null,
       "justify_items": null,
       "left": null,
       "margin": null,
       "max_height": null,
       "max_width": null,
       "min_height": null,
       "min_width": null,
       "object_fit": null,
       "object_position": null,
       "order": null,
       "overflow": null,
       "overflow_x": null,
       "overflow_y": null,
       "padding": null,
       "right": null,
       "top": null,
       "visibility": null,
       "width": null
      }
     },
     "a550af0b07fe407daa78d644308d98b0": {
      "model_module": "@jupyter-widgets/controls",
      "model_module_version": "1.5.0",
      "model_name": "HTMLModel",
      "state": {
       "_dom_classes": [],
       "_model_module": "@jupyter-widgets/controls",
       "_model_module_version": "1.5.0",
       "_model_name": "HTMLModel",
       "_view_count": null,
       "_view_module": "@jupyter-widgets/controls",
       "_view_module_version": "1.5.0",
       "_view_name": "HTMLView",
       "description": "",
       "description_tooltip": null,
       "layout": "IPY_MODEL_ff6078f920a64a4abfe0258c71033ea5",
       "placeholder": "​",
       "style": "IPY_MODEL_6eda82af5b354482a3d7cce86487dbe3",
       "value": " 20/20 [00:46&lt;00:00,  3.85s/it]"
      }
     },
     "a6f4386aa134400d983f39c38603c72d": {
      "model_module": "@jupyter-widgets/controls",
      "model_module_version": "1.5.0",
      "model_name": "ProgressStyleModel",
      "state": {
       "_model_module": "@jupyter-widgets/controls",
       "_model_module_version": "1.5.0",
       "_model_name": "ProgressStyleModel",
       "_view_count": null,
       "_view_module": "@jupyter-widgets/base",
       "_view_module_version": "1.2.0",
       "_view_name": "StyleView",
       "bar_color": null,
       "description_width": ""
      }
     },
     "aae15cd0b6744e64b44d9d6e19d592eb": {
      "model_module": "@jupyter-widgets/base",
      "model_module_version": "1.2.0",
      "model_name": "LayoutModel",
      "state": {
       "_model_module": "@jupyter-widgets/base",
       "_model_module_version": "1.2.0",
       "_model_name": "LayoutModel",
       "_view_count": null,
       "_view_module": "@jupyter-widgets/base",
       "_view_module_version": "1.2.0",
       "_view_name": "LayoutView",
       "align_content": null,
       "align_items": null,
       "align_self": null,
       "border": null,
       "bottom": null,
       "display": null,
       "flex": null,
       "flex_flow": null,
       "grid_area": null,
       "grid_auto_columns": null,
       "grid_auto_flow": null,
       "grid_auto_rows": null,
       "grid_column": null,
       "grid_gap": null,
       "grid_row": null,
       "grid_template_areas": null,
       "grid_template_columns": null,
       "grid_template_rows": null,
       "height": null,
       "justify_content": null,
       "justify_items": null,
       "left": null,
       "margin": null,
       "max_height": null,
       "max_width": null,
       "min_height": null,
       "min_width": null,
       "object_fit": null,
       "object_position": null,
       "order": null,
       "overflow": null,
       "overflow_x": null,
       "overflow_y": null,
       "padding": null,
       "right": null,
       "top": null,
       "visibility": null,
       "width": null
      }
     },
     "aced1b5c87d74ce1a4a62d808da740bb": {
      "model_module": "@jupyter-widgets/base",
      "model_module_version": "1.2.0",
      "model_name": "LayoutModel",
      "state": {
       "_model_module": "@jupyter-widgets/base",
       "_model_module_version": "1.2.0",
       "_model_name": "LayoutModel",
       "_view_count": null,
       "_view_module": "@jupyter-widgets/base",
       "_view_module_version": "1.2.0",
       "_view_name": "LayoutView",
       "align_content": null,
       "align_items": null,
       "align_self": null,
       "border": null,
       "bottom": null,
       "display": null,
       "flex": null,
       "flex_flow": null,
       "grid_area": null,
       "grid_auto_columns": null,
       "grid_auto_flow": null,
       "grid_auto_rows": null,
       "grid_column": null,
       "grid_gap": null,
       "grid_row": null,
       "grid_template_areas": null,
       "grid_template_columns": null,
       "grid_template_rows": null,
       "height": null,
       "justify_content": null,
       "justify_items": null,
       "left": null,
       "margin": null,
       "max_height": null,
       "max_width": null,
       "min_height": null,
       "min_width": null,
       "object_fit": null,
       "object_position": null,
       "order": null,
       "overflow": null,
       "overflow_x": null,
       "overflow_y": null,
       "padding": null,
       "right": null,
       "top": null,
       "visibility": null,
       "width": null
      }
     },
     "af388741e4f74c6c8d63013a40c4567c": {
      "model_module": "@jupyter-widgets/base",
      "model_module_version": "1.2.0",
      "model_name": "LayoutModel",
      "state": {
       "_model_module": "@jupyter-widgets/base",
       "_model_module_version": "1.2.0",
       "_model_name": "LayoutModel",
       "_view_count": null,
       "_view_module": "@jupyter-widgets/base",
       "_view_module_version": "1.2.0",
       "_view_name": "LayoutView",
       "align_content": null,
       "align_items": null,
       "align_self": null,
       "border": null,
       "bottom": null,
       "display": null,
       "flex": null,
       "flex_flow": null,
       "grid_area": null,
       "grid_auto_columns": null,
       "grid_auto_flow": null,
       "grid_auto_rows": null,
       "grid_column": null,
       "grid_gap": null,
       "grid_row": null,
       "grid_template_areas": null,
       "grid_template_columns": null,
       "grid_template_rows": null,
       "height": null,
       "justify_content": null,
       "justify_items": null,
       "left": null,
       "margin": null,
       "max_height": null,
       "max_width": null,
       "min_height": null,
       "min_width": null,
       "object_fit": null,
       "object_position": null,
       "order": null,
       "overflow": null,
       "overflow_x": null,
       "overflow_y": null,
       "padding": null,
       "right": null,
       "top": null,
       "visibility": null,
       "width": null
      }
     },
     "b0989e8f289f466690fbfd4a10b4e431": {
      "model_module": "@jupyter-widgets/controls",
      "model_module_version": "1.5.0",
      "model_name": "FloatProgressModel",
      "state": {
       "_dom_classes": [],
       "_model_module": "@jupyter-widgets/controls",
       "_model_module_version": "1.5.0",
       "_model_name": "FloatProgressModel",
       "_view_count": null,
       "_view_module": "@jupyter-widgets/controls",
       "_view_module_version": "1.5.0",
       "_view_name": "ProgressView",
       "bar_style": "success",
       "description": "",
       "description_tooltip": null,
       "layout": "IPY_MODEL_6b30de9e48084ca19c104eb2d94bd7b3",
       "max": 20,
       "min": 0,
       "orientation": "horizontal",
       "style": "IPY_MODEL_3da7a717e7ee46d29f0eb4b97a554525",
       "value": 20
      }
     },
     "b2087f2e7e9842aa9e1bbbd52748e95b": {
      "model_module": "@jupyter-widgets/controls",
      "model_module_version": "1.5.0",
      "model_name": "HTMLModel",
      "state": {
       "_dom_classes": [],
       "_model_module": "@jupyter-widgets/controls",
       "_model_module_version": "1.5.0",
       "_model_name": "HTMLModel",
       "_view_count": null,
       "_view_module": "@jupyter-widgets/controls",
       "_view_module_version": "1.5.0",
       "_view_name": "HTMLView",
       "description": "",
       "description_tooltip": null,
       "layout": "IPY_MODEL_876e1aa3941e4c8d91f0648d77aa9ab6",
       "placeholder": "​",
       "style": "IPY_MODEL_4862503a25ab470ebcb39802641e8739",
       "value": " 20/20 [00:49&lt;00:00,  4.12s/it]"
      }
     },
     "b48305260a0340f2bdc8831413603206": {
      "model_module": "@jupyter-widgets/base",
      "model_module_version": "1.2.0",
      "model_name": "LayoutModel",
      "state": {
       "_model_module": "@jupyter-widgets/base",
       "_model_module_version": "1.2.0",
       "_model_name": "LayoutModel",
       "_view_count": null,
       "_view_module": "@jupyter-widgets/base",
       "_view_module_version": "1.2.0",
       "_view_name": "LayoutView",
       "align_content": null,
       "align_items": null,
       "align_self": null,
       "border": null,
       "bottom": null,
       "display": null,
       "flex": null,
       "flex_flow": null,
       "grid_area": null,
       "grid_auto_columns": null,
       "grid_auto_flow": null,
       "grid_auto_rows": null,
       "grid_column": null,
       "grid_gap": null,
       "grid_row": null,
       "grid_template_areas": null,
       "grid_template_columns": null,
       "grid_template_rows": null,
       "height": null,
       "justify_content": null,
       "justify_items": null,
       "left": null,
       "margin": null,
       "max_height": null,
       "max_width": null,
       "min_height": null,
       "min_width": null,
       "object_fit": null,
       "object_position": null,
       "order": null,
       "overflow": null,
       "overflow_x": null,
       "overflow_y": null,
       "padding": null,
       "right": null,
       "top": null,
       "visibility": null,
       "width": null
      }
     },
     "b8f8caac78a545bf8e51bb72f505f91c": {
      "model_module": "@jupyter-widgets/base",
      "model_module_version": "1.2.0",
      "model_name": "LayoutModel",
      "state": {
       "_model_module": "@jupyter-widgets/base",
       "_model_module_version": "1.2.0",
       "_model_name": "LayoutModel",
       "_view_count": null,
       "_view_module": "@jupyter-widgets/base",
       "_view_module_version": "1.2.0",
       "_view_name": "LayoutView",
       "align_content": null,
       "align_items": null,
       "align_self": null,
       "border": null,
       "bottom": null,
       "display": null,
       "flex": null,
       "flex_flow": null,
       "grid_area": null,
       "grid_auto_columns": null,
       "grid_auto_flow": null,
       "grid_auto_rows": null,
       "grid_column": null,
       "grid_gap": null,
       "grid_row": null,
       "grid_template_areas": null,
       "grid_template_columns": null,
       "grid_template_rows": null,
       "height": null,
       "justify_content": null,
       "justify_items": null,
       "left": null,
       "margin": null,
       "max_height": null,
       "max_width": null,
       "min_height": null,
       "min_width": null,
       "object_fit": null,
       "object_position": null,
       "order": null,
       "overflow": null,
       "overflow_x": null,
       "overflow_y": null,
       "padding": null,
       "right": null,
       "top": null,
       "visibility": null,
       "width": null
      }
     },
     "b9315977c5bb468c924abd766e4591ec": {
      "model_module": "@jupyter-widgets/controls",
      "model_module_version": "1.5.0",
      "model_name": "DescriptionStyleModel",
      "state": {
       "_model_module": "@jupyter-widgets/controls",
       "_model_module_version": "1.5.0",
       "_model_name": "DescriptionStyleModel",
       "_view_count": null,
       "_view_module": "@jupyter-widgets/base",
       "_view_module_version": "1.2.0",
       "_view_name": "StyleView",
       "description_width": ""
      }
     },
     "bd2d11bbe48840919db34a814865e3e4": {
      "model_module": "@jupyter-widgets/controls",
      "model_module_version": "1.5.0",
      "model_name": "HBoxModel",
      "state": {
       "_dom_classes": [],
       "_model_module": "@jupyter-widgets/controls",
       "_model_module_version": "1.5.0",
       "_model_name": "HBoxModel",
       "_view_count": null,
       "_view_module": "@jupyter-widgets/controls",
       "_view_module_version": "1.5.0",
       "_view_name": "HBoxView",
       "box_style": "",
       "children": [
        "IPY_MODEL_8df10a23377143ad8c44fcd44f4d6113",
        "IPY_MODEL_dc5f4a9cc2ef424c9a83765528d5541b",
        "IPY_MODEL_d26a4c5030a548bea5585121e819600a"
       ],
       "layout": "IPY_MODEL_26d04e4c37ca49b0b842ef98803bbc61"
      }
     },
     "bd33b2b87d2e41a6b836e0a42d68a2ea": {
      "model_module": "@jupyter-widgets/controls",
      "model_module_version": "1.5.0",
      "model_name": "ProgressStyleModel",
      "state": {
       "_model_module": "@jupyter-widgets/controls",
       "_model_module_version": "1.5.0",
       "_model_name": "ProgressStyleModel",
       "_view_count": null,
       "_view_module": "@jupyter-widgets/base",
       "_view_module_version": "1.2.0",
       "_view_name": "StyleView",
       "bar_color": null,
       "description_width": ""
      }
     },
     "c1f623ff703c4b93ba028b34f6ba0b13": {
      "model_module": "@jupyter-widgets/base",
      "model_module_version": "1.2.0",
      "model_name": "LayoutModel",
      "state": {
       "_model_module": "@jupyter-widgets/base",
       "_model_module_version": "1.2.0",
       "_model_name": "LayoutModel",
       "_view_count": null,
       "_view_module": "@jupyter-widgets/base",
       "_view_module_version": "1.2.0",
       "_view_name": "LayoutView",
       "align_content": null,
       "align_items": null,
       "align_self": null,
       "border": null,
       "bottom": null,
       "display": null,
       "flex": null,
       "flex_flow": null,
       "grid_area": null,
       "grid_auto_columns": null,
       "grid_auto_flow": null,
       "grid_auto_rows": null,
       "grid_column": null,
       "grid_gap": null,
       "grid_row": null,
       "grid_template_areas": null,
       "grid_template_columns": null,
       "grid_template_rows": null,
       "height": null,
       "justify_content": null,
       "justify_items": null,
       "left": null,
       "margin": null,
       "max_height": null,
       "max_width": null,
       "min_height": null,
       "min_width": null,
       "object_fit": null,
       "object_position": null,
       "order": null,
       "overflow": null,
       "overflow_x": null,
       "overflow_y": null,
       "padding": null,
       "right": null,
       "top": null,
       "visibility": null,
       "width": null
      }
     },
     "c2262eba93c543be8c8512e906da3d2a": {
      "model_module": "@jupyter-widgets/base",
      "model_module_version": "1.2.0",
      "model_name": "LayoutModel",
      "state": {
       "_model_module": "@jupyter-widgets/base",
       "_model_module_version": "1.2.0",
       "_model_name": "LayoutModel",
       "_view_count": null,
       "_view_module": "@jupyter-widgets/base",
       "_view_module_version": "1.2.0",
       "_view_name": "LayoutView",
       "align_content": null,
       "align_items": null,
       "align_self": null,
       "border": null,
       "bottom": null,
       "display": null,
       "flex": null,
       "flex_flow": null,
       "grid_area": null,
       "grid_auto_columns": null,
       "grid_auto_flow": null,
       "grid_auto_rows": null,
       "grid_column": null,
       "grid_gap": null,
       "grid_row": null,
       "grid_template_areas": null,
       "grid_template_columns": null,
       "grid_template_rows": null,
       "height": null,
       "justify_content": null,
       "justify_items": null,
       "left": null,
       "margin": null,
       "max_height": null,
       "max_width": null,
       "min_height": null,
       "min_width": null,
       "object_fit": null,
       "object_position": null,
       "order": null,
       "overflow": null,
       "overflow_x": null,
       "overflow_y": null,
       "padding": null,
       "right": null,
       "top": null,
       "visibility": null,
       "width": null
      }
     },
     "c6b3f1c534d443b8ba5dfc94f378567a": {
      "model_module": "@jupyter-widgets/controls",
      "model_module_version": "1.5.0",
      "model_name": "HTMLModel",
      "state": {
       "_dom_classes": [],
       "_model_module": "@jupyter-widgets/controls",
       "_model_module_version": "1.5.0",
       "_model_name": "HTMLModel",
       "_view_count": null,
       "_view_module": "@jupyter-widgets/controls",
       "_view_module_version": "1.5.0",
       "_view_name": "HTMLView",
       "description": "",
       "description_tooltip": null,
       "layout": "IPY_MODEL_520c0987d23746f2bc631c66dd84abbb",
       "placeholder": "​",
       "style": "IPY_MODEL_a116f134de1a4b61810941884cd4ed8a",
       "value": " 20/20 [00:36&lt;00:00,  3.11s/it]"
      }
     },
     "c724fb1c4fbb45fda149af97f62a0dc0": {
      "model_module": "@jupyter-widgets/base",
      "model_module_version": "1.2.0",
      "model_name": "LayoutModel",
      "state": {
       "_model_module": "@jupyter-widgets/base",
       "_model_module_version": "1.2.0",
       "_model_name": "LayoutModel",
       "_view_count": null,
       "_view_module": "@jupyter-widgets/base",
       "_view_module_version": "1.2.0",
       "_view_name": "LayoutView",
       "align_content": null,
       "align_items": null,
       "align_self": null,
       "border": null,
       "bottom": null,
       "display": null,
       "flex": null,
       "flex_flow": null,
       "grid_area": null,
       "grid_auto_columns": null,
       "grid_auto_flow": null,
       "grid_auto_rows": null,
       "grid_column": null,
       "grid_gap": null,
       "grid_row": null,
       "grid_template_areas": null,
       "grid_template_columns": null,
       "grid_template_rows": null,
       "height": null,
       "justify_content": null,
       "justify_items": null,
       "left": null,
       "margin": null,
       "max_height": null,
       "max_width": null,
       "min_height": null,
       "min_width": null,
       "object_fit": null,
       "object_position": null,
       "order": null,
       "overflow": null,
       "overflow_x": null,
       "overflow_y": null,
       "padding": null,
       "right": null,
       "top": null,
       "visibility": null,
       "width": null
      }
     },
     "ca1e3dc989214a71a1e9ea469b477b62": {
      "model_module": "@jupyter-widgets/controls",
      "model_module_version": "1.5.0",
      "model_name": "ProgressStyleModel",
      "state": {
       "_model_module": "@jupyter-widgets/controls",
       "_model_module_version": "1.5.0",
       "_model_name": "ProgressStyleModel",
       "_view_count": null,
       "_view_module": "@jupyter-widgets/base",
       "_view_module_version": "1.2.0",
       "_view_name": "StyleView",
       "bar_color": null,
       "description_width": ""
      }
     },
     "cb066ef869bb45c6827dc1404778a319": {
      "model_module": "@jupyter-widgets/base",
      "model_module_version": "1.2.0",
      "model_name": "LayoutModel",
      "state": {
       "_model_module": "@jupyter-widgets/base",
       "_model_module_version": "1.2.0",
       "_model_name": "LayoutModel",
       "_view_count": null,
       "_view_module": "@jupyter-widgets/base",
       "_view_module_version": "1.2.0",
       "_view_name": "LayoutView",
       "align_content": null,
       "align_items": null,
       "align_self": null,
       "border": null,
       "bottom": null,
       "display": null,
       "flex": null,
       "flex_flow": null,
       "grid_area": null,
       "grid_auto_columns": null,
       "grid_auto_flow": null,
       "grid_auto_rows": null,
       "grid_column": null,
       "grid_gap": null,
       "grid_row": null,
       "grid_template_areas": null,
       "grid_template_columns": null,
       "grid_template_rows": null,
       "height": null,
       "justify_content": null,
       "justify_items": null,
       "left": null,
       "margin": null,
       "max_height": null,
       "max_width": null,
       "min_height": null,
       "min_width": null,
       "object_fit": null,
       "object_position": null,
       "order": null,
       "overflow": null,
       "overflow_x": null,
       "overflow_y": null,
       "padding": null,
       "right": null,
       "top": null,
       "visibility": null,
       "width": null
      }
     },
     "cd841da9806146b8a8344a48862cefca": {
      "model_module": "@jupyter-widgets/controls",
      "model_module_version": "1.5.0",
      "model_name": "HTMLModel",
      "state": {
       "_dom_classes": [],
       "_model_module": "@jupyter-widgets/controls",
       "_model_module_version": "1.5.0",
       "_model_name": "HTMLModel",
       "_view_count": null,
       "_view_module": "@jupyter-widgets/controls",
       "_view_module_version": "1.5.0",
       "_view_name": "HTMLView",
       "description": "",
       "description_tooltip": null,
       "layout": "IPY_MODEL_aae15cd0b6744e64b44d9d6e19d592eb",
       "placeholder": "​",
       "style": "IPY_MODEL_680dce0d873a4429a51531402cd16f3d",
       "value": "100%"
      }
     },
     "d10e8f42a210486cb6a7885fe24ae6da": {
      "model_module": "@jupyter-widgets/controls",
      "model_module_version": "1.5.0",
      "model_name": "HBoxModel",
      "state": {
       "_dom_classes": [],
       "_model_module": "@jupyter-widgets/controls",
       "_model_module_version": "1.5.0",
       "_model_name": "HBoxModel",
       "_view_count": null,
       "_view_module": "@jupyter-widgets/controls",
       "_view_module_version": "1.5.0",
       "_view_name": "HBoxView",
       "box_style": "",
       "children": [
        "IPY_MODEL_988ecb70f7ab4ff9ad89795f8d7b1f3f",
        "IPY_MODEL_36721f2ae828462ea16b620d8620c4ee",
        "IPY_MODEL_4c4148d6b76e46c1a497e100bf7cb60b"
       ],
       "layout": "IPY_MODEL_16ea89ee6a1b4946ab649c031a853d24"
      }
     },
     "d26a4c5030a548bea5585121e819600a": {
      "model_module": "@jupyter-widgets/controls",
      "model_module_version": "1.5.0",
      "model_name": "HTMLModel",
      "state": {
       "_dom_classes": [],
       "_model_module": "@jupyter-widgets/controls",
       "_model_module_version": "1.5.0",
       "_model_name": "HTMLModel",
       "_view_count": null,
       "_view_module": "@jupyter-widgets/controls",
       "_view_module_version": "1.5.0",
       "_view_name": "HTMLView",
       "description": "",
       "description_tooltip": null,
       "layout": "IPY_MODEL_1483a544af8042e7991705dc8921cd64",
       "placeholder": "​",
       "style": "IPY_MODEL_e67b315498e644b4b6d586963ee5bab0",
       "value": " 20/20 [00:23&lt;00:00,  1.92s/it]"
      }
     },
     "d3e0073d15204de19d9196b49d7e57a3": {
      "model_module": "@jupyter-widgets/base",
      "model_module_version": "1.2.0",
      "model_name": "LayoutModel",
      "state": {
       "_model_module": "@jupyter-widgets/base",
       "_model_module_version": "1.2.0",
       "_model_name": "LayoutModel",
       "_view_count": null,
       "_view_module": "@jupyter-widgets/base",
       "_view_module_version": "1.2.0",
       "_view_name": "LayoutView",
       "align_content": null,
       "align_items": null,
       "align_self": null,
       "border": null,
       "bottom": null,
       "display": null,
       "flex": null,
       "flex_flow": null,
       "grid_area": null,
       "grid_auto_columns": null,
       "grid_auto_flow": null,
       "grid_auto_rows": null,
       "grid_column": null,
       "grid_gap": null,
       "grid_row": null,
       "grid_template_areas": null,
       "grid_template_columns": null,
       "grid_template_rows": null,
       "height": null,
       "justify_content": null,
       "justify_items": null,
       "left": null,
       "margin": null,
       "max_height": null,
       "max_width": null,
       "min_height": null,
       "min_width": null,
       "object_fit": null,
       "object_position": null,
       "order": null,
       "overflow": null,
       "overflow_x": null,
       "overflow_y": null,
       "padding": null,
       "right": null,
       "top": null,
       "visibility": null,
       "width": null
      }
     },
     "d52fba2bad884f518e917821af85ab9d": {
      "model_module": "@jupyter-widgets/base",
      "model_module_version": "1.2.0",
      "model_name": "LayoutModel",
      "state": {
       "_model_module": "@jupyter-widgets/base",
       "_model_module_version": "1.2.0",
       "_model_name": "LayoutModel",
       "_view_count": null,
       "_view_module": "@jupyter-widgets/base",
       "_view_module_version": "1.2.0",
       "_view_name": "LayoutView",
       "align_content": null,
       "align_items": null,
       "align_self": null,
       "border": null,
       "bottom": null,
       "display": null,
       "flex": null,
       "flex_flow": null,
       "grid_area": null,
       "grid_auto_columns": null,
       "grid_auto_flow": null,
       "grid_auto_rows": null,
       "grid_column": null,
       "grid_gap": null,
       "grid_row": null,
       "grid_template_areas": null,
       "grid_template_columns": null,
       "grid_template_rows": null,
       "height": null,
       "justify_content": null,
       "justify_items": null,
       "left": null,
       "margin": null,
       "max_height": null,
       "max_width": null,
       "min_height": null,
       "min_width": null,
       "object_fit": null,
       "object_position": null,
       "order": null,
       "overflow": null,
       "overflow_x": null,
       "overflow_y": null,
       "padding": null,
       "right": null,
       "top": null,
       "visibility": null,
       "width": null
      }
     },
     "d743f5ff25fb46cc8aa1afc06a24cea7": {
      "model_module": "@jupyter-widgets/controls",
      "model_module_version": "1.5.0",
      "model_name": "HTMLModel",
      "state": {
       "_dom_classes": [],
       "_model_module": "@jupyter-widgets/controls",
       "_model_module_version": "1.5.0",
       "_model_name": "HTMLModel",
       "_view_count": null,
       "_view_module": "@jupyter-widgets/controls",
       "_view_module_version": "1.5.0",
       "_view_name": "HTMLView",
       "description": "",
       "description_tooltip": null,
       "layout": "IPY_MODEL_50c8fb173dec4377bbe4bd9204a4877e",
       "placeholder": "​",
       "style": "IPY_MODEL_40ee62a6400e4269985260d040c3f88d",
       "value": "100%"
      }
     },
     "dc5f4a9cc2ef424c9a83765528d5541b": {
      "model_module": "@jupyter-widgets/controls",
      "model_module_version": "1.5.0",
      "model_name": "FloatProgressModel",
      "state": {
       "_dom_classes": [],
       "_model_module": "@jupyter-widgets/controls",
       "_model_module_version": "1.5.0",
       "_model_name": "FloatProgressModel",
       "_view_count": null,
       "_view_module": "@jupyter-widgets/controls",
       "_view_module_version": "1.5.0",
       "_view_name": "ProgressView",
       "bar_style": "success",
       "description": "",
       "description_tooltip": null,
       "layout": "IPY_MODEL_6f560aadb5374ab0848140c266762a95",
       "max": 20,
       "min": 0,
       "orientation": "horizontal",
       "style": "IPY_MODEL_ed389fe2975c4003ad80da089905c828",
       "value": 20
      }
     },
     "df377fe7809d45f1af4b47cc64b61445": {
      "model_module": "@jupyter-widgets/base",
      "model_module_version": "1.2.0",
      "model_name": "LayoutModel",
      "state": {
       "_model_module": "@jupyter-widgets/base",
       "_model_module_version": "1.2.0",
       "_model_name": "LayoutModel",
       "_view_count": null,
       "_view_module": "@jupyter-widgets/base",
       "_view_module_version": "1.2.0",
       "_view_name": "LayoutView",
       "align_content": null,
       "align_items": null,
       "align_self": null,
       "border": null,
       "bottom": null,
       "display": null,
       "flex": null,
       "flex_flow": null,
       "grid_area": null,
       "grid_auto_columns": null,
       "grid_auto_flow": null,
       "grid_auto_rows": null,
       "grid_column": null,
       "grid_gap": null,
       "grid_row": null,
       "grid_template_areas": null,
       "grid_template_columns": null,
       "grid_template_rows": null,
       "height": null,
       "justify_content": null,
       "justify_items": null,
       "left": null,
       "margin": null,
       "max_height": null,
       "max_width": null,
       "min_height": null,
       "min_width": null,
       "object_fit": null,
       "object_position": null,
       "order": null,
       "overflow": null,
       "overflow_x": null,
       "overflow_y": null,
       "padding": null,
       "right": null,
       "top": null,
       "visibility": null,
       "width": null
      }
     },
     "df8bdc0124e5442ab15c28744c0e5af1": {
      "model_module": "@jupyter-widgets/controls",
      "model_module_version": "1.5.0",
      "model_name": "ProgressStyleModel",
      "state": {
       "_model_module": "@jupyter-widgets/controls",
       "_model_module_version": "1.5.0",
       "_model_name": "ProgressStyleModel",
       "_view_count": null,
       "_view_module": "@jupyter-widgets/base",
       "_view_module_version": "1.2.0",
       "_view_name": "StyleView",
       "bar_color": null,
       "description_width": ""
      }
     },
     "e2deecc508304c0699a0fb9f2d9ccf7a": {
      "model_module": "@jupyter-widgets/base",
      "model_module_version": "1.2.0",
      "model_name": "LayoutModel",
      "state": {
       "_model_module": "@jupyter-widgets/base",
       "_model_module_version": "1.2.0",
       "_model_name": "LayoutModel",
       "_view_count": null,
       "_view_module": "@jupyter-widgets/base",
       "_view_module_version": "1.2.0",
       "_view_name": "LayoutView",
       "align_content": null,
       "align_items": null,
       "align_self": null,
       "border": null,
       "bottom": null,
       "display": null,
       "flex": null,
       "flex_flow": null,
       "grid_area": null,
       "grid_auto_columns": null,
       "grid_auto_flow": null,
       "grid_auto_rows": null,
       "grid_column": null,
       "grid_gap": null,
       "grid_row": null,
       "grid_template_areas": null,
       "grid_template_columns": null,
       "grid_template_rows": null,
       "height": null,
       "justify_content": null,
       "justify_items": null,
       "left": null,
       "margin": null,
       "max_height": null,
       "max_width": null,
       "min_height": null,
       "min_width": null,
       "object_fit": null,
       "object_position": null,
       "order": null,
       "overflow": null,
       "overflow_x": null,
       "overflow_y": null,
       "padding": null,
       "right": null,
       "top": null,
       "visibility": null,
       "width": null
      }
     },
     "e50ceb09ab07457894570d2c7b7c25c5": {
      "model_module": "@jupyter-widgets/controls",
      "model_module_version": "1.5.0",
      "model_name": "HTMLModel",
      "state": {
       "_dom_classes": [],
       "_model_module": "@jupyter-widgets/controls",
       "_model_module_version": "1.5.0",
       "_model_name": "HTMLModel",
       "_view_count": null,
       "_view_module": "@jupyter-widgets/controls",
       "_view_module_version": "1.5.0",
       "_view_name": "HTMLView",
       "description": "",
       "description_tooltip": null,
       "layout": "IPY_MODEL_e2deecc508304c0699a0fb9f2d9ccf7a",
       "placeholder": "​",
       "style": "IPY_MODEL_7d67743292dc492791356ce125409a36",
       "value": "100%"
      }
     },
     "e6277bc2bd2c4f80bc766e3699aee80d": {
      "model_module": "@jupyter-widgets/base",
      "model_module_version": "1.2.0",
      "model_name": "LayoutModel",
      "state": {
       "_model_module": "@jupyter-widgets/base",
       "_model_module_version": "1.2.0",
       "_model_name": "LayoutModel",
       "_view_count": null,
       "_view_module": "@jupyter-widgets/base",
       "_view_module_version": "1.2.0",
       "_view_name": "LayoutView",
       "align_content": null,
       "align_items": null,
       "align_self": null,
       "border": null,
       "bottom": null,
       "display": null,
       "flex": null,
       "flex_flow": null,
       "grid_area": null,
       "grid_auto_columns": null,
       "grid_auto_flow": null,
       "grid_auto_rows": null,
       "grid_column": null,
       "grid_gap": null,
       "grid_row": null,
       "grid_template_areas": null,
       "grid_template_columns": null,
       "grid_template_rows": null,
       "height": null,
       "justify_content": null,
       "justify_items": null,
       "left": null,
       "margin": null,
       "max_height": null,
       "max_width": null,
       "min_height": null,
       "min_width": null,
       "object_fit": null,
       "object_position": null,
       "order": null,
       "overflow": null,
       "overflow_x": null,
       "overflow_y": null,
       "padding": null,
       "right": null,
       "top": null,
       "visibility": null,
       "width": null
      }
     },
     "e641b2b17b024324a5401a4b3066de4c": {
      "model_module": "@jupyter-widgets/controls",
      "model_module_version": "1.5.0",
      "model_name": "DescriptionStyleModel",
      "state": {
       "_model_module": "@jupyter-widgets/controls",
       "_model_module_version": "1.5.0",
       "_model_name": "DescriptionStyleModel",
       "_view_count": null,
       "_view_module": "@jupyter-widgets/base",
       "_view_module_version": "1.2.0",
       "_view_name": "StyleView",
       "description_width": ""
      }
     },
     "e67b315498e644b4b6d586963ee5bab0": {
      "model_module": "@jupyter-widgets/controls",
      "model_module_version": "1.5.0",
      "model_name": "DescriptionStyleModel",
      "state": {
       "_model_module": "@jupyter-widgets/controls",
       "_model_module_version": "1.5.0",
       "_model_name": "DescriptionStyleModel",
       "_view_count": null,
       "_view_module": "@jupyter-widgets/base",
       "_view_module_version": "1.2.0",
       "_view_name": "StyleView",
       "description_width": ""
      }
     },
     "e6f5c1ad94404457b06967f08d4f6c59": {
      "model_module": "@jupyter-widgets/controls",
      "model_module_version": "1.5.0",
      "model_name": "ProgressStyleModel",
      "state": {
       "_model_module": "@jupyter-widgets/controls",
       "_model_module_version": "1.5.0",
       "_model_name": "ProgressStyleModel",
       "_view_count": null,
       "_view_module": "@jupyter-widgets/base",
       "_view_module_version": "1.2.0",
       "_view_name": "StyleView",
       "bar_color": null,
       "description_width": ""
      }
     },
     "e755c1657da341638a2b6a3665da477a": {
      "model_module": "@jupyter-widgets/controls",
      "model_module_version": "1.5.0",
      "model_name": "DescriptionStyleModel",
      "state": {
       "_model_module": "@jupyter-widgets/controls",
       "_model_module_version": "1.5.0",
       "_model_name": "DescriptionStyleModel",
       "_view_count": null,
       "_view_module": "@jupyter-widgets/base",
       "_view_module_version": "1.2.0",
       "_view_name": "StyleView",
       "description_width": ""
      }
     },
     "ea27532a24cc4971b20182527cf84330": {
      "model_module": "@jupyter-widgets/base",
      "model_module_version": "1.2.0",
      "model_name": "LayoutModel",
      "state": {
       "_model_module": "@jupyter-widgets/base",
       "_model_module_version": "1.2.0",
       "_model_name": "LayoutModel",
       "_view_count": null,
       "_view_module": "@jupyter-widgets/base",
       "_view_module_version": "1.2.0",
       "_view_name": "LayoutView",
       "align_content": null,
       "align_items": null,
       "align_self": null,
       "border": null,
       "bottom": null,
       "display": null,
       "flex": null,
       "flex_flow": null,
       "grid_area": null,
       "grid_auto_columns": null,
       "grid_auto_flow": null,
       "grid_auto_rows": null,
       "grid_column": null,
       "grid_gap": null,
       "grid_row": null,
       "grid_template_areas": null,
       "grid_template_columns": null,
       "grid_template_rows": null,
       "height": null,
       "justify_content": null,
       "justify_items": null,
       "left": null,
       "margin": null,
       "max_height": null,
       "max_width": null,
       "min_height": null,
       "min_width": null,
       "object_fit": null,
       "object_position": null,
       "order": null,
       "overflow": null,
       "overflow_x": null,
       "overflow_y": null,
       "padding": null,
       "right": null,
       "top": null,
       "visibility": null,
       "width": null
      }
     },
     "ed389fe2975c4003ad80da089905c828": {
      "model_module": "@jupyter-widgets/controls",
      "model_module_version": "1.5.0",
      "model_name": "ProgressStyleModel",
      "state": {
       "_model_module": "@jupyter-widgets/controls",
       "_model_module_version": "1.5.0",
       "_model_name": "ProgressStyleModel",
       "_view_count": null,
       "_view_module": "@jupyter-widgets/base",
       "_view_module_version": "1.2.0",
       "_view_name": "StyleView",
       "bar_color": null,
       "description_width": ""
      }
     },
     "ed5f7c393c1f4f2e86890a6a27f7ce96": {
      "model_module": "@jupyter-widgets/controls",
      "model_module_version": "1.5.0",
      "model_name": "DescriptionStyleModel",
      "state": {
       "_model_module": "@jupyter-widgets/controls",
       "_model_module_version": "1.5.0",
       "_model_name": "DescriptionStyleModel",
       "_view_count": null,
       "_view_module": "@jupyter-widgets/base",
       "_view_module_version": "1.2.0",
       "_view_name": "StyleView",
       "description_width": ""
      }
     },
     "ee18c312e6dd421d92a79fc80dabab9c": {
      "model_module": "@jupyter-widgets/base",
      "model_module_version": "1.2.0",
      "model_name": "LayoutModel",
      "state": {
       "_model_module": "@jupyter-widgets/base",
       "_model_module_version": "1.2.0",
       "_model_name": "LayoutModel",
       "_view_count": null,
       "_view_module": "@jupyter-widgets/base",
       "_view_module_version": "1.2.0",
       "_view_name": "LayoutView",
       "align_content": null,
       "align_items": null,
       "align_self": null,
       "border": null,
       "bottom": null,
       "display": null,
       "flex": null,
       "flex_flow": null,
       "grid_area": null,
       "grid_auto_columns": null,
       "grid_auto_flow": null,
       "grid_auto_rows": null,
       "grid_column": null,
       "grid_gap": null,
       "grid_row": null,
       "grid_template_areas": null,
       "grid_template_columns": null,
       "grid_template_rows": null,
       "height": null,
       "justify_content": null,
       "justify_items": null,
       "left": null,
       "margin": null,
       "max_height": null,
       "max_width": null,
       "min_height": null,
       "min_width": null,
       "object_fit": null,
       "object_position": null,
       "order": null,
       "overflow": null,
       "overflow_x": null,
       "overflow_y": null,
       "padding": null,
       "right": null,
       "top": null,
       "visibility": null,
       "width": null
      }
     },
     "ee971b2512db4bdc8c054ff3a1133586": {
      "model_module": "@jupyter-widgets/controls",
      "model_module_version": "1.5.0",
      "model_name": "FloatProgressModel",
      "state": {
       "_dom_classes": [],
       "_model_module": "@jupyter-widgets/controls",
       "_model_module_version": "1.5.0",
       "_model_name": "FloatProgressModel",
       "_view_count": null,
       "_view_module": "@jupyter-widgets/controls",
       "_view_module_version": "1.5.0",
       "_view_name": "ProgressView",
       "bar_style": "success",
       "description": "",
       "description_tooltip": null,
       "layout": "IPY_MODEL_8f739a981a6d4182843ea6bada94139d",
       "max": 4,
       "min": 0,
       "orientation": "horizontal",
       "style": "IPY_MODEL_bd33b2b87d2e41a6b836e0a42d68a2ea",
       "value": 4
      }
     },
     "ef563ad78d8a401996461526d7332f91": {
      "model_module": "@jupyter-widgets/controls",
      "model_module_version": "1.5.0",
      "model_name": "HTMLModel",
      "state": {
       "_dom_classes": [],
       "_model_module": "@jupyter-widgets/controls",
       "_model_module_version": "1.5.0",
       "_model_name": "HTMLModel",
       "_view_count": null,
       "_view_module": "@jupyter-widgets/controls",
       "_view_module_version": "1.5.0",
       "_view_name": "HTMLView",
       "description": "",
       "description_tooltip": null,
       "layout": "IPY_MODEL_a2eb2b488c1549d49052853c569a383b",
       "placeholder": "​",
       "style": "IPY_MODEL_a1cc1f5f8d0c4c0b9bf5cf33a5ec9e30",
       "value": " 20/20 [00:45&lt;00:00,  3.87s/it]"
      }
     },
     "f16e0bcc9f334e98a7c4a6e3a021cede": {
      "model_module": "@jupyter-widgets/controls",
      "model_module_version": "1.5.0",
      "model_name": "HBoxModel",
      "state": {
       "_dom_classes": [],
       "_model_module": "@jupyter-widgets/controls",
       "_model_module_version": "1.5.0",
       "_model_name": "HBoxModel",
       "_view_count": null,
       "_view_module": "@jupyter-widgets/controls",
       "_view_module_version": "1.5.0",
       "_view_name": "HBoxView",
       "box_style": "",
       "children": [
        "IPY_MODEL_d743f5ff25fb46cc8aa1afc06a24cea7",
        "IPY_MODEL_ee971b2512db4bdc8c054ff3a1133586",
        "IPY_MODEL_28c0adc5ecf34386a01c34e45c15a278"
       ],
       "layout": "IPY_MODEL_cb066ef869bb45c6827dc1404778a319"
      }
     },
     "f22d8684c43544229dc2df7b8269197a": {
      "model_module": "@jupyter-widgets/base",
      "model_module_version": "1.2.0",
      "model_name": "LayoutModel",
      "state": {
       "_model_module": "@jupyter-widgets/base",
       "_model_module_version": "1.2.0",
       "_model_name": "LayoutModel",
       "_view_count": null,
       "_view_module": "@jupyter-widgets/base",
       "_view_module_version": "1.2.0",
       "_view_name": "LayoutView",
       "align_content": null,
       "align_items": null,
       "align_self": null,
       "border": null,
       "bottom": null,
       "display": null,
       "flex": null,
       "flex_flow": null,
       "grid_area": null,
       "grid_auto_columns": null,
       "grid_auto_flow": null,
       "grid_auto_rows": null,
       "grid_column": null,
       "grid_gap": null,
       "grid_row": null,
       "grid_template_areas": null,
       "grid_template_columns": null,
       "grid_template_rows": null,
       "height": null,
       "justify_content": null,
       "justify_items": null,
       "left": null,
       "margin": null,
       "max_height": null,
       "max_width": null,
       "min_height": null,
       "min_width": null,
       "object_fit": null,
       "object_position": null,
       "order": null,
       "overflow": null,
       "overflow_x": null,
       "overflow_y": null,
       "padding": null,
       "right": null,
       "top": null,
       "visibility": null,
       "width": null
      }
     },
     "f41eb228df0046c58f1000de3d8255ad": {
      "model_module": "@jupyter-widgets/controls",
      "model_module_version": "1.5.0",
      "model_name": "ProgressStyleModel",
      "state": {
       "_model_module": "@jupyter-widgets/controls",
       "_model_module_version": "1.5.0",
       "_model_name": "ProgressStyleModel",
       "_view_count": null,
       "_view_module": "@jupyter-widgets/base",
       "_view_module_version": "1.2.0",
       "_view_name": "StyleView",
       "bar_color": null,
       "description_width": ""
      }
     },
     "f7d37ee41f1144ea86ac7eabf7b503d4": {
      "model_module": "@jupyter-widgets/base",
      "model_module_version": "1.2.0",
      "model_name": "LayoutModel",
      "state": {
       "_model_module": "@jupyter-widgets/base",
       "_model_module_version": "1.2.0",
       "_model_name": "LayoutModel",
       "_view_count": null,
       "_view_module": "@jupyter-widgets/base",
       "_view_module_version": "1.2.0",
       "_view_name": "LayoutView",
       "align_content": null,
       "align_items": null,
       "align_self": null,
       "border": null,
       "bottom": null,
       "display": null,
       "flex": null,
       "flex_flow": null,
       "grid_area": null,
       "grid_auto_columns": null,
       "grid_auto_flow": null,
       "grid_auto_rows": null,
       "grid_column": null,
       "grid_gap": null,
       "grid_row": null,
       "grid_template_areas": null,
       "grid_template_columns": null,
       "grid_template_rows": null,
       "height": null,
       "justify_content": null,
       "justify_items": null,
       "left": null,
       "margin": null,
       "max_height": null,
       "max_width": null,
       "min_height": null,
       "min_width": null,
       "object_fit": null,
       "object_position": null,
       "order": null,
       "overflow": null,
       "overflow_x": null,
       "overflow_y": null,
       "padding": null,
       "right": null,
       "top": null,
       "visibility": null,
       "width": null
      }
     },
     "fb38c67a97594aa39d14f28d8df6537b": {
      "model_module": "@jupyter-widgets/controls",
      "model_module_version": "1.5.0",
      "model_name": "HBoxModel",
      "state": {
       "_dom_classes": [],
       "_model_module": "@jupyter-widgets/controls",
       "_model_module_version": "1.5.0",
       "_model_name": "HBoxModel",
       "_view_count": null,
       "_view_module": "@jupyter-widgets/controls",
       "_view_module_version": "1.5.0",
       "_view_name": "HBoxView",
       "box_style": "",
       "children": [
        "IPY_MODEL_cd841da9806146b8a8344a48862cefca",
        "IPY_MODEL_a067774f5ed2481b858f5ba6990c3177",
        "IPY_MODEL_6f8d58dab27a4d9f95da9cf358b23da5"
       ],
       "layout": "IPY_MODEL_ea27532a24cc4971b20182527cf84330"
      }
     },
     "fce3b6788af24c32bf1b017e47d223fa": {
      "model_module": "@jupyter-widgets/controls",
      "model_module_version": "1.5.0",
      "model_name": "DescriptionStyleModel",
      "state": {
       "_model_module": "@jupyter-widgets/controls",
       "_model_module_version": "1.5.0",
       "_model_name": "DescriptionStyleModel",
       "_view_count": null,
       "_view_module": "@jupyter-widgets/base",
       "_view_module_version": "1.2.0",
       "_view_name": "StyleView",
       "description_width": ""
      }
     },
     "fd6e5938320e4594b92158abdde7b558": {
      "model_module": "@jupyter-widgets/controls",
      "model_module_version": "1.5.0",
      "model_name": "HTMLModel",
      "state": {
       "_dom_classes": [],
       "_model_module": "@jupyter-widgets/controls",
       "_model_module_version": "1.5.0",
       "_model_name": "HTMLModel",
       "_view_count": null,
       "_view_module": "@jupyter-widgets/controls",
       "_view_module_version": "1.5.0",
       "_view_name": "HTMLView",
       "description": "",
       "description_tooltip": null,
       "layout": "IPY_MODEL_2944e85d1cd7452ba51d421d36f47032",
       "placeholder": "​",
       "style": "IPY_MODEL_0789b53368074d63b86bfb80c341911d",
       "value": " 20/20 [00:41&lt;00:00,  3.61s/it]"
      }
     },
     "ff6078f920a64a4abfe0258c71033ea5": {
      "model_module": "@jupyter-widgets/base",
      "model_module_version": "1.2.0",
      "model_name": "LayoutModel",
      "state": {
       "_model_module": "@jupyter-widgets/base",
       "_model_module_version": "1.2.0",
       "_model_name": "LayoutModel",
       "_view_count": null,
       "_view_module": "@jupyter-widgets/base",
       "_view_module_version": "1.2.0",
       "_view_name": "LayoutView",
       "align_content": null,
       "align_items": null,
       "align_self": null,
       "border": null,
       "bottom": null,
       "display": null,
       "flex": null,
       "flex_flow": null,
       "grid_area": null,
       "grid_auto_columns": null,
       "grid_auto_flow": null,
       "grid_auto_rows": null,
       "grid_column": null,
       "grid_gap": null,
       "grid_row": null,
       "grid_template_areas": null,
       "grid_template_columns": null,
       "grid_template_rows": null,
       "height": null,
       "justify_content": null,
       "justify_items": null,
       "left": null,
       "margin": null,
       "max_height": null,
       "max_width": null,
       "min_height": null,
       "min_width": null,
       "object_fit": null,
       "object_position": null,
       "order": null,
       "overflow": null,
       "overflow_x": null,
       "overflow_y": null,
       "padding": null,
       "right": null,
       "top": null,
       "visibility": null,
       "width": null
      }
     }
    },
    "version_major": 2,
    "version_minor": 0
   }
  }
 },
 "nbformat": 4,
 "nbformat_minor": 5
}
