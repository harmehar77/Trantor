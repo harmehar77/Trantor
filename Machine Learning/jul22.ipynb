{
 "cells": [
  {
   "cell_type": "code",
   "execution_count": 1,
   "metadata": {},
   "outputs": [],
   "source": [
    "import numpy as np\n",
    "from scipy import stats as st"
   ]
  },
  {
   "cell_type": "code",
   "execution_count": 2,
   "metadata": {},
   "outputs": [
    {
     "name": "stdout",
     "output_type": "stream",
     "text": [
      "[6 5 6 3 1 4 5 4 4 5]\n",
      "10\n"
     ]
    }
   ],
   "source": [
    "a1 = np.random.randint(1,10,10)\n",
    "print(a1)\n",
    "print(len(a1))"
   ]
  },
  {
   "cell_type": "code",
   "execution_count": 3,
   "metadata": {},
   "outputs": [
    {
     "name": "stdout",
     "output_type": "stream",
     "text": [
      "[1 3 4 4 4 5 5 5 6 6]\n",
      "Mean of array: 4.3\n"
     ]
    }
   ],
   "source": [
    "a1 = np.sort(a1)\n",
    "print(a1)\n",
    "print(f\"Mean of array: {np.mean(a1)}\")"
   ]
  },
  {
   "cell_type": "code",
   "execution_count": 4,
   "metadata": {},
   "outputs": [
    {
     "name": "stdout",
     "output_type": "stream",
     "text": [
      "Median of array: 4.5\n"
     ]
    }
   ],
   "source": [
    "print(f\"Median of array: {np.median(a1)}\")"
   ]
  },
  {
   "cell_type": "code",
   "execution_count": 5,
   "metadata": {},
   "outputs": [
    {
     "name": "stdout",
     "output_type": "stream",
     "text": [
      "1.4177446878757827\n"
     ]
    }
   ],
   "source": [
    "print(np.std(a1))"
   ]
  },
  {
   "cell_type": "code",
   "execution_count": 7,
   "metadata": {},
   "outputs": [
    {
     "name": "stdout",
     "output_type": "stream",
     "text": [
      "ModeResult(mode=np.int64(4), count=np.int64(3))\n"
     ]
    }
   ],
   "source": [
    "print(st.mode(a1))"
   ]
  },
  {
   "cell_type": "code",
   "execution_count": 26,
   "metadata": {},
   "outputs": [
    {
     "name": "stdout",
     "output_type": "stream",
     "text": [
      "[[ 0  1  2  3]\n",
      " [ 4  5  6  7]\n",
      " [ 8  9 10 11]\n",
      " [12 13 14 15]]\n"
     ]
    }
   ],
   "source": [
    "arr = np.arange(0,16).reshape(4,4)\n",
    "print(arr)"
   ]
  },
  {
   "cell_type": "code",
   "execution_count": 56,
   "metadata": {},
   "outputs": [
    {
     "data": {
      "text/plain": [
       "array([ 7, 11, 20, 20, 20, 26, 40, 62, 81, 98])"
      ]
     },
     "execution_count": 56,
     "metadata": {},
     "output_type": "execute_result"
    }
   ],
   "source": [
    "arr_random = np.random.randint(0,100,10)\n",
    "arr_random = np.sort(arr_random)\n",
    "arr_random"
   ]
  },
  {
   "cell_type": "code",
   "execution_count": 59,
   "metadata": {},
   "outputs": [
    {
     "name": "stdout",
     "output_type": "stream",
     "text": [
      "mean: 38.5 Standard deviation:  29.71952220342716\n",
      "Normalized array:  [-1.05990937 -0.9253177  -0.62248645 -0.62248645 -0.62248645 -0.42059896\n",
      "  0.05047187  0.79072604  1.43003645  2.00205103]\n",
      "0\n",
      "1\n"
     ]
    }
   ],
   "source": [
    "arr_mean = np.mean(arr_random)\n",
    "arr_sd = np.std(arr_random)\n",
    "print(\"mean:\",arr_mean,\"Standard deviation: \",arr_sd)\n",
    "arr_normalized = (arr_random-arr_mean)/arr_sd\n",
    "print(\"Normalized array: \",arr_normalized)\n",
    "print(round(np.mean(arr_normalized)))\n",
    "print(round(np.std(arr_normalized)))"
   ]
  },
  {
   "cell_type": "code",
   "execution_count": 77,
   "metadata": {},
   "outputs": [
    {
     "name": "stdout",
     "output_type": "stream",
     "text": [
      "Added arrays:\n",
      " [[19  9  4  6 10]\n",
      " [15  3 13  7 11]\n",
      " [17  4  6 17  7]\n",
      " [10 10 10 12 14]\n",
      " [ 5 15  9  7 10]]\n",
      "Subtracted arrays:\n",
      " [[-1 -7  0  2 -4]\n",
      " [-1  1  7  1 -7]\n",
      " [ 1 -2 -4 -1  1]\n",
      " [ 2  2  6  0  2]\n",
      " [ 1  3  1 -5  0]]\n",
      "Multiplied arrays:\n",
      " [[90  8  4  8 21]\n",
      " [56  2 30 12 18]\n",
      " [72  3  5 72 12]\n",
      " [24 24 16 36 48]\n",
      " [ 6 54 20  6 25]]\n"
     ]
    },
    {
     "ename": "TypeError",
     "evalue": "type numpy.ndarray doesn't define __round__ method",
     "output_type": "error",
     "traceback": [
      "\u001b[0;31m---------------------------------------------------------------------------\u001b[0m",
      "\u001b[0;31mTypeError\u001b[0m                                 Traceback (most recent call last)",
      "Cell \u001b[0;32mIn[77], line 10\u001b[0m\n\u001b[1;32m      8\u001b[0m multiplied \u001b[38;5;241m=\u001b[39m np\u001b[38;5;241m.\u001b[39mmultiply(arr1,arr2)\n\u001b[1;32m      9\u001b[0m \u001b[38;5;28mprint\u001b[39m(\u001b[38;5;124m\"\u001b[39m\u001b[38;5;124mMultiplied arrays:\u001b[39m\u001b[38;5;130;01m\\n\u001b[39;00m\u001b[38;5;124m\"\u001b[39m,multiplied)\n\u001b[0;32m---> 10\u001b[0m divided \u001b[38;5;241m=\u001b[39m \u001b[38;5;28;43mround\u001b[39;49m\u001b[43m(\u001b[49m\u001b[43mnp\u001b[49m\u001b[38;5;241;43m.\u001b[39;49m\u001b[43mdivide\u001b[49m\u001b[43m(\u001b[49m\u001b[43marr1\u001b[49m\u001b[43m,\u001b[49m\u001b[43marr2\u001b[49m\u001b[43m)\u001b[49m\u001b[43m,\u001b[49m\u001b[38;5;241;43m2\u001b[39;49m\u001b[43m)\u001b[49m\n\u001b[1;32m     11\u001b[0m \u001b[38;5;28mprint\u001b[39m(\u001b[38;5;124m\"\u001b[39m\u001b[38;5;124mDivided arrays:\u001b[39m\u001b[38;5;130;01m\\n\u001b[39;00m\u001b[38;5;124m\"\u001b[39m,divided)\n",
      "\u001b[0;31mTypeError\u001b[0m: type numpy.ndarray doesn't define __round__ method"
     ]
    }
   ],
   "source": [
    "arr1 = np.random.randint(1,11,size=(5,5))\n",
    "arr2 = np.random.randint(1,11,size=(5,5))\n",
    "#print(\"Array 1:\\n\",arr1,\"\\nArray 2:\\n\",arr2)\n",
    "added = np.add(arr1,arr2)\n",
    "print(\"Added arrays:\\n\",added)\n",
    "subtracted = np.subtract(arr1,arr2)\n",
    "print(\"Subtracted arrays:\\n\",subtracted)\n",
    "multiplied = np.multiply(arr1,arr2)\n",
    "print(\"Multiplied arrays:\\n\",multiplied)\n",
    "divided = np.divide(arr1,arr2)\n",
    "print(\"Divided arrays:\\n\",divided)"
   ]
  },
  {
   "cell_type": "code",
   "execution_count": 84,
   "metadata": {},
   "outputs": [
    {
     "data": {
      "text/plain": [
       "array([[0., 0., 0.],\n",
       "       [0., 0., 0.]])"
      ]
     },
     "execution_count": 84,
     "metadata": {},
     "output_type": "execute_result"
    }
   ],
   "source": [
    "arr = np.zeros((2,3))\n",
    "arr"
   ]
  },
  {
   "cell_type": "code",
   "execution_count": null,
   "metadata": {},
   "outputs": [],
   "source": []
  }
 ],
 "metadata": {
  "kernelspec": {
   "display_name": "myenv1",
   "language": "python",
   "name": "python3"
  },
  "language_info": {
   "codemirror_mode": {
    "name": "ipython",
    "version": 3
   },
   "file_extension": ".py",
   "mimetype": "text/x-python",
   "name": "python",
   "nbconvert_exporter": "python",
   "pygments_lexer": "ipython3",
   "version": "3.10.12"
  }
 },
 "nbformat": 4,
 "nbformat_minor": 2
}
